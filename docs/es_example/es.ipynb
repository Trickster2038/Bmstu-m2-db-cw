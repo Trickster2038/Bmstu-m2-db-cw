{
 "cells": [
  {
   "cell_type": "code",
   "execution_count": 1,
   "id": "d84be537-6d19-4a59-be33-68f8c7fd6d48",
   "metadata": {},
   "outputs": [],
   "source": [
    "import json\n",
    "from elasticsearch import Elasticsearch"
   ]
  },
  {
   "cell_type": "code",
   "execution_count": 36,
   "id": "96c5bd58-0be9-4bd3-8ab6-09522e92e505",
   "metadata": {},
   "outputs": [
    {
     "data": {
      "text/plain": [
       "True"
      ]
     },
     "execution_count": 36,
     "metadata": {},
     "output_type": "execute_result"
    }
   ],
   "source": [
    "client = Elasticsearch([{\"host\": \"127.0.0.1\", \"scheme\": \"http\", \"port\": 9200}])\n",
    "\n",
    "client.ping()"
   ]
  },
  {
   "cell_type": "code",
   "execution_count": 34,
   "id": "5ea7110b-db30-4063-9ce8-fd057af93de2",
   "metadata": {},
   "outputs": [
    {
     "data": {
      "text/plain": [
       "ObjectApiResponse({'acknowledged': True})"
      ]
     },
     "execution_count": 34,
     "metadata": {},
     "output_type": "execute_result"
    }
   ],
   "source": [
    "indexName = \"medical\"\n",
    "# client.indices.delete(index=indexName)\n",
    "client.indices.create(index=indexName)"
   ]
  },
  {
   "cell_type": "code",
   "execution_count": 28,
   "id": "2d9640a9-0af6-4647-946b-f0d6ca752e81",
   "metadata": {},
   "outputs": [
    {
     "data": {
      "text/plain": [
       "ObjectApiResponse({'acknowledged': True})"
      ]
     },
     "execution_count": 28,
     "metadata": {},
     "output_type": "execute_result"
    }
   ],
   "source": [
    "diseaseMapping = {\n",
    "            \"properties\": {\n",
    "                \"name\": {\n",
    "                    \"type\": \"text\",\n",
    "                    \"fielddata\": True\n",
    "                },\n",
    "                \"title\": {\n",
    "                    \"type\": \"text\",\n",
    "                    \"fielddata\": True\n",
    "                },\n",
    "                \"fulltext\": {\n",
    "                    \"type\": \"text\",\n",
    "                    \"fielddata\": True\n",
    "                }\n",
    "            }\n",
    "}\n",
    "\n",
    "client.indices.put_mapping(index=indexName, \n",
    "                            # doc_type=\"diseases\", \n",
    "                           # include_type_name=\"true\", \n",
    "                           body=diseaseMapping)"
   ]
  },
  {
   "cell_type": "code",
   "execution_count": 30,
   "id": "d6cb8865-88a6-4bf8-ba25-460ad7fe1cf5",
   "metadata": {},
   "outputs": [
    {
     "name": "stdout",
     "output_type": "stream",
     "text": [
      "Connection timed outConnection timed outConnection timed outConnection timed outConnection timed outConnection timed outConnection timed outConnection timed outConnection timed outConnection timed outConnection timed out"
     ]
    },
    {
     "name": "stderr",
     "output_type": "stream",
     "text": [
      "\n",
      "KeyboardInterrupt\n",
      "\n"
     ]
    }
   ],
   "source": [
    "with open('data.json', 'r') as f:\n",
    "    dataStore = json.load(f)\n",
    "\n",
    "for data in dataStore:\n",
    "    try:\n",
    "        client.index(\n",
    "            index=data[\"index\"],\n",
    "            # doc_type=data[\"doc_type\"],\n",
    "            id=data[\"id\"],\n",
    "            body=data[\"body\"]\n",
    "        )\n",
    "    except Exception as e:\n",
    "        print(e, end=\"\")\n",
    "print(\"ok\")"
   ]
  },
  {
   "cell_type": "markdown",
   "id": "dc5a3257-77f3-4786-8822-00cfb557713f",
   "metadata": {},
   "source": [
    "## Запрос 1-3"
   ]
  },
  {
   "cell_type": "code",
   "execution_count": 39,
   "id": "e86e41c0-ff31-4549-8fcb-8be75be9c459",
   "metadata": {},
   "outputs": [],
   "source": [
    "indexName = \"medical\"\n",
    "docType = \"diseases\"\n",
    "searchFrom = 0\n",
    "searchSize = 3\n",
    "\n",
    "# 1\n",
    "searchBody = {\n",
    "    \"_source\": [\"name\"],\n",
    "    \"query\": {\n",
    "        \"simple_query_string\": {\n",
    "            \"query\": '+fatigue+fever+\"joint pain\"',\n",
    "            \"fields\": [\"fulltext\", \"title^5\", \"name^10\"]\n",
    "        }\n",
    "    }\n",
    "}\n",
    "result = client.search(index=indexName, body=searchBody, from_=searchFrom, size=searchSize)"
   ]
  },
  {
   "cell_type": "code",
   "execution_count": 50,
   "id": "dfe484c1-a5e0-46e1-8aec-6d107c85d098",
   "metadata": {},
   "outputs": [
    {
     "data": {
      "text/plain": [
       "ObjectApiResponse({'took': 8396, 'timed_out': False, '_shards': {'total': 1, 'successful': 1, 'skipped': 0, 'failed': 0}, 'hits': {'total': {'value': 33, 'relation': 'eq'}, 'max_score': 116.35371, 'hits': [{'_index': 'medical', '_id': 'Chronic fatigue syndrome', '_score': 116.35371, '_source': {'name': 'Chronic fatigue syndrome'}}, {'_index': 'medical', '_id': 'Chronic fatigue immune dysfunction syndrome', '_score': 99.84779, '_source': {'name': 'Chronic fatigue immune dysfunction syndrome'}}, {'_index': 'medical', '_id': 'Encephalomyelitis, myalgic', '_score': 39.252914, '_source': {'name': 'Encephalomyelitis, myalgic'}}]}})"
      ]
     },
     "execution_count": 50,
     "metadata": {},
     "output_type": "execute_result"
    }
   ],
   "source": [
    "result"
   ]
  },
  {
   "cell_type": "code",
   "execution_count": 52,
   "id": "cc2dc825-9c15-481b-80a0-8a02a205ec9e",
   "metadata": {},
   "outputs": [
    {
     "data": {
      "text/plain": [
       "{'total': {'value': 33, 'relation': 'eq'},\n",
       " 'max_score': 116.35371,\n",
       " 'hits': [{'_index': 'medical',\n",
       "   '_id': 'Chronic fatigue syndrome',\n",
       "   '_score': 116.35371,\n",
       "   '_source': {'name': 'Chronic fatigue syndrome'}},\n",
       "  {'_index': 'medical',\n",
       "   '_id': 'Chronic fatigue immune dysfunction syndrome',\n",
       "   '_score': 99.84779,\n",
       "   '_source': {'name': 'Chronic fatigue immune dysfunction syndrome'}},\n",
       "  {'_index': 'medical',\n",
       "   '_id': 'Encephalomyelitis, myalgic',\n",
       "   '_score': 39.252914,\n",
       "   '_source': {'name': 'Encephalomyelitis, myalgic'}}]}"
      ]
     },
     "execution_count": 52,
     "metadata": {},
     "output_type": "execute_result"
    }
   ],
   "source": [
    "result['hits']"
   ]
  },
  {
   "cell_type": "code",
   "execution_count": 61,
   "id": "73d08115-a871-47e9-a93d-d1c4f2b170da",
   "metadata": {},
   "outputs": [],
   "source": [
    "# 2\n",
    "searchBody = {\n",
    "    \"_source\": [\"name\"],\n",
    "    \"query\": {\n",
    "        \"simple_query_string\": {\n",
    "            \"query\": '+fatigue+fever+\"joint pain\"+rash',\n",
    "            \"fields\": [\"fulltext\", \"title^5\", \"name^10\"]\n",
    "        }\n",
    "    }\n",
    "}\n",
    "result = client.search(index=indexName, body=searchBody, from_=searchFrom, size=searchSize)"
   ]
  },
  {
   "cell_type": "code",
   "execution_count": 62,
   "id": "badea229-1af5-439d-b572-d39b5f711bb0",
   "metadata": {},
   "outputs": [
    {
     "data": {
      "text/plain": [
       "ObjectApiResponse({'took': 1776, 'timed_out': False, '_shards': {'total': 1, 'successful': 1, 'skipped': 0, 'failed': 0}, 'hits': {'total': {'value': 16, 'relation': 'eq'}, 'max_score': 13.86566, 'hits': [{'_index': 'medical', '_id': 'Chikungunya', '_score': 13.86566, '_source': {'name': 'Chikungunya'}}, {'_index': 'medical', '_id': 'Cutaneous lupus erythematosus', '_score': 13.500596, '_source': {'name': 'Cutaneous lupus erythematosus'}}, {'_index': 'medical', '_id': 'Lupus erythematosus', '_score': 13.500596, '_source': {'name': 'Lupus erythematosus'}}]}})"
      ]
     },
     "execution_count": 62,
     "metadata": {},
     "output_type": "execute_result"
    }
   ],
   "source": [
    "result"
   ]
  },
  {
   "cell_type": "code",
   "execution_count": 63,
   "id": "40eac8c4-3a8c-4eed-94bd-e774311fa256",
   "metadata": {},
   "outputs": [
    {
     "data": {
      "text/plain": [
       "{'total': {'value': 16, 'relation': 'eq'},\n",
       " 'max_score': 13.86566,\n",
       " 'hits': [{'_index': 'medical',\n",
       "   '_id': 'Chikungunya',\n",
       "   '_score': 13.86566,\n",
       "   '_source': {'name': 'Chikungunya'}},\n",
       "  {'_index': 'medical',\n",
       "   '_id': 'Cutaneous lupus erythematosus',\n",
       "   '_score': 13.500596,\n",
       "   '_source': {'name': 'Cutaneous lupus erythematosus'}},\n",
       "  {'_index': 'medical',\n",
       "   '_id': 'Lupus erythematosus',\n",
       "   '_score': 13.500596,\n",
       "   '_source': {'name': 'Lupus erythematosus'}}]}"
      ]
     },
     "execution_count": 63,
     "metadata": {},
     "output_type": "execute_result"
    }
   ],
   "source": [
    "result['hits']"
   ]
  },
  {
   "cell_type": "code",
   "execution_count": 64,
   "id": "5b827ed7-506a-42b6-a5ea-a2d71e5a4e12",
   "metadata": {},
   "outputs": [
    {
     "data": {
      "text/plain": [
       "ObjectApiResponse({'took': 417, 'timed_out': False, '_shards': {'total': 1, 'successful': 1, 'skipped': 0, 'failed': 0}, 'hits': {'total': {'value': 2, 'relation': 'eq'}, 'max_score': 20.476803, 'hits': [{'_index': 'medical', '_id': 'Cutaneous lupus erythematosus', '_score': 20.476803, '_source': {'name': 'Cutaneous lupus erythematosus'}}, {'_index': 'medical', '_id': 'Lupus erythematosus', '_score': 20.476803, '_source': {'name': 'Lupus erythematosus'}}]}})"
      ]
     },
     "execution_count": 64,
     "metadata": {},
     "output_type": "execute_result"
    }
   ],
   "source": [
    "# 3\n",
    "searchBody = {\n",
    "    \"_source\": [\"name\"],\n",
    "    \"query\": {\n",
    "        \"simple_query_string\": {\n",
    "            \"query\": '+fatigue+fever+\"joint pain\"+rash+\"sensitivity to sunlight\"',\n",
    "            \"fields\": [\"fulltext\", \"title^5\", \"name^10\"]\n",
    "        }\n",
    "    }\n",
    "}\n",
    "result = client.search(index=indexName, body=searchBody, from_=searchFrom, size=searchSize)\n",
    "result"
   ]
  },
  {
   "cell_type": "code",
   "execution_count": 65,
   "id": "7589f2f4-81f3-4b61-a170-bdb02b0008ff",
   "metadata": {},
   "outputs": [
    {
     "data": {
      "text/plain": [
       "{'total': {'value': 2, 'relation': 'eq'},\n",
       " 'max_score': 20.476803,\n",
       " 'hits': [{'_index': 'medical',\n",
       "   '_id': 'Cutaneous lupus erythematosus',\n",
       "   '_score': 20.476803,\n",
       "   '_source': {'name': 'Cutaneous lupus erythematosus'}},\n",
       "  {'_index': 'medical',\n",
       "   '_id': 'Lupus erythematosus',\n",
       "   '_score': 20.476803,\n",
       "   '_source': {'name': 'Lupus erythematosus'}}]}"
      ]
     },
     "execution_count": 65,
     "metadata": {},
     "output_type": "execute_result"
    }
   ],
   "source": [
    "result['hits']"
   ]
  },
  {
   "cell_type": "markdown",
   "id": "93b7c95d-c3bb-4e6d-8339-a8fa3371d700",
   "metadata": {},
   "source": [
    "## Запрос 4-6"
   ]
  },
  {
   "cell_type": "code",
   "execution_count": 53,
   "id": "bf792e6c-7171-48ce-86cc-0b0eb68037e5",
   "metadata": {},
   "outputs": [
    {
     "data": {
      "text/plain": [
       "ObjectApiResponse({'took': 4884, 'timed_out': False, '_shards': {'total': 1, 'successful': 1, 'skipped': 0, 'failed': 0}, 'hits': {'total': {'value': 31, 'relation': 'eq'}, 'max_score': 5.9901114, 'hits': [{'_index': 'medical', '_id': 'Diabetes insipidus', '_score': 5.9901114, '_source': {'name': 'Diabetes insipidus'}}, {'_index': 'medical', '_id': 'Diabetes mellitus', '_score': 5.9901114, '_source': {'name': 'Diabetes mellitus'}}, {'_index': 'medical', '_id': 'Phosphate diabetes', '_score': 5.9901114, '_source': {'name': 'Phosphate diabetes'}}]}, 'aggregations': {'DiseaseKeywords': {'doc_count': 31, 'bg_count': 5540, 'buckets': [{'key': 'siphon', 'doc_count': 10, 'score': 52.08494938984013, 'bg_count': 11}, {'key': 'diabainein', 'doc_count': 9, 'score': 51.59313215400625, 'bg_count': 9}, {'key': 'bainein', 'doc_count': 9, 'score': 51.59313215400625, 'bg_count': 9}, {'key': 'ndi', 'doc_count': 8, 'score': 45.86056191467221, 'bg_count': 8}, {'key': 'passer', 'doc_count': 9, 'score': 42.159776747706, 'bg_count': 11}, {'key': 'sapere', 'doc_count': 7, 'score': 40.127991675338194, 'bg_count': 7}, {'key': 'tasty', 'doc_count': 7, 'score': 40.127991675338194, 'bg_count': 7}, {'key': 'sapidus', 'doc_count': 7, 'score': 40.127991675338194, 'bg_count': 7}, {'key': 'avp', 'doc_count': 8, 'score': 36.636836628511965, 'bg_count': 10}, {'key': 'defect.the', 'doc_count': 6, 'score': 34.39542143600416, 'bg_count': 6}]}}})"
      ]
     },
     "execution_count": 53,
     "metadata": {},
     "output_type": "execute_result"
    }
   ],
   "source": [
    "#4\n",
    "searchBody={\n",
    "      \"_source\": [\"name\"],\n",
    "      \"query\": {\n",
    "              \"query_string\" :  {\n",
    "                         \"query\": \"name: diabetes\"\n",
    "               }\n",
    "       },\n",
    "       \"aggregations\" : {\n",
    "              \"DiseaseKeywords\" : {\n",
    "                   \"significant_terms\" : { \"field\" : \"fulltext\", \"size\" : 10 }\n",
    "               }\n",
    "       }\n",
    "   }\n",
    "result=client.search(index=indexName, body=searchBody, from_ = searchFrom, size=searchSize)\n",
    "result"
   ]
  },
  {
   "cell_type": "code",
   "execution_count": 60,
   "id": "d102bbe0-be27-4235-ad24-c7ce0f7a8a45",
   "metadata": {},
   "outputs": [
    {
     "data": {
      "text/plain": [
       "{'total': {'value': 31, 'relation': 'eq'},\n",
       " 'max_score': 5.9901114,\n",
       " 'hits': [{'_index': 'medical',\n",
       "   '_id': 'Diabetes insipidus',\n",
       "   '_score': 5.9901114,\n",
       "   '_source': {'name': 'Diabetes insipidus'}},\n",
       "  {'_index': 'medical',\n",
       "   '_id': 'Diabetes mellitus',\n",
       "   '_score': 5.9901114,\n",
       "   '_source': {'name': 'Diabetes mellitus'}},\n",
       "  {'_index': 'medical',\n",
       "   '_id': 'Phosphate diabetes',\n",
       "   '_score': 5.9901114,\n",
       "   '_source': {'name': 'Phosphate diabetes'}}]}"
      ]
     },
     "execution_count": 60,
     "metadata": {},
     "output_type": "execute_result"
    }
   ],
   "source": [
    "result['hits']"
   ]
  },
  {
   "cell_type": "code",
   "execution_count": 59,
   "id": "043a67e3-47fd-472e-89a5-8c1fef9c3f95",
   "metadata": {},
   "outputs": [
    {
     "data": {
      "text/plain": [
       "{'doc_count': 31,\n",
       " 'bg_count': 5540,\n",
       " 'buckets': [{'key': 'siphon',\n",
       "   'doc_count': 10,\n",
       "   'score': 52.08494938984013,\n",
       "   'bg_count': 11},\n",
       "  {'key': 'diabainein',\n",
       "   'doc_count': 9,\n",
       "   'score': 51.59313215400625,\n",
       "   'bg_count': 9},\n",
       "  {'key': 'bainein',\n",
       "   'doc_count': 9,\n",
       "   'score': 51.59313215400625,\n",
       "   'bg_count': 9},\n",
       "  {'key': 'ndi', 'doc_count': 8, 'score': 45.86056191467221, 'bg_count': 8},\n",
       "  {'key': 'passer', 'doc_count': 9, 'score': 42.159776747706, 'bg_count': 11},\n",
       "  {'key': 'sapere',\n",
       "   'doc_count': 7,\n",
       "   'score': 40.127991675338194,\n",
       "   'bg_count': 7},\n",
       "  {'key': 'tasty', 'doc_count': 7, 'score': 40.127991675338194, 'bg_count': 7},\n",
       "  {'key': 'sapidus',\n",
       "   'doc_count': 7,\n",
       "   'score': 40.127991675338194,\n",
       "   'bg_count': 7},\n",
       "  {'key': 'avp', 'doc_count': 8, 'score': 36.636836628511965, 'bg_count': 10},\n",
       "  {'key': 'defect.the',\n",
       "   'doc_count': 6,\n",
       "   'score': 34.39542143600416,\n",
       "   'bg_count': 6}]}"
      ]
     },
     "execution_count": 59,
     "metadata": {},
     "output_type": "execute_result"
    }
   ],
   "source": [
    "result['aggregations']['DiseaseKeywords']"
   ]
  },
  {
   "cell_type": "code",
   "execution_count": 66,
   "id": "0b065ec9-46d5-468f-9a97-02c40a7aa0e9",
   "metadata": {},
   "outputs": [
    {
     "data": {
      "text/plain": [
       "ObjectApiResponse({'took': 1197, 'timed_out': False, '_shards': {'total': 1, 'successful': 1, 'skipped': 0, 'failed': 0}, 'hits': {'total': {'value': 31, 'relation': 'eq'}, 'max_score': 13.25312, 'hits': [{'_index': 'medical', '_id': 'Diabetes insipidus', '_score': 13.25312, '_source': {'name': 'Diabetes insipidus'}}, {'_index': 'medical', '_id': 'Central diabetes insipidus', '_score': 11.448059, '_source': {'name': 'Central diabetes insipidus'}}, {'_index': 'medical', '_id': 'Nephrogenic diabetes insipidus', '_score': 11.448059, '_source': {'name': 'Nephrogenic diabetes insipidus'}}]}, 'aggregations': {'DiseaseKeywords': {'doc_count': 31, 'bg_count': 5540, 'buckets': [{'key': 'siphon', 'doc_count': 10, 'score': 52.08494938984013, 'bg_count': 11}, {'key': 'diabainein', 'doc_count': 9, 'score': 51.59313215400625, 'bg_count': 9}, {'key': 'bainein', 'doc_count': 9, 'score': 51.59313215400625, 'bg_count': 9}, {'key': 'ndi', 'doc_count': 8, 'score': 45.86056191467221, 'bg_count': 8}, {'key': 'passer', 'doc_count': 9, 'score': 42.159776747706, 'bg_count': 11}, {'key': 'sapere', 'doc_count': 7, 'score': 40.127991675338194, 'bg_count': 7}, {'key': 'tasty', 'doc_count': 7, 'score': 40.127991675338194, 'bg_count': 7}, {'key': 'sapidus', 'doc_count': 7, 'score': 40.127991675338194, 'bg_count': 7}, {'key': 'avp', 'doc_count': 8, 'score': 36.636836628511965, 'bg_count': 10}, {'key': 'defect.the', 'doc_count': 6, 'score': 34.39542143600416, 'bg_count': 6}]}}})"
      ]
     },
     "execution_count": 66,
     "metadata": {},
     "output_type": "execute_result"
    }
   ],
   "source": [
    "#5\n",
    "searchBody={\n",
    "      \"_source\": [\"name\"],\n",
    "      \"query\": {\n",
    "              \"query_string\" :  {\n",
    "                         \"query\": \"name: diabetes+insipidus\"\n",
    "               }\n",
    "       },\n",
    "       \"aggregations\" : {\n",
    "              \"DiseaseKeywords\" : {\n",
    "                   \"significant_terms\" : { \"field\" : \"fulltext\", \"size\" : 10 }\n",
    "               }\n",
    "       }\n",
    "   }\n",
    "result=client.search(index=indexName, body=searchBody, from_ = searchFrom, size=searchSize)\n",
    "result"
   ]
  },
  {
   "cell_type": "code",
   "execution_count": 67,
   "id": "4c0525e0-a967-4a96-8ad3-6b626bfd6c1d",
   "metadata": {},
   "outputs": [
    {
     "data": {
      "text/plain": [
       "{'total': {'value': 31, 'relation': 'eq'},\n",
       " 'max_score': 13.25312,\n",
       " 'hits': [{'_index': 'medical',\n",
       "   '_id': 'Diabetes insipidus',\n",
       "   '_score': 13.25312,\n",
       "   '_source': {'name': 'Diabetes insipidus'}},\n",
       "  {'_index': 'medical',\n",
       "   '_id': 'Central diabetes insipidus',\n",
       "   '_score': 11.448059,\n",
       "   '_source': {'name': 'Central diabetes insipidus'}},\n",
       "  {'_index': 'medical',\n",
       "   '_id': 'Nephrogenic diabetes insipidus',\n",
       "   '_score': 11.448059,\n",
       "   '_source': {'name': 'Nephrogenic diabetes insipidus'}}]}"
      ]
     },
     "execution_count": 67,
     "metadata": {},
     "output_type": "execute_result"
    }
   ],
   "source": [
    "result['hits']"
   ]
  },
  {
   "cell_type": "code",
   "execution_count": 68,
   "id": "a31c5891-9ea3-4597-91fc-0f448009998e",
   "metadata": {},
   "outputs": [
    {
     "data": {
      "text/plain": [
       "{'doc_count': 31,\n",
       " 'bg_count': 5540,\n",
       " 'buckets': [{'key': 'siphon',\n",
       "   'doc_count': 10,\n",
       "   'score': 52.08494938984013,\n",
       "   'bg_count': 11},\n",
       "  {'key': 'diabainein',\n",
       "   'doc_count': 9,\n",
       "   'score': 51.59313215400625,\n",
       "   'bg_count': 9},\n",
       "  {'key': 'bainein',\n",
       "   'doc_count': 9,\n",
       "   'score': 51.59313215400625,\n",
       "   'bg_count': 9},\n",
       "  {'key': 'ndi', 'doc_count': 8, 'score': 45.86056191467221, 'bg_count': 8},\n",
       "  {'key': 'passer', 'doc_count': 9, 'score': 42.159776747706, 'bg_count': 11},\n",
       "  {'key': 'sapere',\n",
       "   'doc_count': 7,\n",
       "   'score': 40.127991675338194,\n",
       "   'bg_count': 7},\n",
       "  {'key': 'tasty', 'doc_count': 7, 'score': 40.127991675338194, 'bg_count': 7},\n",
       "  {'key': 'sapidus',\n",
       "   'doc_count': 7,\n",
       "   'score': 40.127991675338194,\n",
       "   'bg_count': 7},\n",
       "  {'key': 'avp', 'doc_count': 8, 'score': 36.636836628511965, 'bg_count': 10},\n",
       "  {'key': 'defect.the',\n",
       "   'doc_count': 6,\n",
       "   'score': 34.39542143600416,\n",
       "   'bg_count': 6}]}"
      ]
     },
     "execution_count": 68,
     "metadata": {},
     "output_type": "execute_result"
    }
   ],
   "source": [
    "result['aggregations']['DiseaseKeywords']"
   ]
  },
  {
   "cell_type": "code",
   "execution_count": 101,
   "id": "cb076c06-eb78-4d14-b7d3-859ad0bc2ef2",
   "metadata": {},
   "outputs": [
    {
     "data": {
      "text/plain": [
       "ObjectApiResponse({'took': 253, 'timed_out': False, '_shards': {'total': 1, 'successful': 1, 'skipped': 0, 'failed': 0}, 'hits': {'total': {'value': 35, 'relation': 'eq'}, 'max_score': 5.241348, 'hits': [{'_index': 'medical', '_id': 'Diabetes insipidus', '_score': 5.241348, '_source': {'name': 'Diabetes insipidus'}}, {'_index': 'medical', '_id': 'Diabetes mellitus', '_score': 5.241348, '_source': {'name': 'Diabetes mellitus'}}, {'_index': 'medical', '_id': 'Phosphate diabetes', '_score': 5.241348, '_source': {'name': 'Phosphate diabetes'}}]}, 'aggregations': {'DiseaseKeywords': {'doc_count': 35, 'bg_count': 5540, 'buckets': [{'key': 'siphon', 'doc_count': 10, 'score': 40.82745825602968, 'bg_count': 11}, {'key': 'diabainein', 'doc_count': 9, 'score': 40.444897959183656, 'bg_count': 9}, {'key': 'bainein', 'doc_count': 9, 'score': 40.444897959183656, 'bg_count': 9}, {'key': 'ndi', 'doc_count': 8, 'score': 35.95102040816327, 'bg_count': 8}, {'key': 'passer', 'doc_count': 9, 'score': 33.044526901669755, 'bg_count': 11}, {'key': 'sapere', 'doc_count': 7, 'score': 31.457142857142866, 'bg_count': 7}, {'key': 'tasty', 'doc_count': 7, 'score': 31.457142857142866, 'bg_count': 7}, {'key': 'sapidus', 'doc_count': 7, 'score': 31.457142857142866, 'bg_count': 7}, {'key': 'avp', 'doc_count': 8, 'score': 28.715102040816323, 'bg_count': 10}, {'key': 'vaptanes', 'doc_count': 6, 'score': 26.963265306122448, 'bg_count': 6}]}}})"
      ]
     },
     "execution_count": 101,
     "metadata": {},
     "output_type": "execute_result"
    }
   ],
   "source": [
    "#6\n",
    "searchBody={\n",
    "      \"_source\": [\"name\"],\n",
    "      \"query\": {\n",
    "              \"fuzzy\" :  {\n",
    "                         \"name\": { \"value\": \"diabetse\"}\n",
    "               }\n",
    "       },\n",
    "       \"aggregations\" : {\n",
    "              \"DiseaseKeywords\" : {\n",
    "                   \"significant_terms\" : { \"field\" : \"fulltext\", \"size\" : 10 }\n",
    "               }\n",
    "       }\n",
    "   }\n",
    "result=client.search(index=indexName, body=searchBody, from_ = searchFrom, size=searchSize)\n",
    "result"
   ]
  },
  {
   "cell_type": "code",
   "execution_count": 102,
   "id": "2ce9eb89-fd73-4364-844f-61915db505c1",
   "metadata": {},
   "outputs": [
    {
     "data": {
      "text/plain": [
       "{'total': {'value': 35, 'relation': 'eq'},\n",
       " 'max_score': 5.241348,\n",
       " 'hits': [{'_index': 'medical',\n",
       "   '_id': 'Diabetes insipidus',\n",
       "   '_score': 5.241348,\n",
       "   '_source': {'name': 'Diabetes insipidus'}},\n",
       "  {'_index': 'medical',\n",
       "   '_id': 'Diabetes mellitus',\n",
       "   '_score': 5.241348,\n",
       "   '_source': {'name': 'Diabetes mellitus'}},\n",
       "  {'_index': 'medical',\n",
       "   '_id': 'Phosphate diabetes',\n",
       "   '_score': 5.241348,\n",
       "   '_source': {'name': 'Phosphate diabetes'}}]}"
      ]
     },
     "execution_count": 102,
     "metadata": {},
     "output_type": "execute_result"
    }
   ],
   "source": [
    "result['hits']"
   ]
  },
  {
   "cell_type": "code",
   "execution_count": 103,
   "id": "5bf62046-e387-4542-8086-7ed219e05af7",
   "metadata": {},
   "outputs": [
    {
     "data": {
      "text/plain": [
       "{'doc_count': 35,\n",
       " 'bg_count': 5540,\n",
       " 'buckets': [{'key': 'siphon',\n",
       "   'doc_count': 10,\n",
       "   'score': 40.82745825602968,\n",
       "   'bg_count': 11},\n",
       "  {'key': 'diabainein',\n",
       "   'doc_count': 9,\n",
       "   'score': 40.444897959183656,\n",
       "   'bg_count': 9},\n",
       "  {'key': 'bainein',\n",
       "   'doc_count': 9,\n",
       "   'score': 40.444897959183656,\n",
       "   'bg_count': 9},\n",
       "  {'key': 'ndi', 'doc_count': 8, 'score': 35.95102040816327, 'bg_count': 8},\n",
       "  {'key': 'passer',\n",
       "   'doc_count': 9,\n",
       "   'score': 33.044526901669755,\n",
       "   'bg_count': 11},\n",
       "  {'key': 'sapere',\n",
       "   'doc_count': 7,\n",
       "   'score': 31.457142857142866,\n",
       "   'bg_count': 7},\n",
       "  {'key': 'tasty', 'doc_count': 7, 'score': 31.457142857142866, 'bg_count': 7},\n",
       "  {'key': 'sapidus',\n",
       "   'doc_count': 7,\n",
       "   'score': 31.457142857142866,\n",
       "   'bg_count': 7},\n",
       "  {'key': 'avp', 'doc_count': 8, 'score': 28.715102040816323, 'bg_count': 10},\n",
       "  {'key': 'vaptanes',\n",
       "   'doc_count': 6,\n",
       "   'score': 26.963265306122448,\n",
       "   'bg_count': 6}]}"
      ]
     },
     "execution_count": 103,
     "metadata": {},
     "output_type": "execute_result"
    }
   ],
   "source": [
    "result['aggregations']['DiseaseKeywords']"
   ]
  },
  {
   "cell_type": "markdown",
   "id": "155e8f03-7014-4275-acd5-90db7714a3c6",
   "metadata": {},
   "source": [
    "## Запрос 7-9"
   ]
  },
  {
   "cell_type": "code",
   "execution_count": 145,
   "id": "2999c134-8cba-4fcf-aa43-934c2495c473",
   "metadata": {},
   "outputs": [
    {
     "data": {
      "text/plain": [
       "{'total': {'value': 2, 'relation': 'eq'},\n",
       " 'max_score': 1.0,\n",
       " 'hits': [{'_index': 'medical',\n",
       "   '_id': 'Cluster headache',\n",
       "   '_score': 1.0,\n",
       "   '_source': {'name': 'Cluster headache',\n",
       "    'title': 'Cluster headache',\n",
       "    'fulltext': 'Cluster headache (CH) is a neurological disorder characterized by recurrent severe headaches on one side of the head, typically around the eye. There is often accompanying eye watering, nasal congestion, or swelling around the eye on the affected side. These symptoms typically last 15 minutes to 3 hours. Attacks often occur in clusters which typically last for weeks or months and occasionally more than a year.The cause is unknown. Risk factors include a history of exposure to tobacco smoke and a family history of the condition. Exposures which may trigger attacks include alcohol and nitroglycerin. They are a primary headache disorder of the trigeminal autonomic cephalalgias type. Diagnosis is based on symptoms.Recommended management includes lifestyle changes such as avoiding potential triggers. Treatments for acute attacks include oxygen or a fast-acting triptan. Measures recommended to decrease the frequency of attacks include steroid injections, civamide, or verapamil. Nerve stimulation or surgery may occasionally be used if other measures are not effective.The condition affects about 0.1% of the general population at some point in their life and 0.05% in any given year. The condition usually first occurs between 20 and 40 years of age. Men are affected about four times more often than women. Cluster headaches are named for the occurrence of groups of headache attacks (clusters). They have also been referred to as \"suicide headaches\".\\n\\n\\n== Signs and symptoms ==\\nCluster headaches are recurring bouts of severe unilateral headache attacks. The duration of a typical CH attack ranges from about 15 to 180 minutes. About 75% of untreated attacks last less than 60 minutes.The onset of an attack is rapid and typically without an aura. Preliminary sensations of pain in the general area of attack, referred to as \"shadows\", may signal an imminent CH, or these symptoms may linger after an attack has passed, or between attacks. Though CH is strictly unilateral, there are some documented cases of \"side-shift\" between cluster periods, or, rarely, simultaneous (within the same cluster period) bilateral cluster headaches.\\n\\n\\n=== Pain ===\\nThe pain occurs only on one side of the head, around the eye, particularly above the eye, in the temple. The pain is typically greater than in other headache conditions, including migraines.  The pain is typically described as burning, stabbing, drilling or squeezing, and may be located near or behind the eye. As a result of the pain, those with cluster headaches may experience suicidal thoughts during an attack (giving the alternative name \"suicide headache\" or \"suicidal headache\"). It is reported as one of the most painful conditions.\\n\\n\\n=== Other symptoms ===\\nThe typical symptoms of cluster headache include grouped occurrence and recurrence (cluster) of headache attack, severe unilateral orbital, supraorbital and/or temporal pain. If left untreated, attack frequency may range from one attack every two days to eight attacks per day. Cluster headache attack is accompanied by at least one of the following autonomic symptoms: drooping eyelid, pupil constriction, redness of the conjunctiva, tearing, runny nose and less commonly, facial blushing, swelling, or sweating, typically appearing on the same side of the head as the pain.Restlessness (for example, pacing or rocking back and forth) may occur. Similar to a migraine, sensitivity to light (photophobia) or noise (phonophobia) may occur during a CH. Nausea is a rare symptom although it has been reported. Secondary effects may include inability to organize thoughts and plans, physical exhaustion, confusion, agitation, aggressiveness, depression and anxiety.People with CH may dread facing another headache and adjust their physical or social activities around a possible future occurrence. Likewise they may seek assistance to accomplish what would otherwise be normal tasks. They may hesitate to make plans because of the regularity, or conversely, the unpredictability of the pain schedule. These factors can lead to generalized anxiety disorders, panic disorder, serious depressive disorders, social withdrawal and isolation.\\n\\n\\n=== Recurrence ===\\nCluster headaches may occasionally be referred to as \"alarm clock headache\" because of the regularity of their recurrence. CH attacks often awaken individuals from sleep.  Both individual attacks and the cluster grouping can have a metronomic regularity; attacks typically striking at a precise time of day each morning or night. The recurrence of headache cluster grouping may occur more often around solstices, or seasonal changes, sometimes showing circannual periodicity. Conversely, attack frequency may be highly unpredictable, showing no periodicity at all. These observations have prompted researchers to speculate an involvement, or dysfunction of the hypothalamus. The hypothalamus controls the body\\'s \"biological clock\" and circadian rhythm. In episodic cluster headache, attacks occur once or more daily, often at the same time each day for a period of several weeks, followed by a headache-free period lasting weeks, months, or years. Approximately 10–15% of cluster headaches are chronic, with multiple headaches occurring every day for years, sometimes without any remission.In accordance with the International Headache Society (IHS) diagnostic criteria, cluster headaches occurring in two or more cluster periods, lasting from 7 to 365 days with a pain-free remission of one month or longer between the headache attacks, may be classified as episodic. If headache attacks occur for more than a year without pain-free remission of at least one month, the condition is classified as chronic.\\nChronic CH both occurs and recurs without any remission periods between cycles; there may be variation in cycles, meaning the frequency and severity of attacks may change without predictability for a period of time. The frequency, severity and duration of headache attacks experienced by people during these cycles varies between individuals and does not demonstrate complete remission of the episodic form. The condition may change unpredictably from chronic to episodic and from episodic to chronic.\\n\\n\\n== Causes ==\\nThe cause of cluster headache is unknown. Cluster headaches were historically described as vascular headaches, with the belief that intense pain was caused by dilation of blood vessels which in turn, was thought to create pressure on the trigeminal nerve. The vascular theory has been called into question  and other mechanisms are being considered. The Third Edition of the Internal Classification of Headache disorders classifies CH as belonging to the trigeminal autonomic cephalalgias.\\n\\n\\n=== Genetics ===\\nCluster headache may, but rarely, run in some families in an autosomal dominant inheritance pattern. People with a first degree relative with the condition are about 14–48 times more likely to develop it themselves, and between 1.9 and 20% of persons with CH have a positive family history. Possible genetic factors warrant further research, current evidence for genetic inheritance is limited.\\n\\n\\n=== Tobacco smoking ===\\nAbout 65% of persons with CH are, or have been, tobacco smokers. Stopping smoking does not lead to improvement of the condition and CH also occurs in those who have never smoked (e.g. children); it is thought unlikely that smoking is a cause. People with CH may be predisposed to certain traits, including smoking or other lifestyle habits.\\n\\n\\n=== Hypothalamus ===\\nA review suggests that the suprachiasmatic nucleus of the hypothalamus, which is the major biological clock in the human body, may be involved in cluster headaches, because CH occurs with diurnal and seasonal rhythmicity. A drop in RBC choline levels has also been reported during an attack.Positron emission tomography (PET) scans indicate the brain areas which are activated during attack only, compared to pain free periods. These pictures show brain areas which are active during pain in yellow/orange color (called \"pain matrix\"). The area in the center (in all three views) is specifically activated during CH only. The bottom row voxel-based morphometry (VBM) shows structural brain differences between individuals with and without CH; only a portion of the hypothalamus is different.\\n\\n\\n== Diagnosis ==\\nCluster headaches are often misdiagnosed, mismanaged, or undiagnosed for many years; they may be confused with migraine, \"cluster-like\" headache (or mimics), CH subtypes, other TACs ( trigeminal autonomic cephalalgias), or other types of primary or secondary headache syndrome.  Cluster-like head pain may be diagnosed as secondary headache rather than cluster headache.A detailed oral history aids practitioners in correct differential diagnosis, as there are no confirmatory tests for CH.  A headache diary can be useful in tracking when and where pain occurs, how severe it is, and how long the pain lasts. A record of coping strategies used may help distinguish between headache type; data on frequency, severity and duration of headache attacks are a necessary tool for initial and correct differential diagnosis in headache conditions.Correct diagnosis presents a challenge as the first CH attack may present where staff are not trained in the diagnosis of rare or complex chronic disease. Although experienced ER staff are sometimes trained to detect headache types, CH attacks themselves are not directly life-threatening, they are linked to an increased risk of suicide.Individuals with CH typically experience diagnostic delay before correct diagnosis. People are often misdiagnosed due to reported neck, tooth, jaw, and sinus symptoms and may unnecessarily endure many years of referral to ear, nose and throat (ENT) specialists for investigation of sinuses; dentists for tooth assessment; chiropractors and manipulative therapists for treatment; or psychiatrists, psychologists, and other medical disciplines before their headaches are correctly diagnosed. Under-recognition of CH by health care professionals is reflected in consistent findings in Europe and the United States that the average time to diagnosis is around seven years.\\n\\n\\n=== Differential ===\\nCluster headache may be misdiagnosed as migraine or sinusitis.  Other types of headache are sometimes mistaken for, or may mimic closely, CH. Incorrect terms like \"cluster migraine\" confuse headache types, confound differential diagnosis and are often the cause of unnecessary diagnostic delay, ultimately delaying appropriate specialist treatment.\\nHeadaches that may be confused with CH include:\\n\\nChronic paroxysmal hemicrania (CPH) is a unilateral headache condition, without the male predominance usually seen in CH. Paroxysmal hemicrania may also be episodic but the episodes of pain seen in CPH are usually shorter than those seen with cluster headaches. CPH typically responds \"absolutely\" to treatment with the anti-inflammatory drug indomethacin where in most cases CH typically shows no positive indomethacin response, making \"Indomethacin response\" an important diagnostic tool for specialist practitioners seeking correct differential diagnosis between the conditions.\\nShort-lasting unilateral neuralgiform headache with conjunctival injection and tearing (SUNCT) is a headache syndrome belonging to the group of TACs.\\nTrigeminal neuralgia is a unilateral headache syndrome, or \"cluster-like\" headache.\\n\\n\\n== Prevention ==\\nPreventive treatments are used to reduce or eliminate cluster headache attacks; they are generally used in combination with abortive and transitional techniques.\\n\\n\\n=== Verapamil ===\\nThe recommended first-line preventive therapy is verapamil, a calcium channel blocker. Verapamil was previously underused in people with cluster headache.\\n\\n\\n=== Glucocorticoids ===\\nThere is little evidence to support a long-term benefit from glucocorticoids, but they may be used until other medications take effect as they appear to be effective at three days. They are generally discontinued after 8–10 days of treatment.\\n\\n\\n=== Surgery ===\\nNerve stimulators may be an option in the small number of people who do not improve with medications. Two procedures, deep brain stimulation or occipital nerve stimulation, may be useful; early experience shows a benefit in about 60% of cases. It typically takes weeks or months for this benefit to appear. A non-invasive method using transcutaneous electrical nerve stimulation (TENS) is being studied.A number of surgical procedures, such as a rhizotomy or microvascular decompression, may also be considered, but evidence to support them is limited and there are cases of people whose symptoms worsen after these procedures.\\n\\n\\n=== Other ===\\nLithium, methysergide,  and topiramate are recommended alternative treatments, although there is little evidence supporting the use of topiramate or methysergide. This is also true for tianeptine, melatonin, and ergotamine. Valproate, sumatriptan, and oxygen are not recommended as preventive measures. Botulinum toxin injections have shown limited success. Evidence for baclofen, botulinum toxin, and capsaicin is unclear.\\n\\n\\n== Management ==\\nTreatment for cluster headache is divided into three primary categories: abortive, transitional, and preventative. There are two primary treatments for acute CH: oxygen and triptans, but they are underused due to misdiagnosis of the syndrome. During bouts of headaches, triggers such as alcohol, nitroglycerine and naps during the day should be avoided.\\n\\n\\n=== Oxygen ===\\nOxygen therapy may help people with CH, but it does not help prevent future episodes. Typically it is given via a non-rebreather mask at 12–15 liters per minute for 15–20 minutes. One review found about 70% improve within 15 minutes. The evidence for effectiveness of 100% oxygen, however, is weak. Hyperbaric oxygen at pressures of ~2 times greater than atmospheric pressure may relieve cluster headaches.\\n\\n\\n=== Triptans ===\\nThe other primarily recommended treatment of acute attacks is subcutaneous or intranasal sumatriptan. Sumatriptan and zolmitriptan have both been shown to improve symptoms during an attack with sumatriptan being superior. Because of the vasoconstrictive side-effect of triptans, they may be contraindicated in people with ischemic heart disease.\\n\\n\\n=== Opioids ===\\nThe use of opioid medication in management of CH is not recommended and may make headache syndromes worse. Long-term opioid use is associated with well known dependency, addiction, and withdrawal syndromes. Prescription of opioid medication may additionally lead to further delay in differential diagnosis, undertreatment, and mismanagement.\\n\\n\\n=== Other ===\\nThe vasoconstrictor ergot compounds may be useful, but have not been well studied in acute attacks. Octreotide administered subcutaneously has been demonstrated to be more effective than placebo for the treatment of acute attacks.\\n\\n\\n== Epidemiology ==\\nCluster headache affects about 0.1% of the general population at some point in their life. Males are affected about four times more often than females. The condition usually starts between the ages of 20 and 50 years, although it can occur at any age. About one in five of adults reports the onset of cluster headache between 10 and 19 years.\\n\\n\\n== History ==\\nThe first complete description of cluster headache was given by the London neurologist Wilfred Harris in 1926, who named the disease migrainous neuralgia.  Descriptions of CH date to 1745 and probably earlier.\\nThe condition was originally named Horton\\'s cephalalgia after Bayard Taylor Horton, a US neurologist who postulated the first theory as to their pathogenesis. His original paper describes the severity of the headaches as being able to take normal men and force them to attempt or complete suicide; his 1939 paper said:\"Our patients were disabled by the disorder and suffered from bouts of pain from two to twenty times a week. They had found no relief from the usual methods of treatment. Their pain was so severe that several of them had to be constantly watched for fear of suicide. Most of them were willing to submit to any operation which might bring relief.\"\\nCH has alternately been called erythroprosopalgia of Bing, ciliary neuralgia, erythromelalgia of the head, Horton\\'s headache, histaminic cephalalgia, petrosal neuralgia, sphenopalatine neuralgia, vidian neuralgia, Sluder\\'s neuralgia, Sluder\\'s syndrome, and hemicrania angioparalyticia.\\n\\n\\n== Society and culture ==\\nRobert Shapiro, a professor of neurology, says that while cluster headaches are about as common as multiple sclerosis with a similar disability level, as of 2013, the US National Institutes of Health had spent $1.872 billion on research into multiple sclerosis in one decade, but less than $2 million on CH research in 25 years.As of July 2015 there are no approved medicines for the prevention of cluster headache in the United States.\\n\\n\\n== Research directions ==\\nSome controversial case reports suggest that ingesting tryptamines such as LSD, psilocybin (as found in hallucinogenic mushrooms), or DMT can reduce pain and interrupt cluster headache cycles. A 2006 survey of 53 individuals found people said that psilocybin extended remission periods in 18 of 19. The survey was not a blinded or a controlled study, and was \"limited by recall and selection bias\".Fremanezumab, a humanized monoclonal antibody directed against calcitonin gene-related peptides alpha and beta, is in phase 3 clinical trials for CH.\\n\\n\\n== References ==\\n\\n\\n== External links =='}}]}"
      ]
     },
     "execution_count": 145,
     "metadata": {},
     "output_type": "execute_result"
    }
   ],
   "source": [
    "#7\n",
    "filterQuery = {\n",
    "    \"_source\": [\"name\", \"title\", \"fulltext\"],\n",
    "    \"query\": {\n",
    "        \"constant_score\": {\n",
    "            \"filter\": {\n",
    "                \"term\": {\n",
    "                    \"title\": \"headache\"\n",
    "                }\n",
    "            }\n",
    "        }\n",
    "    }\n",
    "}\n",
    "\n",
    "result=client.search(index=\"medical\", body=filterQuery, size=1)\n",
    "result['hits']"
   ]
  },
  {
   "cell_type": "code",
   "execution_count": 146,
   "id": "c94da28d-d935-4e7e-b251-0e1e1cf7ad44",
   "metadata": {},
   "outputs": [
    {
     "data": {
      "text/plain": [
       "ObjectApiResponse({'took': 49, 'timed_out': False, '_shards': {'total': 1, 'successful': 1, 'skipped': 0, 'failed': 0}, 'hits': {'total': {'value': 5540, 'relation': 'eq'}, 'max_score': None, 'hits': [{'_index': 'medical', '_id': 'Shared psychotic disorder', '_score': None, '_source': {'name': 'Shared psychotic disorder', 'title': 'Folie à deux'}, 'sort': ['à']}, {'_index': 'medical', '_id': 'Zygomycosis', '_score': None, '_source': {'name': 'Zygomycosis', 'title': 'Zygomycosis'}, 'sort': ['zygomycosis']}, {'_index': 'medical', '_id': 'Weissenbacher–Zweymuller syndrome', '_score': None, '_source': {'name': 'Weissenbacher–Zweymuller syndrome', 'title': 'Weissenbacher–Zweymüller syndrome'}, 'sort': ['zweymüller']}]}})"
      ]
     },
     "execution_count": 146,
     "metadata": {},
     "output_type": "execute_result"
    }
   ],
   "source": [
    "sortQuery = {\n",
    "    \"_source\": [\"name\", \"title\"],\n",
    "    \"sort\": [{\"title\": \"desc\"}]\n",
    "}\n",
    "result=client.search(index=indexName,body=sortQuery,from_=searchFrom, size=searchSize)\n",
    "result"
   ]
  },
  {
   "cell_type": "code",
   "execution_count": 147,
   "id": "d547c110-8be0-41f4-8a3b-58fd0b468c8e",
   "metadata": {},
   "outputs": [
    {
     "data": {
      "text/plain": [
       "{'total': {'value': 5540, 'relation': 'eq'},\n",
       " 'max_score': None,\n",
       " 'hits': [{'_index': 'medical',\n",
       "   '_id': 'Shared psychotic disorder',\n",
       "   '_score': None,\n",
       "   '_source': {'name': 'Shared psychotic disorder', 'title': 'Folie à deux'},\n",
       "   'sort': ['à']},\n",
       "  {'_index': 'medical',\n",
       "   '_id': 'Zygomycosis',\n",
       "   '_score': None,\n",
       "   '_source': {'name': 'Zygomycosis', 'title': 'Zygomycosis'},\n",
       "   'sort': ['zygomycosis']},\n",
       "  {'_index': 'medical',\n",
       "   '_id': 'Weissenbacher–Zweymuller syndrome',\n",
       "   '_score': None,\n",
       "   '_source': {'name': 'Weissenbacher–Zweymuller syndrome',\n",
       "    'title': 'Weissenbacher–Zweymüller syndrome'},\n",
       "   'sort': ['zweymüller']}]}"
      ]
     },
     "execution_count": 147,
     "metadata": {},
     "output_type": "execute_result"
    }
   ],
   "source": [
    "result['hits']"
   ]
  },
  {
   "cell_type": "code",
   "execution_count": 148,
   "id": "2de711d9-4929-41f9-a8b0-4eab7a274992",
   "metadata": {},
   "outputs": [
    {
     "data": {
      "text/plain": [
       "ObjectApiResponse({'took': 9, 'timed_out': False, '_shards': {'total': 1, 'successful': 1, 'skipped': 0, 'failed': 0}, 'hits': {'total': {'value': 1, 'relation': 'eq'}, 'max_score': 1.0, 'hits': [{'_index': 'medical', '_id': 'Stomatitis', '_score': 1.0, '_source': {'name': 'Stomatitis', 'title': 'Stomatitis', 'fulltext': 'Stomatitis is inflammation of the mouth and lips. It refers to any inflammatory process affecting the mucous membranes of the mouth and lips, with or without oral ulceration.In its widest meaning, stomatitis can have a multitude of different causes and appearances. Common causes include infections, nutritional deficiencies, allergic reactions, radiotherapy, and many others.\\nWhen inflammation of the gums and the mouth generally presents itself, sometimes the term gingivostomatitis is used, though this is also sometimes used as a synonym for herpetic gingivostomatitis.\\nThe term is derived from the Greek stoma (στόμα), meaning \"mouth\", and the suffix -itis (-ῖτις), meaning \"inflammation\".\\n\\n\\n== Causes ==\\n\\n\\n=== Nutritional deficiency ===\\nMalnutrition (improper dietary intake) or malabsorption (poor absorption of nutrients into the body) can lead to nutritional deficiency states, several of which can lead to stomatitis. For example, deficiencies of iron, vitamin B2 (riboflavin), vitamin B3 (niacin), vitamin B6 (pyridoxine), vitamin B9 (folic acid) or vitamin B12 (cobalamine) may all manifest as stomatitis. Iron is necessary for the upregulation of transcriptional elements for cell replication and repair. Lack of iron can cause genetic downregulation of these elements, leading to ineffective repair and regeneration of epithelial cells, especially in the mouth and lips. Many disorders which cause malabsorption can cause deficiencies, which in turn causes stomatitis. Examples include tropical sprue.\\n\\n\\n=== Aphthous stomatitis ===\\n\\nAphthous stomatitis (canker sores) is the recurrent appearance of mouth ulcers in otherwise healthy individuals. The cause is not completely understood, but it is thought that the condition represents a T cell mediated immune response which is triggered by a variety of factors. The individual ulcers (aphthae) recur periodically and heal completely, although in the more severe forms new ulcers may appear in other parts of the mouth before the old ones have finished healing. Aphthous stomatitis is one of the most common diseases of the oral mucosa, and is thought to affect about 20% of the general population to some degree. The symptoms range from a minor nuisance to being disabling in their impact on eating, swallowing and talking, and the severe forms can cause people to lose weight. There is no cure for aphthous stomatitis, and therapies are aimed at alleviating the pain, reducing the inflammation and promoting healing of the ulcers, but there is little evidence of efficacy for any treatment that has been used.\\n\\n\\n=== Angular stomatitis ===\\n\\nInflammation of the corners (angles) of the lips is termed angular stomatitis or angular cheilitis. In children a frequent cause is repeated lip-licking, and in adults it may be a sign of underlying iron deficiency anemia, or vitamin B deficiencies (e.g., B2-riboflavin, B9-folate, or B12-cobalamin, which in turn may be evidence of poor diets or malnutrition such as celiac disease).\\nAlso, angular cheilitis can be caused by a patient\\'s jaws at rest being \\'overclosed\\' due to edentulousness or tooth wear, causing the jaws to come to rest closer together than if the complete/unaffected dentition were present. This causes skin folds around the angle of the mouth which are kept moist by saliva, which in turn favours infection; mostly by Candida albicans or similar species. Treatment usually involves the administration of topical nystatin or similar antifungal agents. Another treatment can be to correct the jaw relationship with dental treatment (e.g., dentures or occlusal adjustment).\\n\\n\\n=== Denture-related stomatitis ===\\n\\nThis is a common condition present in denture wearers. It appears as reddened but painless mucosa beneath the denture. 90% of cases are associated with Candida species, and it is the most common form of oral candidiasis. Treatment is by antifungal medication and improved dental hygiene, such as not wearing the denture during sleep.\\n\\n\\n=== Allergic contact stomatitis ===\\nAllergic contact stomatitis (also termed \"allergic gingivostomatitis\" or \"allergic contact gingivostomatitis\") is a type IV (delayed) hypersensitivity reaction that occurs in susceptible atopic individuals when allergens penetrate the skin or mucosa.Allergens, which may be different for different individuals, combine with epithelial-derived proteins, forming haptens which bind with Langerhans cells in the mucosa, which in turn present the antigen on their surface to T lymphocytes, sensitizing them to that antigen and causing them to produce many specific clones. The second time that specific antigen is encountered, an inflammatory reaction is triggered at the site of exposure. Allergic contact stomatitis is less common than allergic contact dermatitis because the mouth is coated in saliva, which washes away antigens and acts as a barrier. The oral mucosa is also more vascular (has a better blood supply) than skin, meaning that any antigens are more quickly removed from the area by the circulation. Finally, there is substantially less keratin in oral mucosa, meaning that there is less likelihood that haptens will form.Allergic contact stomatitis appears as non-specific inflammation, so it may be mistaken for chronic physical irritation. There may be burning or soreness of the mouth and ulceration. Chronic exposure to the allergen may result in a lichenoid lesion. Plasma cell gingivitis may also occur, which may be accompanied by glossitis and cheilitis.\\n\\nAllergens that may cause allergic contact stomatitis in some individuals include cinnamaldehyde, Balsam of Peru, peppermint, mercury, gold, pyrophosphates, zinc citrate, free acrylic monomer, nickel, fluoride, and sodium lauryl sulfate. These allergens may originate from many sources, including various foods and drink, chewing gum, toothpaste, mouthwash, dental floss, dental fillings, dentures, orthodontic bands or wires, and many other sources. If the substance containing the allergen comes into contact with the lips, allergic contact cheilitis can occur, together with allergic contact stomatitis.\\nThe diagnosis is confirmed by patch test, and management is by avoidance of exposure to the allergen.\\n\\n\\n=== Migratory stomatitis ===\\n\\nMigratory stomatitis (or geographic stomatitis) is an atypical presentation of a condition which normally presents on the tongue, termed geographic tongue. Geographic tongue is so named because there are atrophic, erythematous areas of depapillation that migrate over time, giving a map-like appearance.\\nIn migratory stomatitis, other mucosal sites in the mouth, such as the ventral surface (undersurface) of the tongue, buccal mucosa, labial mucosa, soft palate, or floor of mouth may be afflicted with identical lesions, usually in addition to the tongue. Apart from not being restricted to the tongue, migratory stomatitis is an identical condition in every regard to geographic tongue. Another synonym for geographic tongue which uses the term stomatitis is \"stomatitis areata migrans\".\\n\\n\\n=== Herpetic gingivostomatitis ===\\n\\nThis is inflammation of the mouth caused by herpes simplex virus.\\n\\n\\n=== Irradiation and chemotherapy ===\\nStomatitis may also be caused by chemotherapy, or radiation therapy of the oropharyngeal area. The term mucositis is sometimes used synonymously with stomatitis, however the former usually refers to mucosal reactions to radiotherapy or chemotherapy, and may occur anywhere in the gastrointestinal tract and not just in the mouth.\\n\\n\\n=== Necrotizing ulcerative gingivostomatitis ===\\n\\nThe term necrotizing ulcerative gingivostomatitis is sometimes used as a synonym of the necrotizing periodontal disease more commonly termed necrotizing ulcerative gingivitis, or a more severe form (also termed necrotizing stomatitis). The term necrotizing gingivostomatitis is also sometimes used.\\n\\n\\n=== Stomatitis nicotina ===\\n\\nAlso called smoker\\'s palatal keratosis, this condition may occur in smokers, especially pipe smokers. The palate appears dry and cracked, and white from keratosis. The minor salivary glands appear as small, red and swollen bumps. It is not a premalignant condition, and the appearance reverses if the smoking is stopped.\\n\\n\\n=== Chronic ulcerative stomatitis ===\\nChronic ulcerative stomatitis is a recently discovered condition with specific immunopathologic features. It is characterized by erosions and ulcerations which relapse and remit. Lesions are located on the buccal mucosa (inside of the cheeks) or on the gingiva (gums). The condition resembles Oral lichen planus when biopsied.\\nThe diagnosis is made with Immunofluorescence techniques, which shows circulating and tissue-bound autoantibodies (particulate stratified squamous-epithelium-specific antinuclear antibody) to DeltaNp63alpha protein, a normal component of the epithelium. Treatment is with hydroxychloroquine.\\n\\n\\n=== Plasma cell gingivostomatitis ===\\n\\nTerms such as plasma cell gingivostomatitis, atypical gingivostomatitis and idiopathic gingivostomatitis are sometimes a synonym for plasma cell gingivitis, or specifically to refer to a severe form of plasma cell gingivitis.\\n\\n\\n=== Other forms of stomatitis ===\\nPeriodic fever, aphthous stomatitis, pharyngitis and adenitis (PFAPA) syndrome—occurs in children.\\nUremic stomatitis—a rare form of stomatitis that occurs with renal failure.\\nPyostomatitis vegetans\\nBovine papular stomatitis\\n\\n\\n== References ==\\n\\n\\n== External links =='}}]}})"
      ]
     },
     "execution_count": 148,
     "metadata": {},
     "output_type": "execute_result"
    }
   ],
   "source": [
    "idQuery = {\n",
    "    \"query\": {\n",
    "        \"terms\": {\n",
    "            \"_id\": [\"Stomatitis\", \"Alkaptonuria\"]\n",
    "        }\n",
    "    }\n",
    "}\n",
    "result=client.search(index=indexName, body=idQuery, size=1)\n",
    "result"
   ]
  },
  {
   "cell_type": "code",
   "execution_count": 149,
   "id": "ea2843bf-f41b-4617-89aa-20b847576294",
   "metadata": {},
   "outputs": [
    {
     "data": {
      "text/plain": [
       "{'total': {'value': 1, 'relation': 'eq'},\n",
       " 'max_score': 1.0,\n",
       " 'hits': [{'_index': 'medical',\n",
       "   '_id': 'Stomatitis',\n",
       "   '_score': 1.0,\n",
       "   '_source': {'name': 'Stomatitis',\n",
       "    'title': 'Stomatitis',\n",
       "    'fulltext': 'Stomatitis is inflammation of the mouth and lips. It refers to any inflammatory process affecting the mucous membranes of the mouth and lips, with or without oral ulceration.In its widest meaning, stomatitis can have a multitude of different causes and appearances. Common causes include infections, nutritional deficiencies, allergic reactions, radiotherapy, and many others.\\nWhen inflammation of the gums and the mouth generally presents itself, sometimes the term gingivostomatitis is used, though this is also sometimes used as a synonym for herpetic gingivostomatitis.\\nThe term is derived from the Greek stoma (στόμα), meaning \"mouth\", and the suffix -itis (-ῖτις), meaning \"inflammation\".\\n\\n\\n== Causes ==\\n\\n\\n=== Nutritional deficiency ===\\nMalnutrition (improper dietary intake) or malabsorption (poor absorption of nutrients into the body) can lead to nutritional deficiency states, several of which can lead to stomatitis. For example, deficiencies of iron, vitamin B2 (riboflavin), vitamin B3 (niacin), vitamin B6 (pyridoxine), vitamin B9 (folic acid) or vitamin B12 (cobalamine) may all manifest as stomatitis. Iron is necessary for the upregulation of transcriptional elements for cell replication and repair. Lack of iron can cause genetic downregulation of these elements, leading to ineffective repair and regeneration of epithelial cells, especially in the mouth and lips. Many disorders which cause malabsorption can cause deficiencies, which in turn causes stomatitis. Examples include tropical sprue.\\n\\n\\n=== Aphthous stomatitis ===\\n\\nAphthous stomatitis (canker sores) is the recurrent appearance of mouth ulcers in otherwise healthy individuals. The cause is not completely understood, but it is thought that the condition represents a T cell mediated immune response which is triggered by a variety of factors. The individual ulcers (aphthae) recur periodically and heal completely, although in the more severe forms new ulcers may appear in other parts of the mouth before the old ones have finished healing. Aphthous stomatitis is one of the most common diseases of the oral mucosa, and is thought to affect about 20% of the general population to some degree. The symptoms range from a minor nuisance to being disabling in their impact on eating, swallowing and talking, and the severe forms can cause people to lose weight. There is no cure for aphthous stomatitis, and therapies are aimed at alleviating the pain, reducing the inflammation and promoting healing of the ulcers, but there is little evidence of efficacy for any treatment that has been used.\\n\\n\\n=== Angular stomatitis ===\\n\\nInflammation of the corners (angles) of the lips is termed angular stomatitis or angular cheilitis. In children a frequent cause is repeated lip-licking, and in adults it may be a sign of underlying iron deficiency anemia, or vitamin B deficiencies (e.g., B2-riboflavin, B9-folate, or B12-cobalamin, which in turn may be evidence of poor diets or malnutrition such as celiac disease).\\nAlso, angular cheilitis can be caused by a patient\\'s jaws at rest being \\'overclosed\\' due to edentulousness or tooth wear, causing the jaws to come to rest closer together than if the complete/unaffected dentition were present. This causes skin folds around the angle of the mouth which are kept moist by saliva, which in turn favours infection; mostly by Candida albicans or similar species. Treatment usually involves the administration of topical nystatin or similar antifungal agents. Another treatment can be to correct the jaw relationship with dental treatment (e.g., dentures or occlusal adjustment).\\n\\n\\n=== Denture-related stomatitis ===\\n\\nThis is a common condition present in denture wearers. It appears as reddened but painless mucosa beneath the denture. 90% of cases are associated with Candida species, and it is the most common form of oral candidiasis. Treatment is by antifungal medication and improved dental hygiene, such as not wearing the denture during sleep.\\n\\n\\n=== Allergic contact stomatitis ===\\nAllergic contact stomatitis (also termed \"allergic gingivostomatitis\" or \"allergic contact gingivostomatitis\") is a type IV (delayed) hypersensitivity reaction that occurs in susceptible atopic individuals when allergens penetrate the skin or mucosa.Allergens, which may be different for different individuals, combine with epithelial-derived proteins, forming haptens which bind with Langerhans cells in the mucosa, which in turn present the antigen on their surface to T lymphocytes, sensitizing them to that antigen and causing them to produce many specific clones. The second time that specific antigen is encountered, an inflammatory reaction is triggered at the site of exposure. Allergic contact stomatitis is less common than allergic contact dermatitis because the mouth is coated in saliva, which washes away antigens and acts as a barrier. The oral mucosa is also more vascular (has a better blood supply) than skin, meaning that any antigens are more quickly removed from the area by the circulation. Finally, there is substantially less keratin in oral mucosa, meaning that there is less likelihood that haptens will form.Allergic contact stomatitis appears as non-specific inflammation, so it may be mistaken for chronic physical irritation. There may be burning or soreness of the mouth and ulceration. Chronic exposure to the allergen may result in a lichenoid lesion. Plasma cell gingivitis may also occur, which may be accompanied by glossitis and cheilitis.\\n\\nAllergens that may cause allergic contact stomatitis in some individuals include cinnamaldehyde, Balsam of Peru, peppermint, mercury, gold, pyrophosphates, zinc citrate, free acrylic monomer, nickel, fluoride, and sodium lauryl sulfate. These allergens may originate from many sources, including various foods and drink, chewing gum, toothpaste, mouthwash, dental floss, dental fillings, dentures, orthodontic bands or wires, and many other sources. If the substance containing the allergen comes into contact with the lips, allergic contact cheilitis can occur, together with allergic contact stomatitis.\\nThe diagnosis is confirmed by patch test, and management is by avoidance of exposure to the allergen.\\n\\n\\n=== Migratory stomatitis ===\\n\\nMigratory stomatitis (or geographic stomatitis) is an atypical presentation of a condition which normally presents on the tongue, termed geographic tongue. Geographic tongue is so named because there are atrophic, erythematous areas of depapillation that migrate over time, giving a map-like appearance.\\nIn migratory stomatitis, other mucosal sites in the mouth, such as the ventral surface (undersurface) of the tongue, buccal mucosa, labial mucosa, soft palate, or floor of mouth may be afflicted with identical lesions, usually in addition to the tongue. Apart from not being restricted to the tongue, migratory stomatitis is an identical condition in every regard to geographic tongue. Another synonym for geographic tongue which uses the term stomatitis is \"stomatitis areata migrans\".\\n\\n\\n=== Herpetic gingivostomatitis ===\\n\\nThis is inflammation of the mouth caused by herpes simplex virus.\\n\\n\\n=== Irradiation and chemotherapy ===\\nStomatitis may also be caused by chemotherapy, or radiation therapy of the oropharyngeal area. The term mucositis is sometimes used synonymously with stomatitis, however the former usually refers to mucosal reactions to radiotherapy or chemotherapy, and may occur anywhere in the gastrointestinal tract and not just in the mouth.\\n\\n\\n=== Necrotizing ulcerative gingivostomatitis ===\\n\\nThe term necrotizing ulcerative gingivostomatitis is sometimes used as a synonym of the necrotizing periodontal disease more commonly termed necrotizing ulcerative gingivitis, or a more severe form (also termed necrotizing stomatitis). The term necrotizing gingivostomatitis is also sometimes used.\\n\\n\\n=== Stomatitis nicotina ===\\n\\nAlso called smoker\\'s palatal keratosis, this condition may occur in smokers, especially pipe smokers. The palate appears dry and cracked, and white from keratosis. The minor salivary glands appear as small, red and swollen bumps. It is not a premalignant condition, and the appearance reverses if the smoking is stopped.\\n\\n\\n=== Chronic ulcerative stomatitis ===\\nChronic ulcerative stomatitis is a recently discovered condition with specific immunopathologic features. It is characterized by erosions and ulcerations which relapse and remit. Lesions are located on the buccal mucosa (inside of the cheeks) or on the gingiva (gums). The condition resembles Oral lichen planus when biopsied.\\nThe diagnosis is made with Immunofluorescence techniques, which shows circulating and tissue-bound autoantibodies (particulate stratified squamous-epithelium-specific antinuclear antibody) to DeltaNp63alpha protein, a normal component of the epithelium. Treatment is with hydroxychloroquine.\\n\\n\\n=== Plasma cell gingivostomatitis ===\\n\\nTerms such as plasma cell gingivostomatitis, atypical gingivostomatitis and idiopathic gingivostomatitis are sometimes a synonym for plasma cell gingivitis, or specifically to refer to a severe form of plasma cell gingivitis.\\n\\n\\n=== Other forms of stomatitis ===\\nPeriodic fever, aphthous stomatitis, pharyngitis and adenitis (PFAPA) syndrome—occurs in children.\\nUremic stomatitis—a rare form of stomatitis that occurs with renal failure.\\nPyostomatitis vegetans\\nBovine papular stomatitis\\n\\n\\n== References ==\\n\\n\\n== External links =='}}]}"
      ]
     },
     "execution_count": 149,
     "metadata": {},
     "output_type": "execute_result"
    }
   ],
   "source": [
    "result['hits']"
   ]
  },
  {
   "cell_type": "markdown",
   "id": "14db780e-95ee-442a-a7df-0428bab12c6f",
   "metadata": {},
   "source": [
    "## Запрос 10"
   ]
  },
  {
   "cell_type": "code",
   "execution_count": 154,
   "id": "db52be27-330d-4a00-b64e-215682ab9706",
   "metadata": {},
   "outputs": [
    {
     "data": {
      "text/plain": [
       "ObjectApiResponse({'took': 17, 'timed_out': False, '_shards': {'total': 1, 'successful': 1, 'skipped': 0, 'failed': 0}, 'hits': {'total': {'value': 8, 'relation': 'eq'}, 'max_score': 9.468292, 'hits': [{'_index': 'medical', '_id': 'Chronic myelogenous leukemia', '_score': 9.468292, '_source': {'name': 'Chronic myelogenous leukemia', 'title': 'Chronic myelogenous leukemia', 'fulltext': 'Chronic myelogenous leukemia (CML), also known as chronic myeloid leukemia, is a cancer of the white blood cells. It is a form of leukemia characterized by the increased and unregulated growth of myeloid cells in the bone marrow and the accumulation of these cells in the blood. CML is a clonal bone marrow stem cell disorder in which a proliferation of mature granulocytes (neutrophils, eosinophils and basophils) and their precursors is found. It is a type of myeloproliferative neoplasm associated with a characteristic chromosomal translocation called the Philadelphia chromosome.\\nCML is largely treated with targeted drugs called tyrosine-kinase inhibitors (TKIs) which have led to dramatically improved long-term survival rates since 2001. These drugs have revolutionized treatment of this disease and allow most patients to have a good quality of life when compared to the former chemotherapy drugs. In Western countries, CML accounts for 15–25% of all adult leukemias and 14% of leukemias overall (including the pediatric population, where CML is less common).\\n\\n\\n== Signs and symptoms ==\\nThe way CML presents depends on the stage of the disease at diagnosis as it has been known to skip stages in some cases.Most patients (~90%) are diagnosed during the chronic stage which is most often asymptomatic. In these cases it may be diagnosed incidentally with an elevated white blood cell count on a routine laboratory test. It can also present with symptoms indicative of hepatosplenomegaly and the resulting upper quadrant pain this causes. The enlarged spleen may put pressure on the stomach causing a loss of appetite and resulting weight loss. It may also present with mild fever and night sweats due to an elevated basal level of metabolism.Some (<10%) are diagnosed during the accelerated stage which most often presents bleeding, petechiae and ecchymosis. In these patients fevers are most commonly the result of opportunistic infections.Some patients are initially diagnosed in the blast phase in which the symptoms are most likely fever, bone pain and an increase in bone marrow fibrosis.\\n\\n\\n== Cause ==\\nIn most cases no obvious cause for CML can be isolated.\\n\\n\\n=== Risk factors ===\\nCML is more common in males than in females (male to female ratio of 1.4:1) and appears more commonly in the elderly with a median age at diagnosis of 65 years. Exposure to ionising radiation appears to be a risk factor, based on a 50 fold higher incidence of CML in Hiroshima and Nagasaki nuclear bombing survivors. The rate of CML in these individuals seems to peak about 10 years after the exposure.\\n\\n\\n== Pathophysiology ==\\n\\nCML was the first cancer to be linked to a clear genetic abnormality, the chromosomal translocation known as the Philadelphia chromosome. This chromosomal abnormality is so named because it was first discovered and described in 1960 by two scientists from Philadelphia, Pennsylvania, USA: Peter Nowell of the University of Pennsylvania and David Hungerford of Fox Chase Cancer Center.In this translocation, parts of two chromosomes (the 9th and 22nd) switch places. As a result, part of the BCR (\"breakpoint cluster region\") gene from chromosome 22 is fused with the ABL gene on chromosome 9. This abnormal \"fusion\" gene generates a protein of p210 or sometimes p185 weight (p210 is short for 210 kDa protein, a shorthand used for characterizing proteins based solely on size). Because abl carries a domain that can add phosphate groups to tyrosine residues (a tyrosine kinase), the bcr-abl fusion gene product is also a tyrosine kinase.\\n\\nThe fused BCR-ABL protein interacts with the interleukin 3beta(c) receptor subunit. The BCR-ABL transcript is continuously active and does not require activation by other cellular messaging proteins. In turn, BCR-ABL activates a cascade of proteins that control the cell cycle, speeding up cell division. Moreover, the BCR-ABL protein inhibits DNA repair, causing genomic instability and making the cell more susceptible to developing further genetic abnormalities. The action of the BCR-ABL protein is the pathophysiologic cause of chronic myelogenous leukemia. With improved understanding of the nature of the BCR-ABL protein and its action as a tyrosine kinase, targeted therapies (the first of which was imatinib) that specifically inhibit the activity of the BCR-ABL protein have been developed. These tyrosine kinase inhibitors can induce complete remissions in CML, confirming the central importance of bcr-abl as the cause of CML.\\n\\n\\n== Diagnosis ==\\n\\nCML is often suspected on the basis of a complete blood count, which shows increased granulocytes of all types, typically including mature myeloid cells. Basophils and eosinophils are almost universally increased; this feature may help differentiate CML from a leukemoid reaction. A bone marrow biopsy is often performed as part of the evaluation for CML, and CML is diagnosed by cytogenetics that detects the translocation t(9;22)(q34;q11.2) which involves the ABL1 gene in chromosome 9 and the BCR gene in chromosome 22. As a result of this translocation, the chromosome looks smaller than its homologue chromosome, and this appearance is known as the Philadelphia chromosome chromosomal abnormality. Thus, this abnormality can be detected by routine cytogenetics, and the involved genes BCR-ABL1 can be detected by fluorescent in situ hybridization, as well as by PCR.Controversy exists over so-called Ph-negative CML, or cases of suspected CML in which the Philadelphia chromosome cannot be detected. Many such patients in fact have complex chromosomal abnormalities that mask the (9;22) translocation, or have evidence of the translocation by FISH or RT-PCR in spite of normal routine karyotyping. The small subset of patients without detectable molecular evidence of BCR-ABL1 fusion may be better classified as having an undifferentiated myelodysplastic/myeloproliferative disorder, as their clinical course tends to be different from patients with CML.CML must be distinguished from a leukemoid reaction, which can have a similar appearance on a blood smear.\\n\\n\\n=== Classification ===\\nCML is often divided into three phases based on clinical characteristics and laboratory findings. In the absence of intervention, CML typically begins in the chronic phase, and over the course of several years progresses to an accelerated phase and ultimately to a blast crisis. Blast crisis is the terminal phase of CML and clinically behaves like an acute leukemia. Drug treatment will usually stop this progression if started early. One of the drivers of the progression from chronic phase through acceleration and blast crisis is the acquisition of new chromosomal abnormalities (in addition to the Philadelphia chromosome). Some patients may already be in the accelerated phase or blast crisis by the time they are diagnosed.\\n\\n\\n==== Chronic phase ====\\nApproximately 85% of patients with CML are in the chronic phase at the time of diagnosis. During this phase, patients are usually asymptomatic or have only mild symptoms of fatigue, left side pain, joint and/or hip pain, or abdominal fullness. The duration of chronic phase is variable and depends on how early the disease was diagnosed as well as the therapies used. In the absence of treatment, the disease progresses to an accelerated phase. Precise patient staging based on clinical markers and personal genomic profile will likely prove beneficial in the assessment of disease history with respect to progression risk.\\n\\n\\n==== Accelerated phase ====\\nCriteria for diagnosing transition into the accelerated phase are somewhat variable; the most widely used criteria are those put forward by investigators at M.D. Anderson Cancer Center, by Sokal et al., and the World Health Organization. The WHO criteria are perhaps most widely used, and define the accelerated phase by the presence of ≥1 of the following haematological/cytogenetic criteria or provisional criteria concerning response to tyrosine kinase inhibitor (TKI) therapy\\n\\nHaematological/cytogenetic criteria\\nPersistent or increasing high white blood cell count (> 10 × 109/L), unresponsive to therapy\\nPersistent or increasing splenomegaly, unresponsive to therapy\\nPersistent thrombocytosis (> 1000 × 109/L), unresponsive to therapy\\nPersistent thrombocytopenia (< 100 × 109/L), unrelated to therapy\\n≥ 20% basophils in the peripheral blood\\n10―19% blasts in the peripheral blood and/or bone marrow\\nAdditional clonal chromosomal abnormalities in Philadelphia (Ph) chromosome-positive (Ph+) cells at diagnosis, including so-called major route abnormalities (a second Ph chromosome, trisomy 8, isochromosome 17q, trisomy 19), complex karyotype, and abnormalities of 3q26.2\\nAny new clonal chromosomal abnormality in Ph+ cells that occurs during therapy\\nProvisional response-to-TKI criteria\\nHaematological resistance (or failure to achieve a complete haematological response d) to the first TKI\\nAny haematological, cytogenetic, or molecular indications of resistance to two sequential TKIs\\nOccurrence of two or more mutations in the BCR-ABL1 fusion gene during TKI therapyThe patient is considered to be in the accelerated phase if any of the above are present. The accelerated phase is significant because it signals that the disease is progressing and transformation to blast crisis is imminent. Drug treatment often becomes less effective in the advanced stages.\\n\\n\\n==== Blast crisis ====\\nBlast crisis is the final phase in the evolution of CML, and behaves like an acute leukemia, with rapid progression and short survival. Blast crisis is diagnosed if any of the following are present in a patient with CML:\\n>20% blasts in the blood or bone marrow\\nThe presence of an extramedullary proliferation of blasts\\n\\n\\n== Treatment ==\\nThe only curative treatment for CML is a bone marrow transplant or an allogeneic stem cell transplant. Other than this there are four major mainstays of treatment in CML: treatment with tyrosine kinase inhibitors, myelosuppressive or leukopheresis therapy (to counteract the leukocytosis during early treatment), splenectomy and interferon alfa-2b treatment. Due to the high median age of patients with CML it is relatively rare for CML to be seen in pregnant women, despite this, however, chronic myelogenous leukemia can be treated with relative safety at any time during pregnancy with Interferon-alpha hormones.\\n\\n\\n=== Chronic phase ===\\nIn the past, antimetabolites (e.g., cytarabine, hydroxyurea), alkylating agents, interferon alfa 2b, and steroids were used as treatments of CML in the chronic phase, but since the 2000s have been replaced by Bcr-Abl tyrosine-kinase inhibitors drugs that specifically target BCR-ABL, the constitutively activated tyrosine kinase fusion protein caused by the Philadelphia chromosome translocation. Despite the move to replacing cytotoxic antineoplastics (standard anticancer drugs) with tyrosine kinase inhibitors sometimes hydroxyurea is still used to counteract the high leukocyte counts encountered during treatment with tyrosine kinase inhibitors like imatinib; in these situations it may be the preferred myelosuppressive agent due to its relative lack of leukemogenic effects and hence the relative lack of potential for secondary hematologic malignancies to result from treatment. IRIS, an international study that compared interferon/cytarabine combination and the first of these new drugs imatinib, with long-term follow up, demonstrated the clear superiority of tyrosine-kinase-targeted inhibition over existing treatments.\\n\\n\\n==== Imatinib ====\\nThe first of this new class of drugs was imatinib mesylate (marketed as Gleevec or Glivec), approved by the U.S. Food and Drug Administration (FDA) in 2001. Imatinib was found to inhibit the progression of CML in the majority of patients (65–75%) sufficiently to achieve regrowth of their normal bone marrow stem cell population (a cytogenetic response) with stable proportions of maturing white blood cells.  Because some leukemic cells (as evaluated by RT-PCR) persist in nearly all patients, the treatment has to be continued indefinitely. Since the advent of imatinib, CML has become the first cancer in which a standard medical treatment may give to the patient a normal life expectancy.\\n\\n\\n==== Dasatinib, nilotinib, radotinib and bosutinib ====\\nTo overcome imatinib resistance and to increase responsiveness to TK inhibitors, four novel agents were later developed. The first, dasatinib, blocks several further oncogenic proteins, in addition to more potent inhibition of the BCR-ABL protein, and was initially approved in 2007 by the US FDA to treat CML in patients who were either resistant to or intolerant of imatinib. A second new TK inhibitor, nilotinib, was also approved by the FDA for the same indication. In 2010, nilotinib and dasatinib were also approved for first-line therapy, making three drugs in this class available for treatment of newly diagnosed CML. In 2012, Radotinib joined the class of novel agents in the inhibition of the BCR-ABL protein and was approved in South Korea for patients resistant to or intolerant of imatinib. Bosutinib received US FDA and EU European Medicines Agency approval on September 4, 2012 and 27 March 2013 respectively for the treatment of adult patients with Philadelphia chromosome-positive (Ph+) chronic myelogenous leukemia (CML) with resistance, or intolerance to prior therapy.\\n\\n\\n==== Treatment-resistant CML ====\\nWhile capable of producing significantly improved responses compared with the action of imatinib, neither dasatinib nor nilotinib could overcome drug resistance caused by one particular mutation found to occur in the structure of BCR-ABL1 known as the T315I mutation (i.e. where the 315th amino acid is mutated from a threonine residue to an isoleucine residue). Two approaches were developed to the treatment of CML as a result:\\nIn 2007, Chemgenex released results of an open-label Phase 2/3 study (CGX-635-CML-202) that investigated the use of a non BCR-ABL targeted agent omacetaxine, administered subcutaneously (under the skin) in patients who had failed with imatinib and exhibited T315I kinase domain mutation. This is a study which is ongoing through 2014. In September 2012, the FDA approved omacetaxine for the treatment of CML in the case of resistance to other chemotherapeutic agents.Independently, ARIAD pharmaceuticals, adapting the chemical structures from first and second-generation TK inhibitors, arrived at a new pan-BCR-ABL1 inhibitor which showed (for the first time)  efficacy against T315I, as well as all other known mutations of the oncoprotein. The drug, ponatinib, gained FDA approval in December 2012 for treatment of patients with resistant or intolerant CML. Just as with second generation TK inhibitors, early approval is being sought to extend the use of ponatinib to newly diagnosed CML also.\\n\\n\\n=== Vaccination ===\\nIn 2005, encouraging but mixed results of vaccination were reported with the BCR/ABL1 p210 fusion protein in patients with stable disease, with GM-CSF as an adjuvant.\\n\\n\\n== Prognosis ==\\nBefore the advent of tyrosine kinase inhibitors, the median survival time for CML patients had been about 3–5 years from time of diagnosis.With the use of tyrosine kinase inhibitors, survival rates have improved dramatically. A 2006 followup of 553 patients using imatinib (Gleevec) found an overall survival rate of 89% after five years.A 2011 followup of 832 patients using imatinib who achieved a stable cytogenetic response found an overall survival rate of 95.2% after 8 years, which is similar to the rate in the general population. Fewer than 1% of patients died because of leukemia progression.\\n\\n\\n== Epidemiology ==\\n\\n\\n=== United Kingdom ===\\nCML accounts for 8% of all leukaemias in the UK, and around 680 people were diagnosed with the disease in 2011.\\n\\n\\n=== United States ===\\nThe American Cancer Society estimates that in 2014, about 5,980 new cases of chronic myeloid leukemia were diagnosed, and about 810 people died of the disease. This means that a little over 10% of all newly diagnosed leukemia cases will be chronic myeloid leukemia. The average risk of a person getting this disease is 1 in 588. The disease is more common in men than women, and more common in whites than African-Americans. The average age at diagnosis is 64 years, and this disease is rarely seen in children.\\n\\n\\n== References ==\\n\\n\\n== External links ==\\nChronic Myeloid Leukemia at American Cancer Society\\nCML information from The Leukemia & Lymphoma Society\\nChronic Myelocytic Leukemia (CML) at Merck Manual of Diagnosis and Therapy Home Edition'}}]}})"
      ]
     },
     "execution_count": 154,
     "metadata": {},
     "output_type": "execute_result"
    }
   ],
   "source": [
    "boolQuery = {\n",
    "    \"_source\": [\"name\", \"title\", \"fulltext\"],\n",
    "    \"query\": {\n",
    "        \"bool\": {\n",
    "            \"must\" : {\n",
    "                \"term\" : { \"title\" : \"chronic\" }\n",
    "            },\n",
    "            \"filter\": {\n",
    "                \"term\" : { \"fulltext\" : \"americans\" }\n",
    "            },\n",
    "            \"should\" : [\n",
    "                { \"term\" : { \"fulltext\" : \"leukemia\" } },\n",
    "                { \"term\" : { \"fulltext\" : \"syndrome\" } }\n",
    "            ],\n",
    "            \"must_not\" : {\n",
    "                \"term\" : { \"name\" : \"epidemic+encephalomyelitis\" }\n",
    "            },\n",
    "            \"minimum_should_match\": 1\n",
    "        }\n",
    "    }\n",
    "}\n",
    "\n",
    "result=client.search(index=indexName, body=boolQuery, size=1)\n",
    "result"
   ]
  },
  {
   "cell_type": "code",
   "execution_count": 155,
   "id": "ade69f04-89c2-4fb4-a25a-f263d67ea64a",
   "metadata": {},
   "outputs": [
    {
     "data": {
      "text/plain": [
       "{'total': {'value': 8, 'relation': 'eq'},\n",
       " 'max_score': 9.468292,\n",
       " 'hits': [{'_index': 'medical',\n",
       "   '_id': 'Chronic myelogenous leukemia',\n",
       "   '_score': 9.468292,\n",
       "   '_source': {'name': 'Chronic myelogenous leukemia',\n",
       "    'title': 'Chronic myelogenous leukemia',\n",
       "    'fulltext': 'Chronic myelogenous leukemia (CML), also known as chronic myeloid leukemia, is a cancer of the white blood cells. It is a form of leukemia characterized by the increased and unregulated growth of myeloid cells in the bone marrow and the accumulation of these cells in the blood. CML is a clonal bone marrow stem cell disorder in which a proliferation of mature granulocytes (neutrophils, eosinophils and basophils) and their precursors is found. It is a type of myeloproliferative neoplasm associated with a characteristic chromosomal translocation called the Philadelphia chromosome.\\nCML is largely treated with targeted drugs called tyrosine-kinase inhibitors (TKIs) which have led to dramatically improved long-term survival rates since 2001. These drugs have revolutionized treatment of this disease and allow most patients to have a good quality of life when compared to the former chemotherapy drugs. In Western countries, CML accounts for 15–25% of all adult leukemias and 14% of leukemias overall (including the pediatric population, where CML is less common).\\n\\n\\n== Signs and symptoms ==\\nThe way CML presents depends on the stage of the disease at diagnosis as it has been known to skip stages in some cases.Most patients (~90%) are diagnosed during the chronic stage which is most often asymptomatic. In these cases it may be diagnosed incidentally with an elevated white blood cell count on a routine laboratory test. It can also present with symptoms indicative of hepatosplenomegaly and the resulting upper quadrant pain this causes. The enlarged spleen may put pressure on the stomach causing a loss of appetite and resulting weight loss. It may also present with mild fever and night sweats due to an elevated basal level of metabolism.Some (<10%) are diagnosed during the accelerated stage which most often presents bleeding, petechiae and ecchymosis. In these patients fevers are most commonly the result of opportunistic infections.Some patients are initially diagnosed in the blast phase in which the symptoms are most likely fever, bone pain and an increase in bone marrow fibrosis.\\n\\n\\n== Cause ==\\nIn most cases no obvious cause for CML can be isolated.\\n\\n\\n=== Risk factors ===\\nCML is more common in males than in females (male to female ratio of 1.4:1) and appears more commonly in the elderly with a median age at diagnosis of 65 years. Exposure to ionising radiation appears to be a risk factor, based on a 50 fold higher incidence of CML in Hiroshima and Nagasaki nuclear bombing survivors. The rate of CML in these individuals seems to peak about 10 years after the exposure.\\n\\n\\n== Pathophysiology ==\\n\\nCML was the first cancer to be linked to a clear genetic abnormality, the chromosomal translocation known as the Philadelphia chromosome. This chromosomal abnormality is so named because it was first discovered and described in 1960 by two scientists from Philadelphia, Pennsylvania, USA: Peter Nowell of the University of Pennsylvania and David Hungerford of Fox Chase Cancer Center.In this translocation, parts of two chromosomes (the 9th and 22nd) switch places. As a result, part of the BCR (\"breakpoint cluster region\") gene from chromosome 22 is fused with the ABL gene on chromosome 9. This abnormal \"fusion\" gene generates a protein of p210 or sometimes p185 weight (p210 is short for 210 kDa protein, a shorthand used for characterizing proteins based solely on size). Because abl carries a domain that can add phosphate groups to tyrosine residues (a tyrosine kinase), the bcr-abl fusion gene product is also a tyrosine kinase.\\n\\nThe fused BCR-ABL protein interacts with the interleukin 3beta(c) receptor subunit. The BCR-ABL transcript is continuously active and does not require activation by other cellular messaging proteins. In turn, BCR-ABL activates a cascade of proteins that control the cell cycle, speeding up cell division. Moreover, the BCR-ABL protein inhibits DNA repair, causing genomic instability and making the cell more susceptible to developing further genetic abnormalities. The action of the BCR-ABL protein is the pathophysiologic cause of chronic myelogenous leukemia. With improved understanding of the nature of the BCR-ABL protein and its action as a tyrosine kinase, targeted therapies (the first of which was imatinib) that specifically inhibit the activity of the BCR-ABL protein have been developed. These tyrosine kinase inhibitors can induce complete remissions in CML, confirming the central importance of bcr-abl as the cause of CML.\\n\\n\\n== Diagnosis ==\\n\\nCML is often suspected on the basis of a complete blood count, which shows increased granulocytes of all types, typically including mature myeloid cells. Basophils and eosinophils are almost universally increased; this feature may help differentiate CML from a leukemoid reaction. A bone marrow biopsy is often performed as part of the evaluation for CML, and CML is diagnosed by cytogenetics that detects the translocation t(9;22)(q34;q11.2) which involves the ABL1 gene in chromosome 9 and the BCR gene in chromosome 22. As a result of this translocation, the chromosome looks smaller than its homologue chromosome, and this appearance is known as the Philadelphia chromosome chromosomal abnormality. Thus, this abnormality can be detected by routine cytogenetics, and the involved genes BCR-ABL1 can be detected by fluorescent in situ hybridization, as well as by PCR.Controversy exists over so-called Ph-negative CML, or cases of suspected CML in which the Philadelphia chromosome cannot be detected. Many such patients in fact have complex chromosomal abnormalities that mask the (9;22) translocation, or have evidence of the translocation by FISH or RT-PCR in spite of normal routine karyotyping. The small subset of patients without detectable molecular evidence of BCR-ABL1 fusion may be better classified as having an undifferentiated myelodysplastic/myeloproliferative disorder, as their clinical course tends to be different from patients with CML.CML must be distinguished from a leukemoid reaction, which can have a similar appearance on a blood smear.\\n\\n\\n=== Classification ===\\nCML is often divided into three phases based on clinical characteristics and laboratory findings. In the absence of intervention, CML typically begins in the chronic phase, and over the course of several years progresses to an accelerated phase and ultimately to a blast crisis. Blast crisis is the terminal phase of CML and clinically behaves like an acute leukemia. Drug treatment will usually stop this progression if started early. One of the drivers of the progression from chronic phase through acceleration and blast crisis is the acquisition of new chromosomal abnormalities (in addition to the Philadelphia chromosome). Some patients may already be in the accelerated phase or blast crisis by the time they are diagnosed.\\n\\n\\n==== Chronic phase ====\\nApproximately 85% of patients with CML are in the chronic phase at the time of diagnosis. During this phase, patients are usually asymptomatic or have only mild symptoms of fatigue, left side pain, joint and/or hip pain, or abdominal fullness. The duration of chronic phase is variable and depends on how early the disease was diagnosed as well as the therapies used. In the absence of treatment, the disease progresses to an accelerated phase. Precise patient staging based on clinical markers and personal genomic profile will likely prove beneficial in the assessment of disease history with respect to progression risk.\\n\\n\\n==== Accelerated phase ====\\nCriteria for diagnosing transition into the accelerated phase are somewhat variable; the most widely used criteria are those put forward by investigators at M.D. Anderson Cancer Center, by Sokal et al., and the World Health Organization. The WHO criteria are perhaps most widely used, and define the accelerated phase by the presence of ≥1 of the following haematological/cytogenetic criteria or provisional criteria concerning response to tyrosine kinase inhibitor (TKI) therapy\\n\\nHaematological/cytogenetic criteria\\nPersistent or increasing high white blood cell count (> 10 × 109/L), unresponsive to therapy\\nPersistent or increasing splenomegaly, unresponsive to therapy\\nPersistent thrombocytosis (> 1000 × 109/L), unresponsive to therapy\\nPersistent thrombocytopenia (< 100 × 109/L), unrelated to therapy\\n≥ 20% basophils in the peripheral blood\\n10―19% blasts in the peripheral blood and/or bone marrow\\nAdditional clonal chromosomal abnormalities in Philadelphia (Ph) chromosome-positive (Ph+) cells at diagnosis, including so-called major route abnormalities (a second Ph chromosome, trisomy 8, isochromosome 17q, trisomy 19), complex karyotype, and abnormalities of 3q26.2\\nAny new clonal chromosomal abnormality in Ph+ cells that occurs during therapy\\nProvisional response-to-TKI criteria\\nHaematological resistance (or failure to achieve a complete haematological response d) to the first TKI\\nAny haematological, cytogenetic, or molecular indications of resistance to two sequential TKIs\\nOccurrence of two or more mutations in the BCR-ABL1 fusion gene during TKI therapyThe patient is considered to be in the accelerated phase if any of the above are present. The accelerated phase is significant because it signals that the disease is progressing and transformation to blast crisis is imminent. Drug treatment often becomes less effective in the advanced stages.\\n\\n\\n==== Blast crisis ====\\nBlast crisis is the final phase in the evolution of CML, and behaves like an acute leukemia, with rapid progression and short survival. Blast crisis is diagnosed if any of the following are present in a patient with CML:\\n>20% blasts in the blood or bone marrow\\nThe presence of an extramedullary proliferation of blasts\\n\\n\\n== Treatment ==\\nThe only curative treatment for CML is a bone marrow transplant or an allogeneic stem cell transplant. Other than this there are four major mainstays of treatment in CML: treatment with tyrosine kinase inhibitors, myelosuppressive or leukopheresis therapy (to counteract the leukocytosis during early treatment), splenectomy and interferon alfa-2b treatment. Due to the high median age of patients with CML it is relatively rare for CML to be seen in pregnant women, despite this, however, chronic myelogenous leukemia can be treated with relative safety at any time during pregnancy with Interferon-alpha hormones.\\n\\n\\n=== Chronic phase ===\\nIn the past, antimetabolites (e.g., cytarabine, hydroxyurea), alkylating agents, interferon alfa 2b, and steroids were used as treatments of CML in the chronic phase, but since the 2000s have been replaced by Bcr-Abl tyrosine-kinase inhibitors drugs that specifically target BCR-ABL, the constitutively activated tyrosine kinase fusion protein caused by the Philadelphia chromosome translocation. Despite the move to replacing cytotoxic antineoplastics (standard anticancer drugs) with tyrosine kinase inhibitors sometimes hydroxyurea is still used to counteract the high leukocyte counts encountered during treatment with tyrosine kinase inhibitors like imatinib; in these situations it may be the preferred myelosuppressive agent due to its relative lack of leukemogenic effects and hence the relative lack of potential for secondary hematologic malignancies to result from treatment. IRIS, an international study that compared interferon/cytarabine combination and the first of these new drugs imatinib, with long-term follow up, demonstrated the clear superiority of tyrosine-kinase-targeted inhibition over existing treatments.\\n\\n\\n==== Imatinib ====\\nThe first of this new class of drugs was imatinib mesylate (marketed as Gleevec or Glivec), approved by the U.S. Food and Drug Administration (FDA) in 2001. Imatinib was found to inhibit the progression of CML in the majority of patients (65–75%) sufficiently to achieve regrowth of their normal bone marrow stem cell population (a cytogenetic response) with stable proportions of maturing white blood cells.  Because some leukemic cells (as evaluated by RT-PCR) persist in nearly all patients, the treatment has to be continued indefinitely. Since the advent of imatinib, CML has become the first cancer in which a standard medical treatment may give to the patient a normal life expectancy.\\n\\n\\n==== Dasatinib, nilotinib, radotinib and bosutinib ====\\nTo overcome imatinib resistance and to increase responsiveness to TK inhibitors, four novel agents were later developed. The first, dasatinib, blocks several further oncogenic proteins, in addition to more potent inhibition of the BCR-ABL protein, and was initially approved in 2007 by the US FDA to treat CML in patients who were either resistant to or intolerant of imatinib. A second new TK inhibitor, nilotinib, was also approved by the FDA for the same indication. In 2010, nilotinib and dasatinib were also approved for first-line therapy, making three drugs in this class available for treatment of newly diagnosed CML. In 2012, Radotinib joined the class of novel agents in the inhibition of the BCR-ABL protein and was approved in South Korea for patients resistant to or intolerant of imatinib. Bosutinib received US FDA and EU European Medicines Agency approval on September 4, 2012 and 27 March 2013 respectively for the treatment of adult patients with Philadelphia chromosome-positive (Ph+) chronic myelogenous leukemia (CML) with resistance, or intolerance to prior therapy.\\n\\n\\n==== Treatment-resistant CML ====\\nWhile capable of producing significantly improved responses compared with the action of imatinib, neither dasatinib nor nilotinib could overcome drug resistance caused by one particular mutation found to occur in the structure of BCR-ABL1 known as the T315I mutation (i.e. where the 315th amino acid is mutated from a threonine residue to an isoleucine residue). Two approaches were developed to the treatment of CML as a result:\\nIn 2007, Chemgenex released results of an open-label Phase 2/3 study (CGX-635-CML-202) that investigated the use of a non BCR-ABL targeted agent omacetaxine, administered subcutaneously (under the skin) in patients who had failed with imatinib and exhibited T315I kinase domain mutation. This is a study which is ongoing through 2014. In September 2012, the FDA approved omacetaxine for the treatment of CML in the case of resistance to other chemotherapeutic agents.Independently, ARIAD pharmaceuticals, adapting the chemical structures from first and second-generation TK inhibitors, arrived at a new pan-BCR-ABL1 inhibitor which showed (for the first time)  efficacy against T315I, as well as all other known mutations of the oncoprotein. The drug, ponatinib, gained FDA approval in December 2012 for treatment of patients with resistant or intolerant CML. Just as with second generation TK inhibitors, early approval is being sought to extend the use of ponatinib to newly diagnosed CML also.\\n\\n\\n=== Vaccination ===\\nIn 2005, encouraging but mixed results of vaccination were reported with the BCR/ABL1 p210 fusion protein in patients with stable disease, with GM-CSF as an adjuvant.\\n\\n\\n== Prognosis ==\\nBefore the advent of tyrosine kinase inhibitors, the median survival time for CML patients had been about 3–5 years from time of diagnosis.With the use of tyrosine kinase inhibitors, survival rates have improved dramatically. A 2006 followup of 553 patients using imatinib (Gleevec) found an overall survival rate of 89% after five years.A 2011 followup of 832 patients using imatinib who achieved a stable cytogenetic response found an overall survival rate of 95.2% after 8 years, which is similar to the rate in the general population. Fewer than 1% of patients died because of leukemia progression.\\n\\n\\n== Epidemiology ==\\n\\n\\n=== United Kingdom ===\\nCML accounts for 8% of all leukaemias in the UK, and around 680 people were diagnosed with the disease in 2011.\\n\\n\\n=== United States ===\\nThe American Cancer Society estimates that in 2014, about 5,980 new cases of chronic myeloid leukemia were diagnosed, and about 810 people died of the disease. This means that a little over 10% of all newly diagnosed leukemia cases will be chronic myeloid leukemia. The average risk of a person getting this disease is 1 in 588. The disease is more common in men than women, and more common in whites than African-Americans. The average age at diagnosis is 64 years, and this disease is rarely seen in children.\\n\\n\\n== References ==\\n\\n\\n== External links ==\\nChronic Myeloid Leukemia at American Cancer Society\\nCML information from The Leukemia & Lymphoma Society\\nChronic Myelocytic Leukemia (CML) at Merck Manual of Diagnosis and Therapy Home Edition'}}]}"
      ]
     },
     "execution_count": 155,
     "metadata": {},
     "output_type": "execute_result"
    }
   ],
   "source": [
    "result['hits']"
   ]
  },
  {
   "cell_type": "code",
   "execution_count": null,
   "id": "117771e7-f96a-47b3-bf0d-ed2f725aec1b",
   "metadata": {},
   "outputs": [],
   "source": []
  },
  {
   "cell_type": "code",
   "execution_count": null,
   "id": "b3a85dfe-6c02-4fdd-a149-449bc125218f",
   "metadata": {},
   "outputs": [],
   "source": []
  },
  {
   "cell_type": "code",
   "execution_count": null,
   "id": "a5c13386-1493-450e-9242-0e6ebf9f8fe7",
   "metadata": {},
   "outputs": [],
   "source": []
  }
 ],
 "metadata": {
  "kernelspec": {
   "display_name": "Python 3 (ipykernel)",
   "language": "python",
   "name": "python3"
  },
  "language_info": {
   "codemirror_mode": {
    "name": "ipython",
    "version": 3
   },
   "file_extension": ".py",
   "mimetype": "text/x-python",
   "name": "python",
   "nbconvert_exporter": "python",
   "pygments_lexer": "ipython3",
   "version": "3.9.0"
  }
 },
 "nbformat": 4,
 "nbformat_minor": 5
}
