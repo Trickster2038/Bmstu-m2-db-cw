{
 "cells": [
  {
   "cell_type": "code",
   "execution_count": 2,
   "id": "059824c9-8157-4db2-9335-ee73cb75453e",
   "metadata": {},
   "outputs": [
    {
     "name": "stdout",
     "output_type": "stream",
     "text": [
      "'Cloves'\t6414\n",
      "'Butter'\t4994\n",
      "'Flour'\t3589\n",
      "'Eggs'\t2357\n",
      "'Chicken'\t1901\n",
      "'Cheese'\t1876\n",
      "'Cinnamon'\t1095\n",
      "'Baking Powder'\t923\n",
      "'Chocolate'\t887\n",
      "'Bread'\t886\n"
     ]
    }
   ],
   "source": [
    "from py2neo import Graph, Node, Relationship\n",
    "\n",
    "# graph_db = Graph(\"bolt://localhost:7687\", auth=('neo4j', 'iu6-magisters'))\n",
    "graph_db = Graph(\"bolt://localhost:7687\")\n",
    "\n",
    "try:\n",
    "    cur=graph_db.run(\"MATCH (REC:Recipe)-[r:Contains]->(ING:Ingredient) WITH ING, count(r) AS num RETURN ING.Name as Name, num ORDER BY num DESC LIMIT 10;\")\n",
    "except Exception:\n",
    "    print(Exception)\n",
    "\n",
    "while cur.forward():\n",
    "    print(cur.current)\n"
   ]
  },
  {
   "cell_type": "code",
   "execution_count": 8,
   "id": "2acf7192-ecef-4e02-b44f-fbd19cb4f331",
   "metadata": {},
   "outputs": [
    {
     "name": "stdout",
     "output_type": "stream",
     "text": [
      "'Cocoa Nib, Chocolate, and Citrus Dacquoise'\t16\n",
      "'Salmagundi'\t15\n",
      "'Wild rabbit with ham hock, carrots, asparagus and morels'\t13\n",
      "\"Maxie's Shrimp and Grits Recipe\"\t13\n",
      "'Espresso Pound Cake with Cranberries and Pecans'\t13\n",
      "'How To: Host the Perfect Easter Brunch Recipe'\t13\n",
      "'Smoky and Spicy Vegetarian Chili Recipe'\t12\n",
      "'Blueberry Dragon Fruit Chocolate Ganache Cupcakes Recipe'\t12\n",
      "\"Bison and Red Wine Shepherd's Pie\"\t12\n",
      "\"Hog's pudding with seaweed, potato terrine and mushroom ketchup\"\t12\n"
     ]
    }
   ],
   "source": [
    "# 2 - ok\n",
    "\n",
    "try:\n",
    "    cur=graph_db.run(\"MATCH (REC:Recipe)-[r:Contains]->(ING:Ingredient) WITH REC, count(r) AS num RETURN REC.Name as reciept, num ORDER BY num DESC LIMIT 10;\")\n",
    "except Exception:\n",
    "    print(Exception)\n",
    "\n",
    "while cur.forward():\n",
    "    print(cur.current)"
   ]
  },
  {
   "cell_type": "code",
   "execution_count": 3,
   "id": "05a4ad4d-ee0b-4ccf-8b32-3a6d09a2fd3a",
   "metadata": {
    "scrolled": true
   },
   "outputs": [
    {
     "name": "stdout",
     "output_type": "stream",
     "text": [
      "'Flour'\n",
      "'Eggs'\n",
      "'Egg Whites'\n",
      "'Cream of Tartar'\n",
      "'Cornstarch'\n",
      "'Corn Syrup'\n",
      "'Corn'\n",
      "'Coffee'\n",
      "'Cocoa Powder'\n",
      "'Cocoa'\n",
      "'Chocolate'\n",
      "'Cheese'\n",
      "'Canola'\n",
      "'Butter'\n",
      "'Baking Soda'\n",
      "'Baking Powder'\n"
     ]
    }
   ],
   "source": [
    "# 3 - ok\n",
    "\n",
    "try:\n",
    "    cur=graph_db.run(\"MATCH (REC:Recipe {Name: 'Cocoa Nib, Chocolate, and Citrus Dacquoise'})-[r:Contains]->(ING:Ingredient) WITH ING RETURN ING.Name as Name;\")\n",
    "except Exception:\n",
    "    print(Exception)\n",
    "\n",
    "while cur.forward():\n",
    "    print(cur.current)"
   ]
  },
  {
   "cell_type": "code",
   "execution_count": 9,
   "id": "d0573ec5-985e-4ca7-9fcc-bf17d06a793d",
   "metadata": {},
   "outputs": [],
   "source": [
    "# UserNode=graph_db.nodes.match(\"User\", Name=\"Ragnar\").first()\n",
    "# if UserNode==None:\n",
    "#     UserNode = Node(\"User\",Name=\"Ragnar\")\n",
    "#     graph_db.create(UserNode)\n",
    "\n",
    "# RecipeNode=graph_db.nodes.match(\"Recipe\", Name=\"ASADO Recipe\").first()\n",
    "# NodesRelationship = Relationship(UserNode, \"Likes\", RecipeNode)\n",
    "# graph_db.create(NodesRelationship)\n",
    "\n",
    "# RecipeNode=graph_db.nodes.match(\"Recipe\", Name=\"Spiced Lentil Tacos\").first()\n",
    "# NodesRelationship = Relationship(UserNode, \"Likes\", RecipeNode)\n",
    "# graph_db.create(NodesRelationship)\n",
    "\n",
    "# RecipeNode=graph_db.nodes.match(\"Recipe\", Name=\"Smoked Cashew Salsa\").first()\n",
    "# NodesRelationship = Relationship(UserNode, \"Likes\", RecipeNode)\n",
    "# graph_db.create(NodesRelationship)"
   ]
  },
  {
   "cell_type": "code",
   "execution_count": 10,
   "id": "b8db0353-e917-452f-a63c-b2442a345fc5",
   "metadata": {},
   "outputs": [
    {
     "name": "stdout",
     "output_type": "stream",
     "text": [
      "'Texas Barbecue Sauce'\t6\n",
      "'erebus chili Recipe'\t6\n",
      "'Chipotle-Honey–Glazed Chicken Wings with Toasted Sesame Seeds and Green Onion'\t6\n",
      "'Smoky and Spicy Vegetarian Chili Recipe'\t6\n",
      "'Lime-Crab Soup'\t6\n",
      "'Pulled Chicken with Cherry-Chile Barbecue Sauce'\t6\n",
      "'Roast Chili Salsa Recipe'\t6\n",
      "\"Sweet Potato Shepherd's Pie\"\t6\n",
      "'Grilling: Tilapia Fish Tacos'\t6\n",
      "'Avocado-Lime Soup with Chipotle Chile'\t6\n",
      "'Two-Bean Turkey Chili'\t6\n",
      "'Black Bean-Corn Burger'\t6\n",
      "'Tomato, Tomatillo, and Corn Salad with Avocado Dressing Recipe'\t5\n",
      "'New Wave-New Fave Baked Tofu or Tempeh'\t5\n",
      "'Pepita Crusted Chicken Salad with Sweet Adobo Vinaigrette'\t5\n",
      "'Hibiscus-Flower Enchiladas'\t5\n",
      "'Spicy Stewed Beef with Creamy Cheddar Grits'\t5\n",
      "'Chipotle Roast Chicken Tacos'\t5\n",
      "'Pork Sandwiches with Cilantro-Jalapeno Slaw'\t5\n",
      "\"Maxie's Shrimp and Grits Recipe\"\t5\n"
     ]
    }
   ],
   "source": [
    "# 4 - ok\n",
    "\n",
    "try:\n",
    "    cur=graph_db.run(\"MATCH (USR1:User{Name:'Ragnar'})-[l1:Likes]->(REC1:Recipe),(REC1)-[c1:Contains]->(ING1:Ingredient) WITH  ING1,REC1 MATCH (REC2:Recipe)-[c2:Contains]->(ING1:Ingredient) WHERE REC1 <> REC2 RETURN REC2.Name,count(ING1) AS IngCount ORDER BY IngCount DESC LIMIT 20;\")\n",
    "except Exception:\n",
    "    print(Exception)\n",
    "\n",
    "while cur.forward():\n",
    "    print(cur.current)"
   ]
  },
  {
   "cell_type": "code",
   "execution_count": null,
   "id": "c33250be-25fc-4e16-ae6e-c425cf1e47ac",
   "metadata": {},
   "outputs": [],
   "source": []
  },
  {
   "cell_type": "code",
   "execution_count": null,
   "id": "21279b4a-e44a-432b-aa85-0973bc947f12",
   "metadata": {},
   "outputs": [],
   "source": []
  },
  {
   "cell_type": "code",
   "execution_count": null,
   "id": "2656f246-21ad-4e3e-93ae-ad42fef806ec",
   "metadata": {},
   "outputs": [],
   "source": [
    "curl --location --request PUT 'http://localhost:9200/_cluster/settings' \\\n",
    "--header 'Content-Type: application/json' \\\n",
    "--data '{\n",
    "\"transient\": { \"cluster.routing.allocation.disk.threshold_enabled\": false }\n",
    "}'"
   ]
  },
  {
   "cell_type": "code",
   "execution_count": null,
   "id": "414312ec-e027-4b62-83dc-712bb03eb1f9",
   "metadata": {},
   "outputs": [],
   "source": [
    "curl --location --request PUT 'http://localhost:9200/_all/_settings' \\\n",
    "--header 'Content-Type: application/json' \\\n",
    "--data '{\"index.blocks.read_only_allow_delete\": null}'"
   ]
  }
 ],
 "metadata": {
  "kernelspec": {
   "display_name": "Python 3 (ipykernel)",
   "language": "python",
   "name": "python3"
  },
  "language_info": {
   "codemirror_mode": {
    "name": "ipython",
    "version": 3
   },
   "file_extension": ".py",
   "mimetype": "text/x-python",
   "name": "python",
   "nbconvert_exporter": "python",
   "pygments_lexer": "ipython3",
   "version": "3.9.0"
  }
 },
 "nbformat": 4,
 "nbformat_minor": 5
}
