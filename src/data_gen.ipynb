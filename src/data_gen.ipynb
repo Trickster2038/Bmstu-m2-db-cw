{
 "cells": [
  {
   "cell_type": "code",
   "execution_count": 71,
   "id": "e57699c2-7bfb-4bf8-bb0f-7e0f2c0947dd",
   "metadata": {},
   "outputs": [],
   "source": [
    "from faker import Faker\n",
    "import json\n",
    "\n",
    "fake = Faker('ru_RU')\n",
    "\n",
    "\n",
    "def generate_order_data():\n",
    "    order_id = fake.pyint(min_value=1, max_value=1000000)\n",
    "    order_type = fake.word()\n",
    "    # order_doc_type = fake.word()\n",
    "    # order_index = fake.pyint(min_value=1, max_value=1000)\n",
    "    order_customer_id = fake.pyint(min_value=1, max_value=1000000)\n",
    "    order_customer_name = fake.name()\n",
    "\n",
    "    order_details = fake.sentence(ext_word_list=[\"хрупкий\", \"тяжелый\", \"объемный\"])\n",
    "    order_date = fake.date_between(start_date=\"-30d\", end_date=\"today\")\n",
    "    order_due_date = fake.date_between(start_date=\"+30d\", end_date=\"+60d\")\n",
    "    order_completion_date = fake.date_between(start_date=\"+30d\", end_date=\"+60d\")\n",
    "    order_parts = [fake.word() for _ in range(fake.pyint(min_value=1, max_value=5))]\n",
    "    order_price = fake.pyfloat(min_value=100, max_value=10000)\n",
    "    order_master_id = fake.pyint(min_value=1, max_value=1000000)\n",
    "\n",
    "    return {\n",
    "        \"index\": \"orders\",\n",
    "            # \"doc_type\": order_doc_type,\n",
    "        \"id\": order_id,\n",
    "        \"body\": {\n",
    "            \"id_заказа\": order_id,\n",
    "            \"дата_заказа\": order_date.strftime(\"%Y-%m-%d\"),\n",
    "            \"id_заказчика\": order_customer_id,\n",
    "            \"сведения_о_заказчике\": order_customer_name,\n",
    "            \"данные_о_заказе\": order_details,\n",
    "            \"срок_выполнения_заказа\": order_due_date.strftime(\"%Y-%m-%d\"),\n",
    "            \"фактическая_дата_выполнения\": order_completion_date.strftime(\"%Y-%m-%d\"),\n",
    "            \"запчасть\": order_parts,\n",
    "            \"стоимость\": order_price,\n",
    "            \"id_мастера\": order_master_id\n",
    "        }\n",
    "    }\n",
    "\n",
    "\n",
    "def generate_master_data():\n",
    "    master_id = fake.pyint(min_value=1, max_value=1000000)\n",
    "    master_name = fake.name()\n",
    "    # master_feedback = fake.text(max_length=200)\n",
    "\n",
    "    return {\n",
    "        \"index\": \"master\",\n",
    "            # \"doc_type\": \"Master\",\n",
    "        \"id\": master_id,\n",
    "        \"body\": {\n",
    "            \"сведения_о_мастере\": f'{master_name}, Сведения: ',\n",
    "            \"отзыв_о_работе\": fake.sentence(ext_word_list=[\"аккуратный\", \"медлительный\", \"ворчливый\"])\n",
    "        }\n",
    "    }\n",
    "\n",
    "\n",
    "def generate_json():\n",
    "    orders = [generate_order_data() for _ in range(1)]\n",
    "    masters = [generate_master_data() for _ in range(1)]\n",
    "\n",
    "    json_data = {\n",
    "        \"Заказ\": orders,\n",
    "        \"Мастер\": masters\n",
    "    }\n",
    "\n",
    "    return json_data #json.dumps(json_data, indent=2)"
   ]
  },
  {
   "cell_type": "code",
   "execution_count": 72,
   "id": "5f0d7f90-8dec-4833-a644-b6f60b16d286",
   "metadata": {},
   "outputs": [],
   "source": [
    "# https://stackoverflow.com/questions/40054168/how-to-encode-cyrillic-characters-in-json"
   ]
  },
  {
   "cell_type": "code",
   "execution_count": 74,
   "id": "d6044606-931d-419a-bd08-96fa958093d5",
   "metadata": {},
   "outputs": [
    {
     "name": "stdout",
     "output_type": "stream",
     "text": [
      "{\"Заказ\": [{\"index\": \"orders\", \"id\": 808386, \"body\": {\"id_заказа\": 808386, \"дата_заказа\": \"2024-01-26\", \"id_заказчика\": 581881, \"сведения_о_заказчике\": \"Владимиров Силантий Измаилович\", \"данные_о_заказе\": \"Объемный хрупкий тяжелый.\", \"срок_выполнения_заказа\": \"2024-03-29\", \"фактическая_дата_выполнения\": \"2024-03-22\", \"запчасть\": [\"спалить\", \"поколение\"], \"стоимость\": 1582.77, \"id_мастера\": 912339}}], \"Мастер\": [{\"index\": \"master\", \"id\": 489776, \"body\": {\"сведения_о_мастере\": \"Лобанова Евпраксия Оскаровна, Сведения: \", \"отзыв_о_работе\": \"Медлительный медлительный медлительный ворчливый.\"}}]}\n"
     ]
    }
   ],
   "source": [
    "print(json.dumps(generate_json(), ensure_ascii=False))"
   ]
  },
  {
   "cell_type": "code",
   "execution_count": 75,
   "id": "9571814e-4a54-4f47-8550-547796f8e833",
   "metadata": {},
   "outputs": [
    {
     "name": "stdout",
     "output_type": "stream",
     "text": [
      "{'Заказ': [{'index': 'orders', 'id': 66573, 'body': {'id_заказа': 66573, 'дата_заказа': '2024-01-22', 'id_заказчика': 856535, 'сведения_о_заказчике': 'Лучезар Венедиктович Рожков', 'данные_о_заказе': 'Хрупкий хрупкий хрупкий.', 'срок_выполнения_заказа': '2024-04-10', 'фактическая_дата_выполнения': '2024-03-30', 'запчасть': ['заявление', 'что', 'палата', 'коммунизм'], 'стоимость': 4096.4617349, 'id_мастера': 848090}}], 'Мастер': [{'index': 'master', 'id': 195119, 'body': {'сведения_о_мастере': 'Валерия Евгеньевна Давыдова, Сведения: ', 'отзыв_о_работе': 'Медлительный медлительный аккуратный ворчливый ворчливый медлительный аккуратный.'}}]}\n"
     ]
    }
   ],
   "source": [
    "print(generate_json())"
   ]
  },
  {
   "cell_type": "code",
   "execution_count": 76,
   "id": "0b9a0298-9ec1-430e-81fc-daa512aca6e9",
   "metadata": {},
   "outputs": [
    {
     "name": "stdout",
     "output_type": "stream",
     "text": [
      "\"отзыв_о_работе\": \"Ворчливый аккуратный медлительный аккуратный ворчливый ворчливый.\"\n"
     ]
    }
   ],
   "source": [
    "s = b'\"\\xd7\\x91\\xd7\\xa8\\xd7\\x99 \\xd7\\xa6\\xd7\\xa7\\xd7\\x9c\\xd7\\x94\"'.decode()\n",
    "s = b'\"\\u043e\\u0442\\u0437\\u044b\\u0432_\\u043e_\\u0440\\u0430\\u0431\\u043e\\u0442\\u0435\": \"\\u0412\\u043e\\u0440\\u0447\\u043b\\u0438\\u0432\\u044b\\u0439 \\u0430\\u043a\\u043a\\u0443\\u0440\\u0430\\u0442\\u043d\\u044b\\u0439 \\u043c\\u0435\\u0434\\u043b\\u0438\\u0442\\u0435\\u043b\\u044c\\u043d\\u044b\\u0439 \\u0430\\u043a\\u043a\\u0443\\u0440\\u0430\\u0442\\u043d\\u044b\\u0439 \\u0432\\u043e\\u0440\\u0447\\u043b\\u0438\\u0432\\u044b\\u0439 \\u0432\\u043e\\u0440\\u0447\\u043b\\u0438\\u0432\\u044b\\u0439.\"'.decode('unicode-escape')\n",
    "print(s)"
   ]
  },
  {
   "cell_type": "code",
   "execution_count": 77,
   "id": "50294324-1c73-4964-8b11-8c31225740d7",
   "metadata": {},
   "outputs": [
    {
     "name": "stdout",
     "output_type": "stream",
     "text": [
      "{'Заказ': [{'index': 'orders', 'id': 650279, 'body': {'id_заказа': 650279, 'дата_заказа': '2024-02-08', 'id_заказчика': 945188, 'сведения_о_заказчике': 'Элеонора Матвеевна Игнатова', 'данные_о_заказе': 'Хрупкий тяжелый объемный объемный хрупкий.', 'срок_выполнения_заказа': '2024-04-08', 'фактическая_дата_выполнения': '2024-04-11', 'запчасть': ['передо', 'ночь', 'тревога', 'песенка', 'отметить'], 'стоимость': 1094.486847, 'id_мастера': 418809}}], 'Мастер': [{'index': 'master', 'id': 531108, 'body': {'сведения_о_мастере': 'Фокин Гостомысл Гертрудович, Сведения: ', 'отзыв_о_работе': 'Ворчливый аккуратный медлительный медлительный медлительный ворчливый медлительный.'}}]}\n"
     ]
    }
   ],
   "source": [
    "with open('test.json','w',encoding='ascii') as f:\n",
    "    json.dump(generate_json(),f)\n",
    "\n",
    "with open('test.json',encoding='ascii') as f:\n",
    "    data = json.load(f)\n",
    "print(data)"
   ]
  },
  {
   "cell_type": "code",
   "execution_count": null,
   "id": "fff02926-f0d5-4aa7-b504-37438170a2a6",
   "metadata": {},
   "outputs": [],
   "source": []
  },
  {
   "cell_type": "code",
   "execution_count": null,
   "id": "418b8ebd-e744-48fc-8a9f-ad9a8248ff14",
   "metadata": {},
   "outputs": [],
   "source": []
  }
 ],
 "metadata": {
  "kernelspec": {
   "display_name": "Python 3 (ipykernel)",
   "language": "python",
   "name": "python3"
  },
  "language_info": {
   "codemirror_mode": {
    "name": "ipython",
    "version": 3
   },
   "file_extension": ".py",
   "mimetype": "text/x-python",
   "name": "python",
   "nbconvert_exporter": "python",
   "pygments_lexer": "ipython3",
   "version": "3.9.0"
  }
 },
 "nbformat": 4,
 "nbformat_minor": 5
}
