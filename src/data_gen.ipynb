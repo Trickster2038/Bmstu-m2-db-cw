{
 "cells": [
  {
   "cell_type": "markdown",
   "id": "3632b48f-ba58-4298-bcca-924129bf6765",
   "metadata": {},
   "source": [
    "# JSON encode ru: https://stackoverflow.com/questions/40054168/how-to-encode-cyrillic-characters-in-json\n",
    "\n",
    "# ES: https://habr.com/ru/articles/280488/"
   ]
  },
  {
   "cell_type": "code",
   "execution_count": 241,
   "id": "e57699c2-7bfb-4bf8-bb0f-7e0f2c0947dd",
   "metadata": {},
   "outputs": [],
   "source": [
    "from faker import Faker\n",
    "import json\n",
    "import random\n",
    "\n",
    "fake = Faker('ru_RU')\n",
    "master_id_set = set()\n",
    "\n",
    "def generate_order_data():\n",
    "    order_id = fake.pyint(min_value=1, max_value=1000000)\n",
    "    # order_type = fake.word()\n",
    "    # order_doc_type = fake.word()\n",
    "    # order_index = fake.pyint(min_value=1, max_value=1000)\n",
    "    order_customer_id = fake.pyint(min_value=1, max_value=1000000)\n",
    "    order_customer_name = fake.name()\n",
    "\n",
    "    smp = random.sample([\"хрупкий\", \"тяжелый\", \"объемный\", \"ценный\"], 2)\n",
    "    order_details = f'{smp[0]}, {smp[1]}.'\n",
    "\n",
    "    # order_details = fake.sentence(ext_word_list=[\"хрупкий\", \"тяжелый\", \"объемный\", \"ценный\"], nb_words=2, variable_nb_words=True)\n",
    "    order_date = fake.date_between(start_date=\"-30d\", end_date=\"today\")\n",
    "    order_due_date = fake.date_between(start_date=\"+30d\", end_date=\"+60d\")\n",
    "    order_completion_date = fake.date_between(start_date=\"+30d\", end_date=\"+60d\")\n",
    "    order_parts = [fake.word(ext_word_list=['корпус', 'usb-разъем', 'дисплей', 'аккумулятор']) for _ in range(fake.pyint(min_value=1, max_value=3))]\n",
    "    repair_types = [fake.word(ext_word_list=['замена компонентов', 'пайка', 'анализ неисправности', 'мелкие детали']) for _ in range(fake.pyint(min_value=1, max_value=2))]\n",
    "    order_price = fake.pyfloat(min_value=1000, max_value=10000)\n",
    "    order_master_id =  random.choice(list(master_id_set)) #fake.pyint(min_value=1, max_value=1000000)\n",
    "\n",
    "    return {\n",
    "        \"index\": \"order\",\n",
    "            # \"doc_type\": order_doc_type,\n",
    "        \"id\": order_id,\n",
    "        \"body\": {\n",
    "            \"order_id\": order_id, #id_заказа\n",
    "            \"order_date\": order_date.strftime(\"%Y-%m-%d\"), #дата_заказа\n",
    "            \"order_customer_id\": order_customer_id, #id_заказчика\n",
    "            \"order_customer_desc\": order_customer_name, #сведения_о_заказчике\n",
    "            \"order_details_desc\": order_details, #данные_о_заказе\n",
    "            \"order_due_date\": order_due_date.strftime(\"%Y-%m-%d\"), #срок_выполнения_заказа\n",
    "            \"order_fact_completion_date\": order_completion_date.strftime(\"%Y-%m-%d\"), #фактическая_дата_выполнения\n",
    "            \"order_parts\": order_parts, #запчасть\n",
    "            \"repair_types\": repair_types, #ремонт\n",
    "            \"order_price\": order_price, #стоимость\n",
    "            \"order_master_id\": order_master_id #id_мастера\n",
    "        }\n",
    "    }\n",
    "\n",
    "\n",
    "def generate_master_data():\n",
    "    master_id = fake.pyint(min_value=1, max_value=1000000)\n",
    "    master_id_set.add(master_id)\n",
    "    master_name = fake.name()\n",
    "\n",
    "    master_feedbacks = []\n",
    "    \n",
    "    for _ in range(fake.pyint(min_value=1, max_value=3)):\n",
    "        smp = random.sample([\"аккуратный\", \"медлительный\", \"ворчливый\"], 2)\n",
    "        master_feedback = f'{smp[0]}, {smp[1]}.'\n",
    "        master_feedbacks.append(master_feedback)\n",
    " \n",
    "    master_xp = f'Стаж работы: {fake.random_int(min=1, max=15)} л./г.'\n",
    "    if fake.random_int(min=1, max=5) == 2:     \n",
    "        master_edu = 'Тип образования: высшее'  \n",
    "    else :\n",
    "        master_edu = 'Тип образования: среднее'  \n",
    "\n",
    "    return {\n",
    "        \"index\": \"master\",\n",
    "            # \"doc_type\": \"Master\",\n",
    "        \"id\": master_id,\n",
    "        \"body\": {\n",
    "            \"master_id\": master_id,\n",
    "            \"master_desc\": f'{master_name}, {fake.sentence(ext_word_list=[master_xp, master_edu], nb_words=1, variable_nb_words=True)}', #сведения_о_мастере\n",
    "            \"master_feedbacks\": master_feedbacks #отзывы_о_работе\n",
    "        }\n",
    "    }\n",
    "\n",
    "\n",
    "# def generate_json():\n",
    "\n",
    "#     masters = [generate_master_data() for _ in range(1)]\n",
    "#     orders = [generate_order_data() for _ in range(1)]\n",
    "    \n",
    "\n",
    "#     json_data = {\n",
    "#         \"Заказ\": orders,\n",
    "#         \"Мастер\": masters\n",
    "#     }\n",
    "\n",
    "#     return json_data #json.dumps(json_data, indent=2)"
   ]
  },
  {
   "cell_type": "code",
   "execution_count": 242,
   "id": "5f0d7f90-8dec-4833-a644-b6f60b16d286",
   "metadata": {},
   "outputs": [],
   "source": [
    "# https://stackoverflow.com/questions/40054168/how-to-encode-cyrillic-characters-in-json\n",
    "\n",
    "# https://habr.com/ru/articles/280488/"
   ]
  },
  {
   "cell_type": "code",
   "execution_count": 243,
   "id": "d6044606-931d-419a-bd08-96fa958093d5",
   "metadata": {},
   "outputs": [],
   "source": [
    "# print(json.dumps(generate_json(), indent=2, ensure_ascii=False))"
   ]
  },
  {
   "cell_type": "code",
   "execution_count": 244,
   "id": "9571814e-4a54-4f47-8550-547796f8e833",
   "metadata": {},
   "outputs": [],
   "source": [
    "# print(generate_json())"
   ]
  },
  {
   "cell_type": "code",
   "execution_count": 245,
   "id": "0b9a0298-9ec1-430e-81fc-daa512aca6e9",
   "metadata": {},
   "outputs": [],
   "source": [
    "# s = b'\"\\xd7\\x91\\xd7\\xa8\\xd7\\x99 \\xd7\\xa6\\xd7\\xa7\\xd7\\x9c\\xd7\\x94\"'.decode()\n",
    "# s = b'\"\\u043e\\u0442\\u0437\\u044b\\u0432_\\u043e_\\u0440\\u0430\\u0431\\u043e\\u0442\\u0435\": \"\\u0412\\u043e\\u0440\\u0447\\u043b\\u0438\\u0432\\u044b\\u0439 \\u0430\\u043a\\u043a\\u0443\\u0440\\u0430\\u0442\\u043d\\u044b\\u0439 \\u043c\\u0435\\u0434\\u043b\\u0438\\u0442\\u0435\\u043b\\u044c\\u043d\\u044b\\u0439 \\u0430\\u043a\\u043a\\u0443\\u0440\\u0430\\u0442\\u043d\\u044b\\u0439 \\u0432\\u043e\\u0440\\u0447\\u043b\\u0438\\u0432\\u044b\\u0439 \\u0432\\u043e\\u0440\\u0447\\u043b\\u0438\\u0432\\u044b\\u0439.\"'.decode('unicode-escape')\n",
    "# print(s)"
   ]
  },
  {
   "cell_type": "code",
   "execution_count": 246,
   "id": "50294324-1c73-4964-8b11-8c31225740d7",
   "metadata": {},
   "outputs": [],
   "source": [
    "masters = [generate_master_data() for _ in range(100)]\n",
    "orders = [generate_order_data() for _ in range(1000)]\n",
    "\n",
    "with open('masters.json','w') as f:\n",
    "    json.dump(masters,f)\n",
    "\n",
    "with open('orders.json','w') as f:\n",
    "    json.dump(orders,f)\n",
    "\n",
    "# with open('data.json') as f:\n",
    "#     data = json.load(f)\n",
    "# print(json.dumps(data, indent=2, ensure_ascii=False))"
   ]
  },
  {
   "cell_type": "code",
   "execution_count": null,
   "id": "fff02926-f0d5-4aa7-b504-37438170a2a6",
   "metadata": {},
   "outputs": [],
   "source": []
  },
  {
   "cell_type": "code",
   "execution_count": null,
   "id": "1f39fc0b-edfe-4407-9794-2a24bfc5f1fe",
   "metadata": {},
   "outputs": [],
   "source": []
  },
  {
   "cell_type": "code",
   "execution_count": null,
   "id": "418b8ebd-e744-48fc-8a9f-ad9a8248ff14",
   "metadata": {},
   "outputs": [],
   "source": []
  },
  {
   "cell_type": "code",
   "execution_count": null,
   "id": "4975317e-5e82-4470-ad74-129e97c1308e",
   "metadata": {},
   "outputs": [],
   "source": []
  }
 ],
 "metadata": {
  "kernelspec": {
   "display_name": "Python 3 (ipykernel)",
   "language": "python",
   "name": "python3"
  },
  "language_info": {
   "codemirror_mode": {
    "name": "ipython",
    "version": 3
   },
   "file_extension": ".py",
   "mimetype": "text/x-python",
   "name": "python",
   "nbconvert_exporter": "python",
   "pygments_lexer": "ipython3",
   "version": "3.9.0"
  }
 },
 "nbformat": 4,
 "nbformat_minor": 5
}
