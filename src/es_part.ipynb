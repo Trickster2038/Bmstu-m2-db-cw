{
 "cells": [
  {
   "cell_type": "markdown",
   "id": "b8f370b3-392d-4923-a361-19fa51ca6a08",
   "metadata": {},
   "source": [
    "# Image https://hub.docker.com/r/bitnami/elasticsearch#!&_escaped_fragment_=\n",
    "\n",
    "Ports: 9200, 9201, 9300\n",
    "Mount: -v /path/to/elasticsearch-data-persistence:/bitnami/elasticsearch/data\n",
    "\n",
    "curl -XPUT -H \"Content-Type: application/json\" http://localhost:9200/_cluster/settings -d '{ \"transient\": { \"cluster.routing.allocation.disk.threshold_enabled\": false } }'\r\n",
    "\n",
    "curl -XPUT -H \"Content-Type: application/json\" http://localhost:9200/_all/_settings -d '{\"index.blocks.read_only_allow_delete\": null}\n",
    "\n",
    "\n",
    "http://localhost:9200/?pretty\n",
    "\n",
    "es5 container\n",
    "\n",
    "Array mapping: https://stackoverflow.com/questions/67581594/elasticsearch-mapping-for-array\n",
    "\n",
    "Habr guide: https://habr.com/ru/articles/280488/'"
   ]
  },
  {
   "cell_type": "markdown",
   "id": "c12a2735-b280-4922-871d-a9f9221a4313",
   "metadata": {},
   "source": [
    "All orders: http://localhost:9200/order/_search?pretty\n",
    "All masters: http://localhost:9200/master/_search?pretty"
   ]
  },
  {
   "cell_type": "code",
   "execution_count": 94,
   "id": "2e229e4c-1f51-4d23-9984-9f61ed2b4ff9",
   "metadata": {},
   "outputs": [],
   "source": [
    "import requests"
   ]
  },
  {
   "cell_type": "code",
   "execution_count": 95,
   "id": "71bb2752-107c-46ce-84d9-3ee0011ddad9",
   "metadata": {},
   "outputs": [],
   "source": [
    "r = requests.put('http://localhost:9200/_cluster/settings', json={ \"transient\": { \"cluster.routing.allocation.disk.threshold_enabled\": False } })"
   ]
  },
  {
   "cell_type": "code",
   "execution_count": 96,
   "id": "2699974c-b0bc-4c62-8553-0363eca4f6fe",
   "metadata": {},
   "outputs": [
    {
     "data": {
      "text/plain": [
       "{'acknowledged': True,\n",
       " 'persistent': {},\n",
       " 'transient': {'cluster': {'routing': {'allocation': {'disk': {'threshold_enabled': 'false'}}}}}}"
      ]
     },
     "execution_count": 96,
     "metadata": {},
     "output_type": "execute_result"
    }
   ],
   "source": [
    "r.json()"
   ]
  },
  {
   "cell_type": "code",
   "execution_count": 97,
   "id": "d71c7012-3f15-4e09-9a36-e15286cfa82b",
   "metadata": {},
   "outputs": [],
   "source": [
    "r = requests.put('http://localhost:9200/_all/_settings', json={\"index.blocks.read_only_allow_delete\": None})"
   ]
  },
  {
   "cell_type": "code",
   "execution_count": 98,
   "id": "c91a2160-d30e-47e9-8488-a5aa1dd63c3b",
   "metadata": {},
   "outputs": [
    {
     "data": {
      "text/plain": [
       "{'acknowledged': True}"
      ]
     },
     "execution_count": 98,
     "metadata": {},
     "output_type": "execute_result"
    }
   ],
   "source": [
    "r.json()"
   ]
  },
  {
   "cell_type": "code",
   "execution_count": null,
   "id": "5fc39aa9-71ff-45e1-bf85-648d8eb417c0",
   "metadata": {},
   "outputs": [],
   "source": []
  },
  {
   "cell_type": "code",
   "execution_count": 99,
   "id": "d3e6820f-5bb7-452d-b7de-7056fb366d19",
   "metadata": {},
   "outputs": [],
   "source": [
    "import json\n",
    "from elasticsearch import Elasticsearch"
   ]
  },
  {
   "cell_type": "code",
   "execution_count": 242,
   "id": "cc6378f1-1a20-4cdb-8927-a7e394486fb0",
   "metadata": {},
   "outputs": [
    {
     "data": {
      "text/plain": [
       "False"
      ]
     },
     "execution_count": 242,
     "metadata": {},
     "output_type": "execute_result"
    }
   ],
   "source": [
    "client = Elasticsearch([{\"host\": \"127.0.0.1\", \"scheme\": \"http\", \"port\": 9200}])\n",
    "\n",
    "client.ping()"
   ]
  },
  {
   "cell_type": "markdown",
   "id": "9cb9883a-3b6e-4b8a-8135-3023a0c9f706",
   "metadata": {},
   "source": [
    "# Index 1 - orders"
   ]
  },
  {
   "cell_type": "code",
   "execution_count": 167,
   "id": "7af31192-b442-4743-ba6f-abb85f060f44",
   "metadata": {},
   "outputs": [
    {
     "data": {
      "text/plain": [
       "ObjectApiResponse({'acknowledged': True})"
      ]
     },
     "execution_count": 167,
     "metadata": {},
     "output_type": "execute_result"
    }
   ],
   "source": [
    "indexName = \"order\"\n",
    "client.indices.delete(index=indexName)\n",
    "# client.indices.create(index=indexName)"
   ]
  },
  {
   "cell_type": "code",
   "execution_count": 168,
   "id": "6bdb00b5-1281-4e19-9195-0b1bf352df5f",
   "metadata": {},
   "outputs": [],
   "source": [
    "analyzer_settings = {\n",
    "  \"settings\": {\n",
    "    \"analysis\": {\n",
    "      \"filter\": {\n",
    "        \"ru_stop\": {\n",
    "          \"type\": \"stop\",\n",
    "          \"stopwords\": \"_russian_\"\n",
    "        },\n",
    "        \"ru_stemmer\": {\n",
    "          \"type\": \"stemmer\",\n",
    "          \"language\": \"russian\"\n",
    "        }\n",
    "      },\n",
    "      \"analyzer\": {\n",
    "        \"custom_analyzer\": {\n",
    "          \"type\": \"custom\",\n",
    "          \"tokenizer\": \"standard\",\n",
    "          \"filter\": [\n",
    "            \"lowercase\",\n",
    "            \"ru_stop\",\n",
    "            \"ru_stemmer\"\n",
    "          ]\n",
    "        }\n",
    "      }\n",
    "    }\n",
    "  }\n",
    "}"
   ]
  },
  {
   "cell_type": "code",
   "execution_count": 169,
   "id": "7d91f528-ae98-4681-9489-a18ef7c38298",
   "metadata": {},
   "outputs": [
    {
     "data": {
      "text/plain": [
       "ObjectApiResponse({'acknowledged': True, 'shards_acknowledged': True, 'index': 'order'})"
      ]
     },
     "execution_count": 169,
     "metadata": {},
     "output_type": "execute_result"
    }
   ],
   "source": [
    "mappings_order = {\n",
    "  \"mappings\": {\n",
    "    \"properties\": {\n",
    "      \"order_id\": {\n",
    "        \"type\": \"keyword\"\n",
    "      },\n",
    "      \"order_date\": {\n",
    "        \"type\": \"keyword\"\n",
    "        # \"format\": \"yyyy-MM-dd\"\n",
    "      },\n",
    "      \"order_customer_id\": {\n",
    "        \"type\": \"keyword\"\n",
    "      },\n",
    "      \"order_customer_desc\": {\n",
    "        \"type\": \"text\",\n",
    "        \"analyzer\": \"custom_analyzer\"\n",
    "      },\n",
    "      \"order_details_desc\": {\n",
    "        \"type\": \"text\",\n",
    "        \"analyzer\": \"custom_analyzer\"\n",
    "      },\n",
    "      \"order_due_date\": {\n",
    "        \"type\": \"keyword\"\n",
    "      },\n",
    "      \"order_fact_completion_date\": {\n",
    "        \"type\": \"keyword\"\n",
    "      },\n",
    "      \"order_parts\": {\n",
    "        \"type\": \"text\",\n",
    "        \"analyzer\": \"custom_analyzer\",\n",
    "        \"fields\": {\n",
    "          \"order_parts_row\": {\n",
    "            \"type\": \"text\",\n",
    "            \"analyzer\": \"custom_analyzer\",\n",
    "          }\n",
    "        }\n",
    "      },\n",
    "      \"repair_types\": {\n",
    "        \"type\": \"text\",\n",
    "        \"analyzer\": \"custom_analyzer\",\n",
    "        \"fields\": {\n",
    "          \"repair_types_row\": {\n",
    "            \"type\": \"text\",\n",
    "            \"analyzer\": \"custom_analyzer\",\n",
    "          }\n",
    "        }\n",
    "      },\n",
    "      \"order_price\": {\n",
    "        \"type\": \"keyword\"\n",
    "      },\n",
    "      \"order_master_id\": {\n",
    "        \"type\": \"keyword\"\n",
    "      }\n",
    "    }\n",
    "  }\n",
    "}\n",
    "\n",
    "\n",
    "client.indices.create(index=indexName, \n",
    "                            # doc_type=\"diseases\", \n",
    "                           # include_type_name=\"true\", \n",
    "                           body={**analyzer_settings, **mappings_master}\n",
    "                          )"
   ]
  },
  {
   "cell_type": "code",
   "execution_count": 170,
   "id": "47749078-1564-415e-95f4-20c5f09c92da",
   "metadata": {},
   "outputs": [
    {
     "name": "stdout",
     "output_type": "stream",
     "text": [
      "index 'order' data inserted\n"
     ]
    }
   ],
   "source": [
    "with open('../orders.json', 'r') as f:\n",
    "    dataStore = json.load(f)\n",
    "\n",
    "for data in dataStore:\n",
    "    try:\n",
    "        client.index(\n",
    "            index=data[\"index\"],\n",
    "            # doc_type=data[\"doc_type\"],\n",
    "            id=data[\"id\"],\n",
    "            body=data[\"body\"]\n",
    "        )\n",
    "    except Exception as e:\n",
    "        print(e, end=\"\")\n",
    "print(\"index 'order' data inserted\")"
   ]
  },
  {
   "cell_type": "markdown",
   "id": "73e2d1bf-1953-40f6-a58f-ff2abb707178",
   "metadata": {},
   "source": [
    "# Query 1 - orders"
   ]
  },
  {
   "cell_type": "code",
   "execution_count": 241,
   "id": "a78ea2c3-c59c-4f59-ad81-50f880af476f",
   "metadata": {},
   "outputs": [
    {
     "ename": "ConnectionTimeout",
     "evalue": "Connection timed out",
     "output_type": "error",
     "traceback": [
      "\u001b[1;31m---------------------------------------------------------------------------\u001b[0m",
      "\u001b[1;31mConnectionTimeout\u001b[0m                         Traceback (most recent call last)",
      "Cell \u001b[1;32mIn[241], line 41\u001b[0m\n\u001b[0;32m      5\u001b[0m \u001b[38;5;66;03m# searchBody = {\u001b[39;00m\n\u001b[0;32m      6\u001b[0m \u001b[38;5;66;03m#   \"_source\": True, #[\"master_desc\"], # True - all data\u001b[39;00m\n\u001b[0;32m      7\u001b[0m \u001b[38;5;66;03m#   \"query\": {\u001b[39;00m\n\u001b[1;32m   (...)\u001b[0m\n\u001b[0;32m     12\u001b[0m \u001b[38;5;66;03m#   \"size\": searchSize\u001b[39;00m\n\u001b[0;32m     13\u001b[0m \u001b[38;5;66;03m# }\u001b[39;00m\n\u001b[0;32m     15\u001b[0m searchBody \u001b[38;5;241m=\u001b[39m {\n\u001b[0;32m     16\u001b[0m   \u001b[38;5;124m\"\u001b[39m\u001b[38;5;124msize\u001b[39m\u001b[38;5;124m\"\u001b[39m: searchSize,\n\u001b[0;32m     17\u001b[0m   \u001b[38;5;66;03m# \"query\" : {\u001b[39;00m\n\u001b[1;32m   (...)\u001b[0m\n\u001b[0;32m     38\u001b[0m   }\n\u001b[0;32m     39\u001b[0m }\n\u001b[1;32m---> 41\u001b[0m result \u001b[38;5;241m=\u001b[39m \u001b[43mclient\u001b[49m\u001b[38;5;241;43m.\u001b[39;49m\u001b[43msearch\u001b[49m\u001b[43m(\u001b[49m\u001b[43mindex\u001b[49m\u001b[38;5;241;43m=\u001b[39;49m\u001b[43mindexName\u001b[49m\u001b[43m,\u001b[49m\u001b[43m \u001b[49m\u001b[43mbody\u001b[49m\u001b[38;5;241;43m=\u001b[39;49m\u001b[43msearchBody\u001b[49m\u001b[43m)\u001b[49m\n",
      "File \u001b[1;32mc:\\users\\sergey.astakhov\\desktop\\bmstu-m2-db-cw\\venv\\lib\\site-packages\\elasticsearch\\_sync\\client\\utils.py:426\u001b[0m, in \u001b[0;36m_rewrite_parameters.<locals>.wrapper.<locals>.wrapped\u001b[1;34m(*args, **kwargs)\u001b[0m\n\u001b[0;32m    423\u001b[0m         \u001b[38;5;28;01mexcept\u001b[39;00m \u001b[38;5;167;01mKeyError\u001b[39;00m:\n\u001b[0;32m    424\u001b[0m             \u001b[38;5;28;01mpass\u001b[39;00m\n\u001b[1;32m--> 426\u001b[0m \u001b[38;5;28;01mreturn\u001b[39;00m api(\u001b[38;5;241m*\u001b[39margs, \u001b[38;5;241m*\u001b[39m\u001b[38;5;241m*\u001b[39mkwargs)\n",
      "File \u001b[1;32mc:\\users\\sergey.astakhov\\desktop\\bmstu-m2-db-cw\\venv\\lib\\site-packages\\elasticsearch\\_sync\\client\\__init__.py:3836\u001b[0m, in \u001b[0;36mElasticsearch.search\u001b[1;34m(self, index, aggregations, aggs, allow_no_indices, allow_partial_search_results, analyze_wildcard, analyzer, batched_reduce_size, ccs_minimize_roundtrips, collapse, default_operator, df, docvalue_fields, error_trace, expand_wildcards, explain, ext, fields, filter_path, from_, highlight, human, ignore_throttled, ignore_unavailable, indices_boost, knn, lenient, max_concurrent_shard_requests, min_compatible_shard_node, min_score, pit, post_filter, pre_filter_shard_size, preference, pretty, profile, q, query, rank, request_cache, rescore, rest_total_hits_as_int, routing, runtime_mappings, script_fields, scroll, search_after, search_type, seq_no_primary_term, size, slice, sort, source, source_excludes, source_includes, stats, stored_fields, suggest, suggest_field, suggest_mode, suggest_size, suggest_text, terminate_after, timeout, track_scores, track_total_hits, typed_keys, version, body)\u001b[0m\n\u001b[0;32m   3834\u001b[0m \u001b[38;5;28;01mif\u001b[39;00m __body \u001b[38;5;129;01mis\u001b[39;00m \u001b[38;5;129;01mnot\u001b[39;00m \u001b[38;5;28;01mNone\u001b[39;00m:\n\u001b[0;32m   3835\u001b[0m     __headers[\u001b[38;5;124m\"\u001b[39m\u001b[38;5;124mcontent-type\u001b[39m\u001b[38;5;124m\"\u001b[39m] \u001b[38;5;241m=\u001b[39m \u001b[38;5;124m\"\u001b[39m\u001b[38;5;124mapplication/json\u001b[39m\u001b[38;5;124m\"\u001b[39m\n\u001b[1;32m-> 3836\u001b[0m \u001b[38;5;28;01mreturn\u001b[39;00m \u001b[38;5;28;43mself\u001b[39;49m\u001b[38;5;241;43m.\u001b[39;49m\u001b[43mperform_request\u001b[49m\u001b[43m(\u001b[49m\u001b[43m  \u001b[49m\u001b[38;5;66;43;03m# type: ignore[return-value]\u001b[39;49;00m\n\u001b[0;32m   3837\u001b[0m \u001b[43m    \u001b[49m\u001b[38;5;124;43m\"\u001b[39;49m\u001b[38;5;124;43mPOST\u001b[39;49m\u001b[38;5;124;43m\"\u001b[39;49m\u001b[43m,\u001b[49m\u001b[43m \u001b[49m\u001b[43m__path\u001b[49m\u001b[43m,\u001b[49m\u001b[43m \u001b[49m\u001b[43mparams\u001b[49m\u001b[38;5;241;43m=\u001b[39;49m\u001b[43m__query\u001b[49m\u001b[43m,\u001b[49m\u001b[43m \u001b[49m\u001b[43mheaders\u001b[49m\u001b[38;5;241;43m=\u001b[39;49m\u001b[43m__headers\u001b[49m\u001b[43m,\u001b[49m\u001b[43m \u001b[49m\u001b[43mbody\u001b[49m\u001b[38;5;241;43m=\u001b[39;49m\u001b[43m__body\u001b[49m\n\u001b[0;32m   3838\u001b[0m \u001b[43m\u001b[49m\u001b[43m)\u001b[49m\n",
      "File \u001b[1;32mc:\\users\\sergey.astakhov\\desktop\\bmstu-m2-db-cw\\venv\\lib\\site-packages\\elasticsearch\\_sync\\client\\_base.py:285\u001b[0m, in \u001b[0;36mBaseClient.perform_request\u001b[1;34m(self, method, path, params, headers, body)\u001b[0m\n\u001b[0;32m    282\u001b[0m \u001b[38;5;28;01melse\u001b[39;00m:\n\u001b[0;32m    283\u001b[0m     target \u001b[38;5;241m=\u001b[39m path\n\u001b[1;32m--> 285\u001b[0m meta, resp_body \u001b[38;5;241m=\u001b[39m \u001b[38;5;28;43mself\u001b[39;49m\u001b[38;5;241;43m.\u001b[39;49m\u001b[43mtransport\u001b[49m\u001b[38;5;241;43m.\u001b[39;49m\u001b[43mperform_request\u001b[49m\u001b[43m(\u001b[49m\n\u001b[0;32m    286\u001b[0m \u001b[43m    \u001b[49m\u001b[43mmethod\u001b[49m\u001b[43m,\u001b[49m\n\u001b[0;32m    287\u001b[0m \u001b[43m    \u001b[49m\u001b[43mtarget\u001b[49m\u001b[43m,\u001b[49m\n\u001b[0;32m    288\u001b[0m \u001b[43m    \u001b[49m\u001b[43mheaders\u001b[49m\u001b[38;5;241;43m=\u001b[39;49m\u001b[43mrequest_headers\u001b[49m\u001b[43m,\u001b[49m\n\u001b[0;32m    289\u001b[0m \u001b[43m    \u001b[49m\u001b[43mbody\u001b[49m\u001b[38;5;241;43m=\u001b[39;49m\u001b[43mbody\u001b[49m\u001b[43m,\u001b[49m\n\u001b[0;32m    290\u001b[0m \u001b[43m    \u001b[49m\u001b[43mrequest_timeout\u001b[49m\u001b[38;5;241;43m=\u001b[39;49m\u001b[38;5;28;43mself\u001b[39;49m\u001b[38;5;241;43m.\u001b[39;49m\u001b[43m_request_timeout\u001b[49m\u001b[43m,\u001b[49m\n\u001b[0;32m    291\u001b[0m \u001b[43m    \u001b[49m\u001b[43mmax_retries\u001b[49m\u001b[38;5;241;43m=\u001b[39;49m\u001b[38;5;28;43mself\u001b[39;49m\u001b[38;5;241;43m.\u001b[39;49m\u001b[43m_max_retries\u001b[49m\u001b[43m,\u001b[49m\n\u001b[0;32m    292\u001b[0m \u001b[43m    \u001b[49m\u001b[43mretry_on_status\u001b[49m\u001b[38;5;241;43m=\u001b[39;49m\u001b[38;5;28;43mself\u001b[39;49m\u001b[38;5;241;43m.\u001b[39;49m\u001b[43m_retry_on_status\u001b[49m\u001b[43m,\u001b[49m\n\u001b[0;32m    293\u001b[0m \u001b[43m    \u001b[49m\u001b[43mretry_on_timeout\u001b[49m\u001b[38;5;241;43m=\u001b[39;49m\u001b[38;5;28;43mself\u001b[39;49m\u001b[38;5;241;43m.\u001b[39;49m\u001b[43m_retry_on_timeout\u001b[49m\u001b[43m,\u001b[49m\n\u001b[0;32m    294\u001b[0m \u001b[43m    \u001b[49m\u001b[43mclient_meta\u001b[49m\u001b[38;5;241;43m=\u001b[39;49m\u001b[38;5;28;43mself\u001b[39;49m\u001b[38;5;241;43m.\u001b[39;49m\u001b[43m_client_meta\u001b[49m\u001b[43m,\u001b[49m\n\u001b[0;32m    295\u001b[0m \u001b[43m\u001b[49m\u001b[43m)\u001b[49m\n\u001b[0;32m    297\u001b[0m \u001b[38;5;66;03m# HEAD with a 404 is returned as a normal response\u001b[39;00m\n\u001b[0;32m    298\u001b[0m \u001b[38;5;66;03m# since this is used as an 'exists' functionality.\u001b[39;00m\n\u001b[0;32m    299\u001b[0m \u001b[38;5;28;01mif\u001b[39;00m \u001b[38;5;129;01mnot\u001b[39;00m (method \u001b[38;5;241m==\u001b[39m \u001b[38;5;124m\"\u001b[39m\u001b[38;5;124mHEAD\u001b[39m\u001b[38;5;124m\"\u001b[39m \u001b[38;5;129;01mand\u001b[39;00m meta\u001b[38;5;241m.\u001b[39mstatus \u001b[38;5;241m==\u001b[39m \u001b[38;5;241m404\u001b[39m) \u001b[38;5;129;01mand\u001b[39;00m (\n\u001b[0;32m    300\u001b[0m     \u001b[38;5;129;01mnot\u001b[39;00m \u001b[38;5;241m200\u001b[39m \u001b[38;5;241m<\u001b[39m\u001b[38;5;241m=\u001b[39m meta\u001b[38;5;241m.\u001b[39mstatus \u001b[38;5;241m<\u001b[39m \u001b[38;5;241m299\u001b[39m\n\u001b[0;32m    301\u001b[0m     \u001b[38;5;129;01mand\u001b[39;00m (\n\u001b[1;32m   (...)\u001b[0m\n\u001b[0;32m    305\u001b[0m     )\n\u001b[0;32m    306\u001b[0m ):\n",
      "File \u001b[1;32mc:\\users\\sergey.astakhov\\desktop\\bmstu-m2-db-cw\\venv\\lib\\site-packages\\elastic_transport\\_transport.py:328\u001b[0m, in \u001b[0;36mTransport.perform_request\u001b[1;34m(self, method, target, body, headers, max_retries, retry_on_status, retry_on_timeout, request_timeout, client_meta)\u001b[0m\n\u001b[0;32m    326\u001b[0m start_time \u001b[38;5;241m=\u001b[39m time\u001b[38;5;241m.\u001b[39mtime()\n\u001b[0;32m    327\u001b[0m \u001b[38;5;28;01mtry\u001b[39;00m:\n\u001b[1;32m--> 328\u001b[0m     meta, raw_data \u001b[38;5;241m=\u001b[39m \u001b[43mnode\u001b[49m\u001b[38;5;241;43m.\u001b[39;49m\u001b[43mperform_request\u001b[49m\u001b[43m(\u001b[49m\n\u001b[0;32m    329\u001b[0m \u001b[43m        \u001b[49m\u001b[43mmethod\u001b[49m\u001b[43m,\u001b[49m\n\u001b[0;32m    330\u001b[0m \u001b[43m        \u001b[49m\u001b[43mtarget\u001b[49m\u001b[43m,\u001b[49m\n\u001b[0;32m    331\u001b[0m \u001b[43m        \u001b[49m\u001b[43mbody\u001b[49m\u001b[38;5;241;43m=\u001b[39;49m\u001b[43mrequest_body\u001b[49m\u001b[43m,\u001b[49m\n\u001b[0;32m    332\u001b[0m \u001b[43m        \u001b[49m\u001b[43mheaders\u001b[49m\u001b[38;5;241;43m=\u001b[39;49m\u001b[43mrequest_headers\u001b[49m\u001b[43m,\u001b[49m\n\u001b[0;32m    333\u001b[0m \u001b[43m        \u001b[49m\u001b[43mrequest_timeout\u001b[49m\u001b[38;5;241;43m=\u001b[39;49m\u001b[43mrequest_timeout\u001b[49m\u001b[43m,\u001b[49m\n\u001b[0;32m    334\u001b[0m \u001b[43m    \u001b[49m\u001b[43m)\u001b[49m\n\u001b[0;32m    335\u001b[0m     _logger\u001b[38;5;241m.\u001b[39minfo(\n\u001b[0;32m    336\u001b[0m         \u001b[38;5;124m\"\u001b[39m\u001b[38;5;132;01m%s\u001b[39;00m\u001b[38;5;124m \u001b[39m\u001b[38;5;132;01m%s\u001b[39;00m\u001b[38;5;132;01m%s\u001b[39;00m\u001b[38;5;124m [status:\u001b[39m\u001b[38;5;132;01m%s\u001b[39;00m\u001b[38;5;124m duration:\u001b[39m\u001b[38;5;132;01m%.3f\u001b[39;00m\u001b[38;5;124ms]\u001b[39m\u001b[38;5;124m\"\u001b[39m\n\u001b[0;32m    337\u001b[0m         \u001b[38;5;241m%\u001b[39m (\n\u001b[1;32m   (...)\u001b[0m\n\u001b[0;32m    343\u001b[0m         )\n\u001b[0;32m    344\u001b[0m     )\n\u001b[0;32m    346\u001b[0m     \u001b[38;5;28;01mif\u001b[39;00m method \u001b[38;5;241m!=\u001b[39m \u001b[38;5;124m\"\u001b[39m\u001b[38;5;124mHEAD\u001b[39m\u001b[38;5;124m\"\u001b[39m:\n",
      "File \u001b[1;32mc:\\users\\sergey.astakhov\\desktop\\bmstu-m2-db-cw\\venv\\lib\\site-packages\\elastic_transport\\_node\\_http_urllib3.py:202\u001b[0m, in \u001b[0;36mUrllib3HttpNode.perform_request\u001b[1;34m(self, method, target, body, headers, request_timeout)\u001b[0m\n\u001b[0;32m    194\u001b[0m         err \u001b[38;5;241m=\u001b[39m \u001b[38;5;167;01mConnectionError\u001b[39;00m(\u001b[38;5;28mstr\u001b[39m(e), errors\u001b[38;5;241m=\u001b[39m(e,))\n\u001b[0;32m    195\u001b[0m     \u001b[38;5;28mself\u001b[39m\u001b[38;5;241m.\u001b[39m_log_request(\n\u001b[0;32m    196\u001b[0m         method\u001b[38;5;241m=\u001b[39mmethod,\n\u001b[0;32m    197\u001b[0m         target\u001b[38;5;241m=\u001b[39mtarget,\n\u001b[1;32m   (...)\u001b[0m\n\u001b[0;32m    200\u001b[0m         exception\u001b[38;5;241m=\u001b[39merr,\n\u001b[0;32m    201\u001b[0m     )\n\u001b[1;32m--> 202\u001b[0m     \u001b[38;5;28;01mraise\u001b[39;00m err \u001b[38;5;28;01mfrom\u001b[39;00m \u001b[38;5;28;01mNone\u001b[39;00m\n\u001b[0;32m    204\u001b[0m meta \u001b[38;5;241m=\u001b[39m ApiResponseMeta(\n\u001b[0;32m    205\u001b[0m     node\u001b[38;5;241m=\u001b[39m\u001b[38;5;28mself\u001b[39m\u001b[38;5;241m.\u001b[39mconfig,\n\u001b[0;32m    206\u001b[0m     duration\u001b[38;5;241m=\u001b[39mduration,\n\u001b[1;32m   (...)\u001b[0m\n\u001b[0;32m    209\u001b[0m     headers\u001b[38;5;241m=\u001b[39mresponse_headers,\n\u001b[0;32m    210\u001b[0m )\n\u001b[0;32m    211\u001b[0m \u001b[38;5;28mself\u001b[39m\u001b[38;5;241m.\u001b[39m_log_request(\n\u001b[0;32m    212\u001b[0m     method\u001b[38;5;241m=\u001b[39mmethod,\n\u001b[0;32m    213\u001b[0m     target\u001b[38;5;241m=\u001b[39mtarget,\n\u001b[1;32m   (...)\u001b[0m\n\u001b[0;32m    217\u001b[0m     response\u001b[38;5;241m=\u001b[39mdata,\n\u001b[0;32m    218\u001b[0m )\n",
      "\u001b[1;31mConnectionTimeout\u001b[0m: Connection timed out"
     ]
    }
   ],
   "source": [
    "indexName = \"order\"\n",
    "searchFrom = 0\n",
    "searchSize = 5\n",
    "\n",
    "# searchBody = {\n",
    "#   \"_source\": True, #[\"master_desc\"], # True - all data\n",
    "#   \"query\": {\n",
    "#     \"match\": {\n",
    "#       \"master_desc\": \"стаж\"\n",
    "#     }\n",
    "#   },\n",
    "#   \"size\": searchSize\n",
    "# }\n",
    "\n",
    "searchBody = {\n",
    "  \"size\": searchSize,\n",
    "  # \"query\" : {\n",
    "  #   \"match_all\" : {}\n",
    "  # }\n",
    "  \"_source\": True,\n",
    "  # \"query\": {},\n",
    "  \"aggs\": {\n",
    "    \"over_months\": {\n",
    "      \"date_histogram\": {\n",
    "        \"field\": \"order_date\",\n",
    "        \"calendar_interval\": \"month\",\n",
    "        \"format\": \"yyyy-MM-dd\" # control the output format\n",
    "      },\n",
    "        \"aggs\":{\n",
    "            \"over_parts\": {\n",
    "              \"terms\": {\n",
    "                \"field\": \"order_parts.keyword\"\n",
    "                # \"fielddata\": True\n",
    "              },\n",
    "            }\n",
    "        }\n",
    "    }\n",
    "  }\n",
    "}\n",
    "\n",
    "result = client.search(index=indexName, body=searchBody)"
   ]
  },
  {
   "cell_type": "code",
   "execution_count": null,
   "id": "4e90696f-eb74-4ad4-a247-3579f6734414",
   "metadata": {},
   "outputs": [],
   "source": [
    "# result"
   ]
  },
  {
   "cell_type": "code",
   "execution_count": null,
   "id": "4365eae8-a97f-49c2-a6fc-370cea8a00eb",
   "metadata": {},
   "outputs": [],
   "source": [
    "result['aggregations']['over_months']['buckets']"
   ]
  },
  {
   "cell_type": "code",
   "execution_count": 221,
   "id": "53679392-f83b-4d4c-84f4-9561826ce201",
   "metadata": {},
   "outputs": [],
   "source": [
    "# result['hits']"
   ]
  },
  {
   "cell_type": "markdown",
   "id": "fdc6c680-36d0-4524-8c27-13138a20316d",
   "metadata": {},
   "source": [
    "# Index 2 - masters"
   ]
  },
  {
   "cell_type": "code",
   "execution_count": 9,
   "id": "e93f44d3-17eb-4958-a6f1-5952c9f3f28b",
   "metadata": {},
   "outputs": [
    {
     "data": {
      "text/plain": [
       "ObjectApiResponse({'acknowledged': True})"
      ]
     },
     "execution_count": 9,
     "metadata": {},
     "output_type": "execute_result"
    }
   ],
   "source": [
    "indexName = \"master\"\n",
    "client.indices.delete(index=indexName)\n",
    "# client.indices.create(index=indexName)"
   ]
  },
  {
   "cell_type": "code",
   "execution_count": 10,
   "id": "bbc18952-8594-4f51-b3b7-36984f62c50b",
   "metadata": {},
   "outputs": [],
   "source": [
    "# analyzer_settings = {\n",
    "#   \"settings\": {\n",
    "#     \"analysis\": {\n",
    "#       \"filter\": {\n",
    "#         \"ru_stop\": {\n",
    "#           \"type\": \"stop\",\n",
    "#           \"stopwords\": \"_russian_\"\n",
    "#         },\n",
    "#         \"ru_stemmer\": {\n",
    "#           \"type\": \"stemmer\",\n",
    "#           \"language\": \"russian\"\n",
    "#         }\n",
    "#       },\n",
    "#       \"analyzer\": {\n",
    "#         \"custom_analyzer\": {\n",
    "#           \"type\": \"custom\",\n",
    "#           \"tokenizer\": \"standard\",\n",
    "#           \"filter\": [\n",
    "#             \"lowercase\",\n",
    "#             \"ru_stop\",\n",
    "#             \"ru_stemmer\"\n",
    "#           ]\n",
    "#         }\n",
    "#       }\n",
    "#     }\n",
    "#   }\n",
    "# }"
   ]
  },
  {
   "cell_type": "code",
   "execution_count": 11,
   "id": "2a377895-7a81-4ee8-932c-29e0cdb0c3a6",
   "metadata": {},
   "outputs": [
    {
     "data": {
      "text/plain": [
       "ObjectApiResponse({'acknowledged': True, 'shards_acknowledged': True, 'index': 'master'})"
      ]
     },
     "execution_count": 11,
     "metadata": {},
     "output_type": "execute_result"
    }
   ],
   "source": [
    "mappings_master = {\n",
    "  \"mappings\": {\n",
    "    \"properties\": {\n",
    "      \"master_id\": {\n",
    "        \"type\": \"keyword\"\n",
    "      },\n",
    "      \"master_desc\": {\n",
    "        \"type\": \"text\",\n",
    "        \"analyzer\": \"custom_analyzer\"\n",
    "      },\n",
    "      \"master_feedbacks\": {\n",
    "        \"type\": \"text\",\n",
    "        \"analyzer\": \"custom_analyzer\",\n",
    "        \"fields\": {\n",
    "          \"master_feedbacks_row\": {\n",
    "            \"type\": \"text\",\n",
    "            \"analyzer\": \"custom_analyzer\",\n",
    "          }\n",
    "        }\n",
    "      }\n",
    "    }\n",
    "  }\n",
    "}\n",
    "\n",
    "\n",
    "client.indices.create(index=indexName, \n",
    "                            # doc_type=\"diseases\", \n",
    "                           # include_type_name=\"true\", \n",
    "                           body={**analyzer_settings, **mappings_master}\n",
    "                          )"
   ]
  },
  {
   "cell_type": "code",
   "execution_count": 12,
   "id": "a125df34-41a5-491d-bcee-badef13dfee0",
   "metadata": {},
   "outputs": [
    {
     "name": "stdout",
     "output_type": "stream",
     "text": [
      "ok\n"
     ]
    }
   ],
   "source": [
    "with open('../masters.json', 'r') as f:\n",
    "    dataStore = json.load(f)\n",
    "\n",
    "for data in dataStore:\n",
    "    try:\n",
    "        client.index(\n",
    "            index=data[\"index\"],\n",
    "            # doc_type=data[\"doc_type\"],\n",
    "            id=data[\"id\"],\n",
    "            body=data[\"body\"]\n",
    "        )\n",
    "    except Exception as e:\n",
    "        print(e, end=\"\")\n",
    "print(\"index 'master' data inserted\")"
   ]
  },
  {
   "cell_type": "markdown",
   "id": "1118b9f7-91bc-4575-a767-2bffe6ae0358",
   "metadata": {},
   "source": [
    "# Query 2 - masters"
   ]
  },
  {
   "cell_type": "code",
   "execution_count": 61,
   "id": "f2023953-ef62-4de6-b70f-89ac3cbaf620",
   "metadata": {},
   "outputs": [],
   "source": [
    "indexName = \"master\"\n",
    "searchFrom = 0\n",
    "searchSize = 10\n",
    "\n",
    "# 2\n",
    "# searchBody = {\n",
    "#     \"_source\": [\"name\"],\n",
    "#     \"query\": {\n",
    "#         \"simple_query_string\": {\n",
    "#             \"query\": 'стаж',\n",
    "#             \"fields\": [\"master_desc\"]\n",
    "#         }\n",
    "#     },\n",
    "#     \"size\": searchSize\n",
    "# }\n",
    "\n",
    "searchBody = {\n",
    "  \"_source\": True, #[\"master_desc\"], # True - all data\n",
    "  \"query\": {\n",
    "    \"match\": {\n",
    "      \"master_desc\": \"стаж\"\n",
    "    }\n",
    "  },\n",
    "  \"size\": searchSize\n",
    "}\n",
    "\n",
    "# searchBody = {}\n",
    "result = client.search(index=indexName, body=searchBody)\n",
    "# , body=searchBody, from_=1, size=5)"
   ]
  },
  {
   "cell_type": "code",
   "execution_count": 62,
   "id": "e61ece56-d367-4cb8-8b47-fe767a2c85e1",
   "metadata": {},
   "outputs": [
    {
     "data": {
      "text/plain": [
       "ObjectApiResponse({'took': 8, 'timed_out': False, '_shards': {'total': 1, 'successful': 1, 'skipped': 0, 'failed': 0}, 'hits': {'total': {'value': 44, 'relation': 'eq'}, 'max_score': 0.7704413, 'hits': [{'_index': 'master', '_id': '247830', '_score': 0.7704413, '_source': {'master_id': 247830, 'master_desc': 'Лора Эдуардовна Быкова, Стаж Работы: 14 Л./Г..', 'master_feedbacks': ['медлительный, аккуратный.', 'аккуратный, ворчливый.', 'ворчливый, аккуратный.']}}, {'_index': 'master', '_id': '578414', '_score': 0.7704413, '_source': {'master_id': 578414, 'master_desc': 'Терентий Валентинович Бобылев, Стаж Работы: 10 Л./Г..', 'master_feedbacks': ['медлительный, ворчливый.', 'аккуратный, медлительный.', 'ворчливый, аккуратный.']}}, {'_index': 'master', '_id': '435930', '_score': 0.7704413, '_source': {'master_id': 435930, 'master_desc': 'Шарапова Раиса Владимировна, Стаж Работы: 8 Л./Г..', 'master_feedbacks': ['аккуратный, ворчливый.', 'ворчливый, аккуратный.']}}, {'_index': 'master', '_id': '111767', '_score': 0.7704413, '_source': {'master_id': 111767, 'master_desc': 'Семенов Родион Евсеевич, Стаж Работы: 12 Л./Г..', 'master_feedbacks': ['ворчливый, аккуратный.', 'медлительный, ворчливый.']}}, {'_index': 'master', '_id': '756017', '_score': 0.7704413, '_source': {'master_id': 756017, 'master_desc': 'Макаров Родион Зиновьевич, Стаж Работы: 15 Л./Г..', 'master_feedbacks': ['аккуратный, ворчливый.']}}, {'_index': 'master', '_id': '354808', '_score': 0.7704413, '_source': {'master_id': 354808, 'master_desc': 'Глафира Эльдаровна Потапова, Стаж Работы: 13 Л./Г..', 'master_feedbacks': ['аккуратный, ворчливый.', 'аккуратный, медлительный.', 'ворчливый, медлительный.']}}, {'_index': 'master', '_id': '695009', '_score': 0.7704413, '_source': {'master_id': 695009, 'master_desc': 'Фёкла Святославовна Казакова, Стаж Работы: 13 Л./Г..', 'master_feedbacks': ['ворчливый, медлительный.', 'медлительный, аккуратный.']}}, {'_index': 'master', '_id': '688162', '_score': 0.7704413, '_source': {'master_id': 688162, 'master_desc': 'Агата Геннадьевна Мартынова, Стаж Работы: 8 Л./Г..', 'master_feedbacks': ['ворчливый, аккуратный.', 'ворчливый, аккуратный.']}}, {'_index': 'master', '_id': '670176', '_score': 0.7704413, '_source': {'master_id': 670176, 'master_desc': 'Одинцова Любовь Харитоновна, Стаж Работы: 4 Л./Г..', 'master_feedbacks': ['аккуратный, ворчливый.', 'медлительный, аккуратный.', 'аккуратный, ворчливый.']}}, {'_index': 'master', '_id': '349981', '_score': 0.7704413, '_source': {'master_id': 349981, 'master_desc': 'Шашков Ефим Изотович, Стаж Работы: 14 Л./Г..', 'master_feedbacks': ['аккуратный, медлительный.', 'аккуратный, медлительный.', 'аккуратный, медлительный.']}}]}})"
      ]
     },
     "execution_count": 62,
     "metadata": {},
     "output_type": "execute_result"
    }
   ],
   "source": [
    "result"
   ]
  },
  {
   "cell_type": "code",
   "execution_count": 63,
   "id": "5f4d8662-958a-4783-be6c-9bb50976a1ad",
   "metadata": {},
   "outputs": [
    {
     "data": {
      "text/plain": [
       "{'total': {'value': 44, 'relation': 'eq'},\n",
       " 'max_score': 0.7704413,\n",
       " 'hits': [{'_index': 'master',\n",
       "   '_id': '247830',\n",
       "   '_score': 0.7704413,\n",
       "   '_source': {'master_id': 247830,\n",
       "    'master_desc': 'Лора Эдуардовна Быкова, Стаж Работы: 14 Л./Г..',\n",
       "    'master_feedbacks': ['медлительный, аккуратный.',\n",
       "     'аккуратный, ворчливый.',\n",
       "     'ворчливый, аккуратный.']}},\n",
       "  {'_index': 'master',\n",
       "   '_id': '578414',\n",
       "   '_score': 0.7704413,\n",
       "   '_source': {'master_id': 578414,\n",
       "    'master_desc': 'Терентий Валентинович Бобылев, Стаж Работы: 10 Л./Г..',\n",
       "    'master_feedbacks': ['медлительный, ворчливый.',\n",
       "     'аккуратный, медлительный.',\n",
       "     'ворчливый, аккуратный.']}},\n",
       "  {'_index': 'master',\n",
       "   '_id': '435930',\n",
       "   '_score': 0.7704413,\n",
       "   '_source': {'master_id': 435930,\n",
       "    'master_desc': 'Шарапова Раиса Владимировна, Стаж Работы: 8 Л./Г..',\n",
       "    'master_feedbacks': ['аккуратный, ворчливый.', 'ворчливый, аккуратный.']}},\n",
       "  {'_index': 'master',\n",
       "   '_id': '111767',\n",
       "   '_score': 0.7704413,\n",
       "   '_source': {'master_id': 111767,\n",
       "    'master_desc': 'Семенов Родион Евсеевич, Стаж Работы: 12 Л./Г..',\n",
       "    'master_feedbacks': ['ворчливый, аккуратный.',\n",
       "     'медлительный, ворчливый.']}},\n",
       "  {'_index': 'master',\n",
       "   '_id': '756017',\n",
       "   '_score': 0.7704413,\n",
       "   '_source': {'master_id': 756017,\n",
       "    'master_desc': 'Макаров Родион Зиновьевич, Стаж Работы: 15 Л./Г..',\n",
       "    'master_feedbacks': ['аккуратный, ворчливый.']}},\n",
       "  {'_index': 'master',\n",
       "   '_id': '354808',\n",
       "   '_score': 0.7704413,\n",
       "   '_source': {'master_id': 354808,\n",
       "    'master_desc': 'Глафира Эльдаровна Потапова, Стаж Работы: 13 Л./Г..',\n",
       "    'master_feedbacks': ['аккуратный, ворчливый.',\n",
       "     'аккуратный, медлительный.',\n",
       "     'ворчливый, медлительный.']}},\n",
       "  {'_index': 'master',\n",
       "   '_id': '695009',\n",
       "   '_score': 0.7704413,\n",
       "   '_source': {'master_id': 695009,\n",
       "    'master_desc': 'Фёкла Святославовна Казакова, Стаж Работы: 13 Л./Г..',\n",
       "    'master_feedbacks': ['ворчливый, медлительный.',\n",
       "     'медлительный, аккуратный.']}},\n",
       "  {'_index': 'master',\n",
       "   '_id': '688162',\n",
       "   '_score': 0.7704413,\n",
       "   '_source': {'master_id': 688162,\n",
       "    'master_desc': 'Агата Геннадьевна Мартынова, Стаж Работы: 8 Л./Г..',\n",
       "    'master_feedbacks': ['ворчливый, аккуратный.', 'ворчливый, аккуратный.']}},\n",
       "  {'_index': 'master',\n",
       "   '_id': '670176',\n",
       "   '_score': 0.7704413,\n",
       "   '_source': {'master_id': 670176,\n",
       "    'master_desc': 'Одинцова Любовь Харитоновна, Стаж Работы: 4 Л./Г..',\n",
       "    'master_feedbacks': ['аккуратный, ворчливый.',\n",
       "     'медлительный, аккуратный.',\n",
       "     'аккуратный, ворчливый.']}},\n",
       "  {'_index': 'master',\n",
       "   '_id': '349981',\n",
       "   '_score': 0.7704413,\n",
       "   '_source': {'master_id': 349981,\n",
       "    'master_desc': 'Шашков Ефим Изотович, Стаж Работы: 14 Л./Г..',\n",
       "    'master_feedbacks': ['аккуратный, медлительный.',\n",
       "     'аккуратный, медлительный.',\n",
       "     'аккуратный, медлительный.']}}]}"
      ]
     },
     "execution_count": 63,
     "metadata": {},
     "output_type": "execute_result"
    }
   ],
   "source": [
    "result['hits']"
   ]
  },
  {
   "cell_type": "code",
   "execution_count": null,
   "id": "6a926e87-2a60-4c6d-9184-bb999903c603",
   "metadata": {},
   "outputs": [],
   "source": []
  }
 ],
 "metadata": {
  "kernelspec": {
   "display_name": "Python 3 (ipykernel)",
   "language": "python",
   "name": "python3"
  },
  "language_info": {
   "codemirror_mode": {
    "name": "ipython",
    "version": 3
   },
   "file_extension": ".py",
   "mimetype": "text/x-python",
   "name": "python",
   "nbconvert_exporter": "python",
   "pygments_lexer": "ipython3",
   "version": "3.9.0"
  }
 },
 "nbformat": 4,
 "nbformat_minor": 5
}
