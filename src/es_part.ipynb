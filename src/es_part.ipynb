{
 "cells": [
  {
   "cell_type": "markdown",
   "id": "b8f370b3-392d-4923-a361-19fa51ca6a08",
   "metadata": {},
   "source": [
    "# Image https://hub.docker.com/r/bitnami/elasticsearch#!&_escaped_fragment_=\n",
    "\n",
    "Ports: 9200, 9201, 9300\n",
    "Mount: -v /path/to/elasticsearch-data-persistence:/bitnami/elasticsearch/data\n",
    "\n",
    "curl -XPUT -H \"Content-Type: application/json\" http://localhost:9200/_cluster/settings -d '{ \"transient\": { \"cluster.routing.allocation.disk.threshold_enabled\": false } }'\r\n",
    "\n",
    "curl -XPUT -H \"Content-Type: application/json\" http://localhost:9200/_all/_settings -d '{\"index.blocks.read_only_allow_delete\": null}\n",
    "\n",
    "\n",
    "http://localhost:9200/?pretty\n",
    "\n",
    "es5 container\n",
    "\n",
    "Array mapping: https://stackoverflow.com/questions/67581594/elasticsearch-mapping-for-array\n",
    "\n",
    "Habr guide: https://habr.com/ru/articles/280488/'"
   ]
  },
  {
   "cell_type": "markdown",
   "id": "c12a2735-b280-4922-871d-a9f9221a4313",
   "metadata": {},
   "source": [
    "All orders: http://localhost:9200/order/_search?pretty\n",
    "All masters: http://localhost:9200/master/_search?pretty"
   ]
  },
  {
   "cell_type": "code",
   "execution_count": 94,
   "id": "2e229e4c-1f51-4d23-9984-9f61ed2b4ff9",
   "metadata": {},
   "outputs": [],
   "source": [
    "import requests"
   ]
  },
  {
   "cell_type": "code",
   "execution_count": 95,
   "id": "71bb2752-107c-46ce-84d9-3ee0011ddad9",
   "metadata": {},
   "outputs": [],
   "source": [
    "r = requests.put('http://localhost:9200/_cluster/settings', json={ \"transient\": { \"cluster.routing.allocation.disk.threshold_enabled\": False } })"
   ]
  },
  {
   "cell_type": "code",
   "execution_count": 96,
   "id": "2699974c-b0bc-4c62-8553-0363eca4f6fe",
   "metadata": {},
   "outputs": [
    {
     "data": {
      "text/plain": [
       "{'acknowledged': True,\n",
       " 'persistent': {},\n",
       " 'transient': {'cluster': {'routing': {'allocation': {'disk': {'threshold_enabled': 'false'}}}}}}"
      ]
     },
     "execution_count": 96,
     "metadata": {},
     "output_type": "execute_result"
    }
   ],
   "source": [
    "r.json()"
   ]
  },
  {
   "cell_type": "code",
   "execution_count": 97,
   "id": "d71c7012-3f15-4e09-9a36-e15286cfa82b",
   "metadata": {},
   "outputs": [],
   "source": [
    "r = requests.put('http://localhost:9200/_all/_settings', json={\"index.blocks.read_only_allow_delete\": None})"
   ]
  },
  {
   "cell_type": "code",
   "execution_count": 98,
   "id": "c91a2160-d30e-47e9-8488-a5aa1dd63c3b",
   "metadata": {},
   "outputs": [
    {
     "data": {
      "text/plain": [
       "{'acknowledged': True}"
      ]
     },
     "execution_count": 98,
     "metadata": {},
     "output_type": "execute_result"
    }
   ],
   "source": [
    "r.json()"
   ]
  },
  {
   "cell_type": "code",
   "execution_count": null,
   "id": "5fc39aa9-71ff-45e1-bf85-648d8eb417c0",
   "metadata": {},
   "outputs": [],
   "source": []
  },
  {
   "cell_type": "code",
   "execution_count": 112,
   "id": "d3e6820f-5bb7-452d-b7de-7056fb366d19",
   "metadata": {},
   "outputs": [],
   "source": [
    "import json\n",
    "from elasticsearch import Elasticsearch"
   ]
  },
  {
   "cell_type": "code",
   "execution_count": 113,
   "id": "cc6378f1-1a20-4cdb-8927-a7e394486fb0",
   "metadata": {},
   "outputs": [
    {
     "data": {
      "text/plain": [
       "True"
      ]
     },
     "execution_count": 113,
     "metadata": {},
     "output_type": "execute_result"
    }
   ],
   "source": [
    "client = Elasticsearch([{\"host\": \"127.0.0.1\", \"scheme\": \"http\", \"port\": 9200}])\n",
    "\n",
    "client.ping()"
   ]
  },
  {
   "cell_type": "markdown",
   "id": "9cb9883a-3b6e-4b8a-8135-3023a0c9f706",
   "metadata": {},
   "source": [
    "# Index 1 - orders"
   ]
  },
  {
   "cell_type": "code",
   "execution_count": 114,
   "id": "7af31192-b442-4743-ba6f-abb85f060f44",
   "metadata": {},
   "outputs": [
    {
     "data": {
      "text/plain": [
       "ObjectApiResponse({'acknowledged': True})"
      ]
     },
     "execution_count": 114,
     "metadata": {},
     "output_type": "execute_result"
    }
   ],
   "source": [
    "indexName = \"order\"\n",
    "client.indices.delete(index=indexName)\n",
    "# client.indices.create(index=indexName)"
   ]
  },
  {
   "cell_type": "code",
   "execution_count": 115,
   "id": "6bdb00b5-1281-4e19-9195-0b1bf352df5f",
   "metadata": {},
   "outputs": [],
   "source": [
    "analyzer_settings = {\n",
    "  \"settings\": {\n",
    "    \"analysis\": {\n",
    "      \"filter\": {\n",
    "        \"ru_stop\": {\n",
    "          \"type\": \"stop\",\n",
    "          \"stopwords\": \"_russian_\"\n",
    "        },\n",
    "        \"ru_stemmer\": {\n",
    "          \"type\": \"stemmer\",\n",
    "          \"language\": \"russian\"\n",
    "        }\n",
    "      },\n",
    "      \"analyzer\": {\n",
    "        \"custom_analyzer\": {\n",
    "          \"type\": \"custom\",\n",
    "          \"tokenizer\": \"standard\",\n",
    "          \"filter\": [\n",
    "            \"lowercase\",\n",
    "            \"ru_stop\",\n",
    "            \"ru_stemmer\"\n",
    "          ]\n",
    "        }\n",
    "      }\n",
    "    }\n",
    "  }\n",
    "}"
   ]
  },
  {
   "cell_type": "code",
   "execution_count": 116,
   "id": "7d91f528-ae98-4681-9489-a18ef7c38298",
   "metadata": {},
   "outputs": [
    {
     "data": {
      "text/plain": [
       "ObjectApiResponse({'acknowledged': True, 'shards_acknowledged': True, 'index': 'order'})"
      ]
     },
     "execution_count": 116,
     "metadata": {},
     "output_type": "execute_result"
    }
   ],
   "source": [
    "mappings_order = {\n",
    "\"mappings\" : {\n",
    "  \"properties\" : {\n",
    "    \"order_customer_desc\" : {\n",
    "      \"type\" : \"text\",\n",
    "      \"analyzer\": \"custom_analyzer\"\n",
    "    },\n",
    "    \"order_customer_id\" : {\n",
    "      \"type\" : \"long\"\n",
    "    },\n",
    "    \"order_date\" : {\n",
    "      \"type\" : \"date\"\n",
    "    },\n",
    "    \"order_details_desc\" : {\n",
    "      \"type\" : \"text\",\n",
    "      \"analyzer\": \"custom_analyzer\"\n",
    "    },\n",
    "    \"order_due_date\" : {\n",
    "      \"type\" : \"date\"\n",
    "    },\n",
    "    \"order_fact_completion_date\" : {\n",
    "      \"type\" : \"date\"\n",
    "    },\n",
    "    \"order_id\" : {\n",
    "      \"type\" : \"long\"\n",
    "    },\n",
    "    \"order_master_id\" : {\n",
    "      \"type\" : \"long\"\n",
    "    },\n",
    "    \"order_parts\" : {\n",
    "      \"type\" : \"text\",\n",
    "      \"fields\" : {\n",
    "        \"keyword\" : {\n",
    "          \"type\" : \"keyword\"\n",
    "        }\n",
    "      }\n",
    "    },\n",
    "    \"order_price\" : {\n",
    "      \"type\" : \"float\"\n",
    "    },\n",
    "    \"repair_types\" : {\n",
    "      \"type\" : \"text\",\n",
    "      \"fields\" : {\n",
    "        \"keyword\" : {\n",
    "          \"type\" : \"keyword\"\n",
    "        }\n",
    "      }\n",
    "    }\n",
    "  }\n",
    "}\n",
    "}\n",
    "\n",
    "\n",
    "client.indices.create(index=indexName, \n",
    "                            # doc_type=\"diseases\", \n",
    "                           # include_type_name=\"true\", \n",
    "                           body={**analyzer_settings\n",
    "                                 , **mappings_order\n",
    "                                }\n",
    "                          )"
   ]
  },
  {
   "cell_type": "code",
   "execution_count": 117,
   "id": "47749078-1564-415e-95f4-20c5f09c92da",
   "metadata": {},
   "outputs": [
    {
     "name": "stdout",
     "output_type": "stream",
     "text": [
      "index 'order' data inserted\n"
     ]
    }
   ],
   "source": [
    "with open('../orders.json', 'r') as f:\n",
    "    dataStore = json.load(f)\n",
    "\n",
    "for data in dataStore:\n",
    "    try:\n",
    "        client.index(\n",
    "            index=data[\"index\"],\n",
    "            # doc_type=data[\"doc_type\"],\n",
    "            id=data[\"id\"],\n",
    "            body=data[\"body\"]\n",
    "        )\n",
    "    except Exception as e:\n",
    "        print(e, end=\"\")\n",
    "print(\"index 'order' data inserted\")"
   ]
  },
  {
   "cell_type": "markdown",
   "id": "73e2d1bf-1953-40f6-a58f-ff2abb707178",
   "metadata": {},
   "source": [
    "# Query 1 - orders"
   ]
  },
  {
   "cell_type": "code",
   "execution_count": 118,
   "id": "a78ea2c3-c59c-4f59-ad81-50f880af476f",
   "metadata": {},
   "outputs": [],
   "source": [
    "indexName = \"order\"\n",
    "searchSize = 9999\n",
    "\n",
    "searchBody = {\n",
    "  \"size\": searchSize,\n",
    "  # \"query\" : {\n",
    "  #   \"match_all\" : {}\n",
    "  # }\n",
    "  \"_source\": True,\n",
    "  # \"query\": {},\n",
    "  \"aggs\": {\n",
    "    \"over_months\": {\n",
    "      \"date_histogram\": {\n",
    "        \"field\": \"order_date\",\n",
    "        \"calendar_interval\": \"month\",\n",
    "        \"format\": \"yyyy-MM-dd\" # control the output format\n",
    "      },\n",
    "        \"aggs\":{\n",
    "            \"over_parts\": {\n",
    "              \"terms\": {\n",
    "                \"field\": \"order_parts.keyword\"\n",
    "                # \"fielddata\": True\n",
    "              },\n",
    "            }\n",
    "        }\n",
    "    }\n",
    "  }\n",
    "}\n",
    "\n",
    "result = client.search(index=indexName, body=searchBody)"
   ]
  },
  {
   "cell_type": "code",
   "execution_count": 119,
   "id": "4e90696f-eb74-4ad4-a247-3579f6734414",
   "metadata": {},
   "outputs": [],
   "source": [
    "# result"
   ]
  },
  {
   "cell_type": "code",
   "execution_count": 120,
   "id": "4365eae8-a97f-49c2-a6fc-370cea8a00eb",
   "metadata": {},
   "outputs": [
    {
     "data": {
      "text/plain": [
       "[{'key_as_string': '2023-12-01',\n",
       "  'key': 1701388800000,\n",
       "  'doc_count': 9,\n",
       "  'over_parts': {'doc_count_error_upper_bound': 0,\n",
       "   'sum_other_doc_count': 0,\n",
       "   'buckets': [{'key': 'аккумулятор', 'doc_count': 4},\n",
       "    {'key': 'дисплей', 'doc_count': 4},\n",
       "    {'key': 'корпус', 'doc_count': 3},\n",
       "    {'key': 'usb-разъем', 'doc_count': 2}]}},\n",
       " {'key_as_string': '2024-01-01',\n",
       "  'key': 1704067200000,\n",
       "  'doc_count': 18,\n",
       "  'over_parts': {'doc_count_error_upper_bound': 0,\n",
       "   'sum_other_doc_count': 0,\n",
       "   'buckets': [{'key': 'аккумулятор', 'doc_count': 9},\n",
       "    {'key': 'usb-разъем', 'doc_count': 7},\n",
       "    {'key': 'дисплей', 'doc_count': 7},\n",
       "    {'key': 'корпус', 'doc_count': 7}]}},\n",
       " {'key_as_string': '2024-02-01',\n",
       "  'key': 1706745600000,\n",
       "  'doc_count': 20,\n",
       "  'over_parts': {'doc_count_error_upper_bound': 0,\n",
       "   'sum_other_doc_count': 0,\n",
       "   'buckets': [{'key': 'дисплей', 'doc_count': 12},\n",
       "    {'key': 'аккумулятор', 'doc_count': 9},\n",
       "    {'key': 'корпус', 'doc_count': 9},\n",
       "    {'key': 'usb-разъем', 'doc_count': 7}]}}]"
      ]
     },
     "execution_count": 120,
     "metadata": {},
     "output_type": "execute_result"
    }
   ],
   "source": [
    "result['aggregations']['over_months']['buckets']"
   ]
  },
  {
   "cell_type": "code",
   "execution_count": 121,
   "id": "53679392-f83b-4d4c-84f4-9561826ce201",
   "metadata": {},
   "outputs": [],
   "source": [
    "# result['hits']"
   ]
  },
  {
   "cell_type": "markdown",
   "id": "fdc6c680-36d0-4524-8c27-13138a20316d",
   "metadata": {},
   "source": [
    "# Index 2 - masters"
   ]
  },
  {
   "cell_type": "code",
   "execution_count": 122,
   "id": "e93f44d3-17eb-4958-a6f1-5952c9f3f28b",
   "metadata": {},
   "outputs": [
    {
     "data": {
      "text/plain": [
       "ObjectApiResponse({'acknowledged': True})"
      ]
     },
     "execution_count": 122,
     "metadata": {},
     "output_type": "execute_result"
    }
   ],
   "source": [
    "indexName = \"master\"\n",
    "client.indices.delete(index=indexName)\n",
    "# client.indices.create(index=indexName)"
   ]
  },
  {
   "cell_type": "code",
   "execution_count": 123,
   "id": "2a377895-7a81-4ee8-932c-29e0cdb0c3a6",
   "metadata": {},
   "outputs": [
    {
     "data": {
      "text/plain": [
       "ObjectApiResponse({'acknowledged': True, 'shards_acknowledged': True, 'index': 'master'})"
      ]
     },
     "execution_count": 123,
     "metadata": {},
     "output_type": "execute_result"
    }
   ],
   "source": [
    "mappings_master = {\n",
    "\"mappings\" : {\n",
    "      \"properties\" : {\n",
    "        \"master_desc\" : {\n",
    "          \"type\" : \"text\",\n",
    "          \"analyzer\": \"custom_analyzer\"\n",
    "        },\n",
    "        \"master_feedbacks\" : {\n",
    "          \"type\" : \"text\",\n",
    "          \"fields\" : {\n",
    "            \"keyword\" : {\n",
    "              \"type\" : \"keyword\"\n",
    "            }\n",
    "          }\n",
    "        },\n",
    "        \"master_id\" : {\n",
    "          \"type\" : \"long\"\n",
    "        }\n",
    "      }\n",
    "}\n",
    "}\n",
    "\n",
    "client.indices.create(index=indexName, \n",
    "                            # doc_type=\"diseases\", \n",
    "                           # include_type_name=\"true\", \n",
    "                           body={**analyzer_settings\n",
    "                                 , **mappings_master\n",
    "                                }\n",
    "                          )"
   ]
  },
  {
   "cell_type": "code",
   "execution_count": 124,
   "id": "a125df34-41a5-491d-bcee-badef13dfee0",
   "metadata": {},
   "outputs": [
    {
     "name": "stdout",
     "output_type": "stream",
     "text": [
      "index 'master' data inserted\n"
     ]
    }
   ],
   "source": [
    "with open('../masters.json', 'r') as f:\n",
    "    dataStore = json.load(f)\n",
    "\n",
    "for data in dataStore:\n",
    "    try:\n",
    "        client.index(\n",
    "            index=data[\"index\"],\n",
    "            # doc_type=data[\"doc_type\"],\n",
    "            id=data[\"id\"],\n",
    "            body=data[\"body\"]\n",
    "        )\n",
    "    except Exception as e:\n",
    "        print(e, end=\"\")\n",
    "print(\"index 'master' data inserted\")"
   ]
  },
  {
   "cell_type": "markdown",
   "id": "1118b9f7-91bc-4575-a767-2bffe6ae0358",
   "metadata": {},
   "source": [
    "# Query 2 - masters"
   ]
  },
  {
   "cell_type": "code",
   "execution_count": 131,
   "id": "f2023953-ef62-4de6-b70f-89ac3cbaf620",
   "metadata": {},
   "outputs": [],
   "source": [
    "indexName = \"master\"\n",
    "searchFrom = 0\n",
    "searchSize = 5\n",
    "\n",
    "searchBody = {\n",
    "  \"_source\": True, #[\"master_desc\"], # True - all data\n",
    "  \"query\": {\n",
    "    \"match\": {\n",
    "      \"master_desc\": \"стаж\"\n",
    "    }\n",
    "  },\n",
    "  \"size\": searchSize\n",
    "}\n",
    "\n",
    "result = client.search(index=indexName, body=searchBody)"
   ]
  },
  {
   "cell_type": "code",
   "execution_count": 132,
   "id": "e61ece56-d367-4cb8-8b47-fe767a2c85e1",
   "metadata": {},
   "outputs": [],
   "source": [
    "# result"
   ]
  },
  {
   "cell_type": "code",
   "execution_count": 133,
   "id": "5f4d8662-958a-4783-be6c-9bb50976a1ad",
   "metadata": {},
   "outputs": [
    {
     "data": {
      "text/plain": [
       "{'total': {'value': 12, 'relation': 'eq'},\n",
       " 'max_score': 0.49623758,\n",
       " 'hits': [{'_index': 'master',\n",
       "   '_id': '618529',\n",
       "   '_score': 0.49623758,\n",
       "   '_source': {'master_id': 618529,\n",
       "    'master_desc': 'Аполлон Харитонович Афанасьев, Стаж Работы: 5 Л./Г..',\n",
       "    'master_feedbacks': ['медлительный, аккуратный.',\n",
       "     'ворчливый, медлительный.']}},\n",
       "  {'_index': 'master',\n",
       "   '_id': '791839',\n",
       "   '_score': 0.49623758,\n",
       "   '_source': {'master_id': 791839,\n",
       "    'master_desc': 'Август Дорофеевич Кошелев, Стаж Работы: 11 Л./Г..',\n",
       "    'master_feedbacks': ['медлительный, ворчливый.']}},\n",
       "  {'_index': 'master',\n",
       "   '_id': '96520',\n",
       "   '_score': 0.49623758,\n",
       "   '_source': {'master_id': 96520,\n",
       "    'master_desc': 'Давыдова Александра Харитоновна, Стаж Работы: 12 Л./Г..',\n",
       "    'master_feedbacks': ['аккуратный, медлительный.',\n",
       "     'медлительный, аккуратный.',\n",
       "     'ворчливый, медлительный.']}},\n",
       "  {'_index': 'master',\n",
       "   '_id': '377918',\n",
       "   '_score': 0.49623758,\n",
       "   '_source': {'master_id': 377918,\n",
       "    'master_desc': 'Дьячков Евстигней Гаврилович, Стаж Работы: 15 Л./Г..',\n",
       "    'master_feedbacks': ['ворчливый, аккуратный.']}},\n",
       "  {'_index': 'master',\n",
       "   '_id': '185439',\n",
       "   '_score': 0.49623758,\n",
       "   '_source': {'master_id': 185439,\n",
       "    'master_desc': 'Никонова Нинель Болеславовна, Стаж Работы: 13 Л./Г..',\n",
       "    'master_feedbacks': ['медлительный, ворчливый.',\n",
       "     'ворчливый, медлительный.',\n",
       "     'медлительный, ворчливый.']}}]}"
      ]
     },
     "execution_count": 133,
     "metadata": {},
     "output_type": "execute_result"
    }
   ],
   "source": [
    "result['hits']"
   ]
  },
  {
   "cell_type": "code",
   "execution_count": null,
   "id": "6a926e87-2a60-4c6d-9184-bb999903c603",
   "metadata": {},
   "outputs": [],
   "source": []
  },
  {
   "cell_type": "code",
   "execution_count": null,
   "id": "0f1b7cfb-0fba-44bd-af65-d1586b3b5f60",
   "metadata": {},
   "outputs": [],
   "source": []
  },
  {
   "cell_type": "code",
   "execution_count": null,
   "id": "259e71b2-36f7-42ba-9931-a52df5896a5f",
   "metadata": {},
   "outputs": [],
   "source": []
  }
 ],
 "metadata": {
  "kernelspec": {
   "display_name": "Python 3 (ipykernel)",
   "language": "python",
   "name": "python3"
  },
  "language_info": {
   "codemirror_mode": {
    "name": "ipython",
    "version": 3
   },
   "file_extension": ".py",
   "mimetype": "text/x-python",
   "name": "python",
   "nbconvert_exporter": "python",
   "pygments_lexer": "ipython3",
   "version": "3.9.0"
  }
 },
 "nbformat": 4,
 "nbformat_minor": 5
}
