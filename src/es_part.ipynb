{
 "cells": [
  {
   "cell_type": "markdown",
   "id": "b8f370b3-392d-4923-a361-19fa51ca6a08",
   "metadata": {},
   "source": [
    "# Image https://hub.docker.com/r/bitnami/elasticsearch#!&_escaped_fragment_=\n",
    "\n",
    "Ports: 9200, 9201, 9300\n",
    "Mount: -v /path/to/elasticsearch-data-persistence:/bitnami/elasticsearch/data\n",
    "\n",
    "curl -XPUT -H \"Content-Type: application/json\" http://localhost:9200/_cluster/settings -d '{ \"transient\": { \"cluster.routing.allocation.disk.threshold_enabled\": false } }'\r\n",
    "\n",
    "curl -XPUT -H \"Content-Type: application/json\" http://localhost:9200/_all/_settings -d '{\"index.blocks.read_only_allow_delete\": null}\n",
    "\n",
    "\n",
    "http://localhost:9200/?pretty\n",
    "\n",
    "es5 container\n",
    "\n",
    "Array mapping: https://stackoverflow.com/questions/67581594/elasticsearch-mapping-for-array\n",
    "\n",
    "Habr guide: https://habr.com/ru/articles/280488/'"
   ]
  },
  {
   "cell_type": "code",
   "execution_count": 11,
   "id": "2e229e4c-1f51-4d23-9984-9f61ed2b4ff9",
   "metadata": {},
   "outputs": [],
   "source": [
    "import requests"
   ]
  },
  {
   "cell_type": "code",
   "execution_count": 12,
   "id": "71bb2752-107c-46ce-84d9-3ee0011ddad9",
   "metadata": {},
   "outputs": [],
   "source": [
    "r = requests.put('http://localhost:9200/_cluster/settings', json={ \"transient\": { \"cluster.routing.allocation.disk.threshold_enabled\": False } })"
   ]
  },
  {
   "cell_type": "code",
   "execution_count": 16,
   "id": "2699974c-b0bc-4c62-8553-0363eca4f6fe",
   "metadata": {},
   "outputs": [
    {
     "data": {
      "text/plain": [
       "{'acknowledged': True,\n",
       " 'persistent': {},\n",
       " 'transient': {'cluster': {'routing': {'allocation': {'disk': {'threshold_enabled': 'false'}}}}}}"
      ]
     },
     "execution_count": 16,
     "metadata": {},
     "output_type": "execute_result"
    }
   ],
   "source": [
    "r.json()"
   ]
  },
  {
   "cell_type": "code",
   "execution_count": 20,
   "id": "d71c7012-3f15-4e09-9a36-e15286cfa82b",
   "metadata": {},
   "outputs": [],
   "source": [
    "r = requests.put('http://localhost:9200/_all/_settings', json={\"index.blocks.read_only_allow_delete\": None})"
   ]
  },
  {
   "cell_type": "code",
   "execution_count": 21,
   "id": "c91a2160-d30e-47e9-8488-a5aa1dd63c3b",
   "metadata": {},
   "outputs": [
    {
     "data": {
      "text/plain": [
       "{'error': {'root_cause': [{'type': 'index_not_found_exception',\n",
       "    'reason': 'no such index [_all] and no indices exist',\n",
       "    'resource.type': 'index_or_alias',\n",
       "    'resource.id': '_all',\n",
       "    'index_uuid': '_na_',\n",
       "    'index': '_all'}],\n",
       "  'type': 'index_not_found_exception',\n",
       "  'reason': 'no such index [_all] and no indices exist',\n",
       "  'resource.type': 'index_or_alias',\n",
       "  'resource.id': '_all',\n",
       "  'index_uuid': '_na_',\n",
       "  'index': '_all'},\n",
       " 'status': 404}"
      ]
     },
     "execution_count": 21,
     "metadata": {},
     "output_type": "execute_result"
    }
   ],
   "source": [
    "r.json()"
   ]
  },
  {
   "cell_type": "code",
   "execution_count": null,
   "id": "5fc39aa9-71ff-45e1-bf85-648d8eb417c0",
   "metadata": {},
   "outputs": [],
   "source": []
  },
  {
   "cell_type": "code",
   "execution_count": 22,
   "id": "d3e6820f-5bb7-452d-b7de-7056fb366d19",
   "metadata": {},
   "outputs": [],
   "source": [
    "import json\n",
    "from elasticsearch import Elasticsearch"
   ]
  },
  {
   "cell_type": "code",
   "execution_count": 23,
   "id": "cc6378f1-1a20-4cdb-8927-a7e394486fb0",
   "metadata": {},
   "outputs": [
    {
     "data": {
      "text/plain": [
       "True"
      ]
     },
     "execution_count": 23,
     "metadata": {},
     "output_type": "execute_result"
    }
   ],
   "source": [
    "client = Elasticsearch([{\"host\": \"127.0.0.1\", \"scheme\": \"http\", \"port\": 9200}])\n",
    "\n",
    "client.ping()"
   ]
  },
  {
   "cell_type": "code",
   "execution_count": 44,
   "id": "e93f44d3-17eb-4958-a6f1-5952c9f3f28b",
   "metadata": {},
   "outputs": [
    {
     "data": {
      "text/plain": [
       "ObjectApiResponse({'acknowledged': True})"
      ]
     },
     "execution_count": 44,
     "metadata": {},
     "output_type": "execute_result"
    }
   ],
   "source": [
    "indexName = \"master\"\n",
    "# client.indices.delete(index=indexName)\n",
    "# client.indices.create(index=indexName)"
   ]
  },
  {
   "cell_type": "code",
   "execution_count": 45,
   "id": "bbc18952-8594-4f51-b3b7-36984f62c50b",
   "metadata": {},
   "outputs": [],
   "source": [
    "analyzer_settings = {\n",
    "  \"settings\": {\n",
    "    \"analysis\": {\n",
    "      \"filter\": {\n",
    "        \"ru_stop\": {\n",
    "          \"type\": \"stop\",\n",
    "          \"stopwords\": \"_russian_\"\n",
    "        },\n",
    "        \"ru_stemmer\": {\n",
    "          \"type\": \"stemmer\",\n",
    "          \"language\": \"russian\"\n",
    "        }\n",
    "      },\n",
    "      \"analyzer\": {\n",
    "        \"custom_analyzer\": {\n",
    "          \"type\": \"custom\",\n",
    "          \"tokenizer\": \"standard\",\n",
    "          \"filter\": [\n",
    "            \"lowercase\",\n",
    "            \"ru_stop\",\n",
    "            \"ru_stemmer\"\n",
    "          ]\n",
    "        }\n",
    "      }\n",
    "    }\n",
    "  }\n",
    "}"
   ]
  },
  {
   "cell_type": "code",
   "execution_count": 46,
   "id": "2a377895-7a81-4ee8-932c-29e0cdb0c3a6",
   "metadata": {},
   "outputs": [
    {
     "data": {
      "text/plain": [
       "ObjectApiResponse({'acknowledged': True, 'shards_acknowledged': True, 'index': 'master'})"
      ]
     },
     "execution_count": 46,
     "metadata": {},
     "output_type": "execute_result"
    }
   ],
   "source": [
    "mappings_master = {\n",
    "  \"mappings\": {\n",
    "    \"properties\": {\n",
    "      \"master_id\": {\n",
    "        \"type\": \"keyword\"\n",
    "      },\n",
    "      \"master_desc\": {\n",
    "        \"type\": \"text\",\n",
    "        \"analyzer\": \"custom_analyzer\"\n",
    "      },\n",
    "      \"master_feedbacks\": {\n",
    "        \"type\": \"text\",\n",
    "        \"analyzer\": \"custom_analyzer\",\n",
    "        \"fields\": {\n",
    "          \"master_feedbacks_row\": {\n",
    "            \"type\": \"text\",\n",
    "            \"analyzer\": \"custom_analyzer\",\n",
    "          }\n",
    "        }\n",
    "      }\n",
    "    }\n",
    "  }\n",
    "}\n",
    "\n",
    "\n",
    "client.indices.create(index=indexName, \n",
    "                            # doc_type=\"diseases\", \n",
    "                           # include_type_name=\"true\", \n",
    "                           body={**analyzer_settings, **mappings_master}\n",
    "                          )"
   ]
  },
  {
   "cell_type": "code",
   "execution_count": 47,
   "id": "a125df34-41a5-491d-bcee-badef13dfee0",
   "metadata": {},
   "outputs": [
    {
     "name": "stdout",
     "output_type": "stream",
     "text": [
      "ok\n"
     ]
    }
   ],
   "source": [
    "with open('../masters.json', 'r') as f:\n",
    "    dataStore = json.load(f)\n",
    "\n",
    "for data in dataStore:\n",
    "    try:\n",
    "        client.index(\n",
    "            index=data[\"index\"],\n",
    "            # doc_type=data[\"doc_type\"],\n",
    "            id=data[\"id\"],\n",
    "            body=data[\"body\"]\n",
    "        )\n",
    "    except Exception as e:\n",
    "        print(e, end=\"\")\n",
    "print(\"ok\")"
   ]
  },
  {
   "cell_type": "markdown",
   "id": "1118b9f7-91bc-4575-a767-2bffe6ae0358",
   "metadata": {},
   "source": [
    "# Query 2 - masters"
   ]
  },
  {
   "cell_type": "code",
   "execution_count": 146,
   "id": "f2023953-ef62-4de6-b70f-89ac3cbaf620",
   "metadata": {},
   "outputs": [],
   "source": [
    "indexName = \"master\"\n",
    "searchFrom = 0\n",
    "searchSize = 10\n",
    "\n",
    "# 2\n",
    "# searchBody = {\n",
    "#     \"_source\": [\"name\"],\n",
    "#     \"query\": {\n",
    "#         \"simple_query_string\": {\n",
    "#             \"query\": 'стаж',\n",
    "#             \"fields\": [\"master_desc\"]\n",
    "#         }\n",
    "#     },\n",
    "#     \"size\": searchSize\n",
    "# }\n",
    "\n",
    "searchBody = {\n",
    "  \"_source\": [\"master_desc\"], # True - all data\n",
    "  \"query\": {\n",
    "    \"match\": {\n",
    "      \"master_desc\": \"стаж\"\n",
    "    }\n",
    "  },\n",
    "  \"size\": searchSize\n",
    "}\n",
    "\n",
    "# searchBody = {}\n",
    "result = client.search(index=indexName, body=searchBody)\n",
    "# , body=searchBody, from_=1, size=5)"
   ]
  },
  {
   "cell_type": "code",
   "execution_count": 147,
   "id": "e61ece56-d367-4cb8-8b47-fe767a2c85e1",
   "metadata": {},
   "outputs": [
    {
     "data": {
      "text/plain": [
       "ObjectApiResponse({'took': 14, 'timed_out': False, '_shards': {'total': 1, 'successful': 1, 'skipped': 0, 'failed': 0}, 'hits': {'total': {'value': 44, 'relation': 'eq'}, 'max_score': 0.7704413, 'hits': [{'_index': 'master', '_id': '247830', '_score': 0.7704413, '_source': {'master_desc': 'Лора Эдуардовна Быкова, Стаж Работы: 14 Л./Г..'}}, {'_index': 'master', '_id': '578414', '_score': 0.7704413, '_source': {'master_desc': 'Терентий Валентинович Бобылев, Стаж Работы: 10 Л./Г..'}}, {'_index': 'master', '_id': '435930', '_score': 0.7704413, '_source': {'master_desc': 'Шарапова Раиса Владимировна, Стаж Работы: 8 Л./Г..'}}, {'_index': 'master', '_id': '111767', '_score': 0.7704413, '_source': {'master_desc': 'Семенов Родион Евсеевич, Стаж Работы: 12 Л./Г..'}}, {'_index': 'master', '_id': '756017', '_score': 0.7704413, '_source': {'master_desc': 'Макаров Родион Зиновьевич, Стаж Работы: 15 Л./Г..'}}, {'_index': 'master', '_id': '354808', '_score': 0.7704413, '_source': {'master_desc': 'Глафира Эльдаровна Потапова, Стаж Работы: 13 Л./Г..'}}, {'_index': 'master', '_id': '695009', '_score': 0.7704413, '_source': {'master_desc': 'Фёкла Святославовна Казакова, Стаж Работы: 13 Л./Г..'}}, {'_index': 'master', '_id': '688162', '_score': 0.7704413, '_source': {'master_desc': 'Агата Геннадьевна Мартынова, Стаж Работы: 8 Л./Г..'}}, {'_index': 'master', '_id': '670176', '_score': 0.7704413, '_source': {'master_desc': 'Одинцова Любовь Харитоновна, Стаж Работы: 4 Л./Г..'}}, {'_index': 'master', '_id': '349981', '_score': 0.7704413, '_source': {'master_desc': 'Шашков Ефим Изотович, Стаж Работы: 14 Л./Г..'}}]}})"
      ]
     },
     "execution_count": 147,
     "metadata": {},
     "output_type": "execute_result"
    }
   ],
   "source": [
    "result"
   ]
  },
  {
   "cell_type": "code",
   "execution_count": 148,
   "id": "5f4d8662-958a-4783-be6c-9bb50976a1ad",
   "metadata": {},
   "outputs": [
    {
     "data": {
      "text/plain": [
       "{'total': {'value': 44, 'relation': 'eq'},\n",
       " 'max_score': 0.7704413,\n",
       " 'hits': [{'_index': 'master',\n",
       "   '_id': '247830',\n",
       "   '_score': 0.7704413,\n",
       "   '_source': {'master_desc': 'Лора Эдуардовна Быкова, Стаж Работы: 14 Л./Г..'}},\n",
       "  {'_index': 'master',\n",
       "   '_id': '578414',\n",
       "   '_score': 0.7704413,\n",
       "   '_source': {'master_desc': 'Терентий Валентинович Бобылев, Стаж Работы: 10 Л./Г..'}},\n",
       "  {'_index': 'master',\n",
       "   '_id': '435930',\n",
       "   '_score': 0.7704413,\n",
       "   '_source': {'master_desc': 'Шарапова Раиса Владимировна, Стаж Работы: 8 Л./Г..'}},\n",
       "  {'_index': 'master',\n",
       "   '_id': '111767',\n",
       "   '_score': 0.7704413,\n",
       "   '_source': {'master_desc': 'Семенов Родион Евсеевич, Стаж Работы: 12 Л./Г..'}},\n",
       "  {'_index': 'master',\n",
       "   '_id': '756017',\n",
       "   '_score': 0.7704413,\n",
       "   '_source': {'master_desc': 'Макаров Родион Зиновьевич, Стаж Работы: 15 Л./Г..'}},\n",
       "  {'_index': 'master',\n",
       "   '_id': '354808',\n",
       "   '_score': 0.7704413,\n",
       "   '_source': {'master_desc': 'Глафира Эльдаровна Потапова, Стаж Работы: 13 Л./Г..'}},\n",
       "  {'_index': 'master',\n",
       "   '_id': '695009',\n",
       "   '_score': 0.7704413,\n",
       "   '_source': {'master_desc': 'Фёкла Святославовна Казакова, Стаж Работы: 13 Л./Г..'}},\n",
       "  {'_index': 'master',\n",
       "   '_id': '688162',\n",
       "   '_score': 0.7704413,\n",
       "   '_source': {'master_desc': 'Агата Геннадьевна Мартынова, Стаж Работы: 8 Л./Г..'}},\n",
       "  {'_index': 'master',\n",
       "   '_id': '670176',\n",
       "   '_score': 0.7704413,\n",
       "   '_source': {'master_desc': 'Одинцова Любовь Харитоновна, Стаж Работы: 4 Л./Г..'}},\n",
       "  {'_index': 'master',\n",
       "   '_id': '349981',\n",
       "   '_score': 0.7704413,\n",
       "   '_source': {'master_desc': 'Шашков Ефим Изотович, Стаж Работы: 14 Л./Г..'}}]}"
      ]
     },
     "execution_count": 148,
     "metadata": {},
     "output_type": "execute_result"
    }
   ],
   "source": [
    "result['hits']"
   ]
  },
  {
   "cell_type": "code",
   "execution_count": null,
   "id": "6a926e87-2a60-4c6d-9184-bb999903c603",
   "metadata": {},
   "outputs": [],
   "source": []
  },
  {
   "cell_type": "code",
   "execution_count": null,
   "id": "222f5710-4e24-4122-84d6-67d895310300",
   "metadata": {},
   "outputs": [],
   "source": []
  }
 ],
 "metadata": {
  "kernelspec": {
   "display_name": "Python 3 (ipykernel)",
   "language": "python",
   "name": "python3"
  },
  "language_info": {
   "codemirror_mode": {
    "name": "ipython",
    "version": 3
   },
   "file_extension": ".py",
   "mimetype": "text/x-python",
   "name": "python",
   "nbconvert_exporter": "python",
   "pygments_lexer": "ipython3",
   "version": "3.9.0"
  }
 },
 "nbformat": 4,
 "nbformat_minor": 5
}
