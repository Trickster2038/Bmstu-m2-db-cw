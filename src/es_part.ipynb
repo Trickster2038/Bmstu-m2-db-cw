{
 "cells": [
  {
   "cell_type": "markdown",
   "id": "b8f370b3-392d-4923-a361-19fa51ca6a08",
   "metadata": {},
   "source": [
    "# ElasticSearch \n",
    "\n",
    "Image: https://hub.docker.com/r/bitnami/elasticsearch#!&_escaped_fragment_=\n",
    "\n",
    "Ports: 9200, 9201, 9300\n",
    "Mount: -v /path/to/elasticsearch-data-persistence:/bitnami/elasticsearch/data\n",
    "\n",
    "curl -XPUT -H \"Content-Type: application/json\" http://localhost:9200/_cluster/settings -d '{ \"transient\": { \"cluster.routing.allocation.disk.threshold_enabled\": false } }'\r\n",
    "\n",
    "curl -XPUT -H \"Content-Type: application/json\" http://localhost:9200/_all/_settings -d '{\"index.blocks.read_only_allow_delete\": null}\n",
    "\n",
    "\n",
    "http://localhost:9200/?pretty\n",
    "\n",
    "Array mapping: https://stackoverflow.com/questions/67581594/elasticsearch-mapping-for-array\n",
    "\n",
    "Habr guide: https://habr.com/ru/articles/280488/'"
   ]
  },
  {
   "cell_type": "markdown",
   "id": "e0e889a6-9a43-49b0-a5a4-1d00ae6e69b0",
   "metadata": {},
   "source": [
    "# Kibana\n",
    "\n",
    "Image: https://github.com/bitnami/containers/tree/main/bitnami/kibana\n",
    "\n",
    "\n",
    "docker network create kibana_network\n",
    "\n",
    "docker run -d -p 9200:9200 --name elasticsearch --net=kibana_network bitnami/elasticsearch\n",
    "\n",
    "docker run -d -p 5601:5601 --name kibana --net=kibana_network  -e KIBANA_ELASTICSEARCH_URL=elasticsearch   bitnami/kiba\n",
    "\n",
    "\n",
    "docker run -v /path/to/kibana-persistence:/bitnami/kibana bitnami/kibana:latest\n",
    "na"
   ]
  },
  {
   "cell_type": "markdown",
   "id": "c93b3b3a-f7f1-42d7-8184-35c2a2ce21dd",
   "metadata": {},
   "source": [
    "# Conatiners\n",
    "\n",
    "## elasticsearch\n",
    "\n",
    "```bash\n",
    "docker run -d -p 9200:9200 -v \"C:\\Users\\sergey.astakhov\\Desktop\\volumes\\elastic_search_volume\":/bitnami/elasticsearch/data --name elasticsearch --net=kibana_network bitnami/elasticsearch\n",
    "```\n",
    "\n",
    "## kibana\n",
    "\n",
    "```bash\n",
    "docker run -d -p 5601:5601 -v C:\\Users\\sergey.astakhov\\Desktop\\volumes\\kibana_volume:/bitnami/kibana --name kibana --net=kibana_network -e KIBANA_ELASTICSEARCH_URL=elasticsearch bitnami/kibana\n",
    "```"
   ]
  },
  {
   "cell_type": "markdown",
   "id": "c12a2735-b280-4922-871d-a9f9221a4313",
   "metadata": {},
   "source": [
    "All orders: http://localhost:9200/order/_search?pretty\n",
    "\n",
    "All masters: http://localhost:9200/master/_search?pretty\n",
    "\n",
    "Dashboard: http://localhost:5601/app/dashboards#/view/bdcf6af3-3542-4936-94fd-b0f04e3dcc86?_g=(filters:!(),refreshInterval:(pause:!t,value:60000),time:(from:'2023-12-15T00:00:00.000Z',to:'2024-02-21T00:00:00.000Z'))"
   ]
  },
  {
   "cell_type": "code",
   "execution_count": 156,
   "id": "27fcccd7-d453-4cf6-879b-cc8864068c32",
   "metadata": {},
   "outputs": [
    {
     "data": {
      "text/html": [
       "<iframe src=\"http://localhost:5601/app/dashboards#/view/bdcf6af3-3542-4936-94fd-b0f04e3dcc86?embed=true&_g=(refreshInterval:(pause:!t,value:60000),time:(from:'2023-12-15T00:00:00.000Z',to:'2024-02-21T00:00:00.000Z'))&_a=()\" height=\"600\" width=\"800\"></iframe>\n"
      ],
      "text/plain": [
       "<IPython.core.display.HTML object>"
      ]
     },
     "metadata": {},
     "output_type": "display_data"
    }
   ],
   "source": [
    "%%html\n",
    "<iframe src=\"http://localhost:5601/app/dashboards#/view/bdcf6af3-3542-4936-94fd-b0f04e3dcc86?embed=true&_g=(refreshInterval:(pause:!t,value:60000),time:(from:'2023-12-15T00:00:00.000Z',to:'2024-02-21T00:00:00.000Z'))&_a=()\" height=\"600\" width=\"800\"></iframe>"
   ]
  },
  {
   "cell_type": "code",
   "execution_count": 2,
   "id": "2e229e4c-1f51-4d23-9984-9f61ed2b4ff9",
   "metadata": {},
   "outputs": [],
   "source": [
    "import requests"
   ]
  },
  {
   "cell_type": "code",
   "execution_count": 3,
   "id": "459b4546-53df-4ffc-942c-812eb8fec996",
   "metadata": {},
   "outputs": [
    {
     "ename": "ConnectionError",
     "evalue": "HTTPConnectionPool(host='127.0.0.1', port=5601): Max retries exceeded with url: /api/kibana/dashboards/export?dashboard=bdcf6af3-3542-4936-94fd-b0f04e3dcc86 (Caused by NewConnectionError('<urllib3.connection.HTTPConnection object at 0x000001E762908B50>: Failed to establish a new connection: [WinError 10061] No connection could be made because the target machine actively refused it'))",
     "output_type": "error",
     "traceback": [
      "\u001b[1;31m---------------------------------------------------------------------------\u001b[0m",
      "\u001b[1;31mConnectionRefusedError\u001b[0m                    Traceback (most recent call last)",
      "File \u001b[1;32mc:\\users\\sergey.astakhov\\desktop\\bmstu-m2-db-cw\\venv\\lib\\site-packages\\urllib3\\connection.py:198\u001b[0m, in \u001b[0;36mHTTPConnection._new_conn\u001b[1;34m(self)\u001b[0m\n\u001b[0;32m    197\u001b[0m \u001b[38;5;28;01mtry\u001b[39;00m:\n\u001b[1;32m--> 198\u001b[0m     sock \u001b[38;5;241m=\u001b[39m \u001b[43mconnection\u001b[49m\u001b[38;5;241;43m.\u001b[39;49m\u001b[43mcreate_connection\u001b[49m\u001b[43m(\u001b[49m\n\u001b[0;32m    199\u001b[0m \u001b[43m        \u001b[49m\u001b[43m(\u001b[49m\u001b[38;5;28;43mself\u001b[39;49m\u001b[38;5;241;43m.\u001b[39;49m\u001b[43m_dns_host\u001b[49m\u001b[43m,\u001b[49m\u001b[43m \u001b[49m\u001b[38;5;28;43mself\u001b[39;49m\u001b[38;5;241;43m.\u001b[39;49m\u001b[43mport\u001b[49m\u001b[43m)\u001b[49m\u001b[43m,\u001b[49m\n\u001b[0;32m    200\u001b[0m \u001b[43m        \u001b[49m\u001b[38;5;28;43mself\u001b[39;49m\u001b[38;5;241;43m.\u001b[39;49m\u001b[43mtimeout\u001b[49m\u001b[43m,\u001b[49m\n\u001b[0;32m    201\u001b[0m \u001b[43m        \u001b[49m\u001b[43msource_address\u001b[49m\u001b[38;5;241;43m=\u001b[39;49m\u001b[38;5;28;43mself\u001b[39;49m\u001b[38;5;241;43m.\u001b[39;49m\u001b[43msource_address\u001b[49m\u001b[43m,\u001b[49m\n\u001b[0;32m    202\u001b[0m \u001b[43m        \u001b[49m\u001b[43msocket_options\u001b[49m\u001b[38;5;241;43m=\u001b[39;49m\u001b[38;5;28;43mself\u001b[39;49m\u001b[38;5;241;43m.\u001b[39;49m\u001b[43msocket_options\u001b[49m\u001b[43m,\u001b[49m\n\u001b[0;32m    203\u001b[0m \u001b[43m    \u001b[49m\u001b[43m)\u001b[49m\n\u001b[0;32m    204\u001b[0m \u001b[38;5;28;01mexcept\u001b[39;00m socket\u001b[38;5;241m.\u001b[39mgaierror \u001b[38;5;28;01mas\u001b[39;00m e:\n",
      "File \u001b[1;32mc:\\users\\sergey.astakhov\\desktop\\bmstu-m2-db-cw\\venv\\lib\\site-packages\\urllib3\\util\\connection.py:85\u001b[0m, in \u001b[0;36mcreate_connection\u001b[1;34m(address, timeout, source_address, socket_options)\u001b[0m\n\u001b[0;32m     84\u001b[0m \u001b[38;5;28;01mtry\u001b[39;00m:\n\u001b[1;32m---> 85\u001b[0m     \u001b[38;5;28;01mraise\u001b[39;00m err\n\u001b[0;32m     86\u001b[0m \u001b[38;5;28;01mfinally\u001b[39;00m:\n\u001b[0;32m     87\u001b[0m     \u001b[38;5;66;03m# Break explicitly a reference cycle\u001b[39;00m\n",
      "File \u001b[1;32mc:\\users\\sergey.astakhov\\desktop\\bmstu-m2-db-cw\\venv\\lib\\site-packages\\urllib3\\util\\connection.py:73\u001b[0m, in \u001b[0;36mcreate_connection\u001b[1;34m(address, timeout, source_address, socket_options)\u001b[0m\n\u001b[0;32m     72\u001b[0m     sock\u001b[38;5;241m.\u001b[39mbind(source_address)\n\u001b[1;32m---> 73\u001b[0m \u001b[43msock\u001b[49m\u001b[38;5;241;43m.\u001b[39;49m\u001b[43mconnect\u001b[49m\u001b[43m(\u001b[49m\u001b[43msa\u001b[49m\u001b[43m)\u001b[49m\n\u001b[0;32m     74\u001b[0m \u001b[38;5;66;03m# Break explicitly a reference cycle\u001b[39;00m\n",
      "\u001b[1;31mConnectionRefusedError\u001b[0m: [WinError 10061] No connection could be made because the target machine actively refused it",
      "\nThe above exception was the direct cause of the following exception:\n",
      "\u001b[1;31mNewConnectionError\u001b[0m                        Traceback (most recent call last)",
      "File \u001b[1;32mc:\\users\\sergey.astakhov\\desktop\\bmstu-m2-db-cw\\venv\\lib\\site-packages\\urllib3\\connectionpool.py:793\u001b[0m, in \u001b[0;36mHTTPConnectionPool.urlopen\u001b[1;34m(self, method, url, body, headers, retries, redirect, assert_same_host, timeout, pool_timeout, release_conn, chunked, body_pos, preload_content, decode_content, **response_kw)\u001b[0m\n\u001b[0;32m    792\u001b[0m \u001b[38;5;66;03m# Make the request on the HTTPConnection object\u001b[39;00m\n\u001b[1;32m--> 793\u001b[0m response \u001b[38;5;241m=\u001b[39m \u001b[38;5;28mself\u001b[39m\u001b[38;5;241m.\u001b[39m_make_request(\n\u001b[0;32m    794\u001b[0m     conn,\n\u001b[0;32m    795\u001b[0m     method,\n\u001b[0;32m    796\u001b[0m     url,\n\u001b[0;32m    797\u001b[0m     timeout\u001b[38;5;241m=\u001b[39mtimeout_obj,\n\u001b[0;32m    798\u001b[0m     body\u001b[38;5;241m=\u001b[39mbody,\n\u001b[0;32m    799\u001b[0m     headers\u001b[38;5;241m=\u001b[39mheaders,\n\u001b[0;32m    800\u001b[0m     chunked\u001b[38;5;241m=\u001b[39mchunked,\n\u001b[0;32m    801\u001b[0m     retries\u001b[38;5;241m=\u001b[39mretries,\n\u001b[0;32m    802\u001b[0m     response_conn\u001b[38;5;241m=\u001b[39mresponse_conn,\n\u001b[0;32m    803\u001b[0m     preload_content\u001b[38;5;241m=\u001b[39mpreload_content,\n\u001b[0;32m    804\u001b[0m     decode_content\u001b[38;5;241m=\u001b[39mdecode_content,\n\u001b[0;32m    805\u001b[0m     \u001b[38;5;241m*\u001b[39m\u001b[38;5;241m*\u001b[39mresponse_kw,\n\u001b[0;32m    806\u001b[0m )\n\u001b[0;32m    808\u001b[0m \u001b[38;5;66;03m# Everything went great!\u001b[39;00m\n",
      "File \u001b[1;32mc:\\users\\sergey.astakhov\\desktop\\bmstu-m2-db-cw\\venv\\lib\\site-packages\\urllib3\\connectionpool.py:496\u001b[0m, in \u001b[0;36mHTTPConnectionPool._make_request\u001b[1;34m(self, conn, method, url, body, headers, retries, timeout, chunked, response_conn, preload_content, decode_content, enforce_content_length)\u001b[0m\n\u001b[0;32m    495\u001b[0m \u001b[38;5;28;01mtry\u001b[39;00m:\n\u001b[1;32m--> 496\u001b[0m     \u001b[43mconn\u001b[49m\u001b[38;5;241;43m.\u001b[39;49m\u001b[43mrequest\u001b[49m\u001b[43m(\u001b[49m\n\u001b[0;32m    497\u001b[0m \u001b[43m        \u001b[49m\u001b[43mmethod\u001b[49m\u001b[43m,\u001b[49m\n\u001b[0;32m    498\u001b[0m \u001b[43m        \u001b[49m\u001b[43murl\u001b[49m\u001b[43m,\u001b[49m\n\u001b[0;32m    499\u001b[0m \u001b[43m        \u001b[49m\u001b[43mbody\u001b[49m\u001b[38;5;241;43m=\u001b[39;49m\u001b[43mbody\u001b[49m\u001b[43m,\u001b[49m\n\u001b[0;32m    500\u001b[0m \u001b[43m        \u001b[49m\u001b[43mheaders\u001b[49m\u001b[38;5;241;43m=\u001b[39;49m\u001b[43mheaders\u001b[49m\u001b[43m,\u001b[49m\n\u001b[0;32m    501\u001b[0m \u001b[43m        \u001b[49m\u001b[43mchunked\u001b[49m\u001b[38;5;241;43m=\u001b[39;49m\u001b[43mchunked\u001b[49m\u001b[43m,\u001b[49m\n\u001b[0;32m    502\u001b[0m \u001b[43m        \u001b[49m\u001b[43mpreload_content\u001b[49m\u001b[38;5;241;43m=\u001b[39;49m\u001b[43mpreload_content\u001b[49m\u001b[43m,\u001b[49m\n\u001b[0;32m    503\u001b[0m \u001b[43m        \u001b[49m\u001b[43mdecode_content\u001b[49m\u001b[38;5;241;43m=\u001b[39;49m\u001b[43mdecode_content\u001b[49m\u001b[43m,\u001b[49m\n\u001b[0;32m    504\u001b[0m \u001b[43m        \u001b[49m\u001b[43menforce_content_length\u001b[49m\u001b[38;5;241;43m=\u001b[39;49m\u001b[43menforce_content_length\u001b[49m\u001b[43m,\u001b[49m\n\u001b[0;32m    505\u001b[0m \u001b[43m    \u001b[49m\u001b[43m)\u001b[49m\n\u001b[0;32m    507\u001b[0m \u001b[38;5;66;03m# We are swallowing BrokenPipeError (errno.EPIPE) since the server is\u001b[39;00m\n\u001b[0;32m    508\u001b[0m \u001b[38;5;66;03m# legitimately able to close the connection after sending a valid response.\u001b[39;00m\n\u001b[0;32m    509\u001b[0m \u001b[38;5;66;03m# With this behaviour, the received response is still readable.\u001b[39;00m\n",
      "File \u001b[1;32mc:\\users\\sergey.astakhov\\desktop\\bmstu-m2-db-cw\\venv\\lib\\site-packages\\urllib3\\connection.py:400\u001b[0m, in \u001b[0;36mHTTPConnection.request\u001b[1;34m(self, method, url, body, headers, chunked, preload_content, decode_content, enforce_content_length)\u001b[0m\n\u001b[0;32m    399\u001b[0m     \u001b[38;5;28mself\u001b[39m\u001b[38;5;241m.\u001b[39mputheader(header, value)\n\u001b[1;32m--> 400\u001b[0m \u001b[38;5;28;43mself\u001b[39;49m\u001b[38;5;241;43m.\u001b[39;49m\u001b[43mendheaders\u001b[49m\u001b[43m(\u001b[49m\u001b[43m)\u001b[49m\n\u001b[0;32m    402\u001b[0m \u001b[38;5;66;03m# If we're given a body we start sending that in chunks.\u001b[39;00m\n",
      "File \u001b[1;32m~\\.pyenv\\pyenv-win\\versions\\3.9.0\\lib\\http\\client.py:1250\u001b[0m, in \u001b[0;36mHTTPConnection.endheaders\u001b[1;34m(self, message_body, encode_chunked)\u001b[0m\n\u001b[0;32m   1249\u001b[0m     \u001b[38;5;28;01mraise\u001b[39;00m CannotSendHeader()\n\u001b[1;32m-> 1250\u001b[0m \u001b[38;5;28;43mself\u001b[39;49m\u001b[38;5;241;43m.\u001b[39;49m\u001b[43m_send_output\u001b[49m\u001b[43m(\u001b[49m\u001b[43mmessage_body\u001b[49m\u001b[43m,\u001b[49m\u001b[43m \u001b[49m\u001b[43mencode_chunked\u001b[49m\u001b[38;5;241;43m=\u001b[39;49m\u001b[43mencode_chunked\u001b[49m\u001b[43m)\u001b[49m\n",
      "File \u001b[1;32m~\\.pyenv\\pyenv-win\\versions\\3.9.0\\lib\\http\\client.py:1010\u001b[0m, in \u001b[0;36mHTTPConnection._send_output\u001b[1;34m(self, message_body, encode_chunked)\u001b[0m\n\u001b[0;32m   1009\u001b[0m \u001b[38;5;28;01mdel\u001b[39;00m \u001b[38;5;28mself\u001b[39m\u001b[38;5;241m.\u001b[39m_buffer[:]\n\u001b[1;32m-> 1010\u001b[0m \u001b[38;5;28;43mself\u001b[39;49m\u001b[38;5;241;43m.\u001b[39;49m\u001b[43msend\u001b[49m\u001b[43m(\u001b[49m\u001b[43mmsg\u001b[49m\u001b[43m)\u001b[49m\n\u001b[0;32m   1012\u001b[0m \u001b[38;5;28;01mif\u001b[39;00m message_body \u001b[38;5;129;01mis\u001b[39;00m \u001b[38;5;129;01mnot\u001b[39;00m \u001b[38;5;28;01mNone\u001b[39;00m:\n\u001b[0;32m   1013\u001b[0m \n\u001b[0;32m   1014\u001b[0m     \u001b[38;5;66;03m# create a consistent interface to message_body\u001b[39;00m\n",
      "File \u001b[1;32m~\\.pyenv\\pyenv-win\\versions\\3.9.0\\lib\\http\\client.py:950\u001b[0m, in \u001b[0;36mHTTPConnection.send\u001b[1;34m(self, data)\u001b[0m\n\u001b[0;32m    949\u001b[0m \u001b[38;5;28;01mif\u001b[39;00m \u001b[38;5;28mself\u001b[39m\u001b[38;5;241m.\u001b[39mauto_open:\n\u001b[1;32m--> 950\u001b[0m     \u001b[38;5;28;43mself\u001b[39;49m\u001b[38;5;241;43m.\u001b[39;49m\u001b[43mconnect\u001b[49m\u001b[43m(\u001b[49m\u001b[43m)\u001b[49m\n\u001b[0;32m    951\u001b[0m \u001b[38;5;28;01melse\u001b[39;00m:\n",
      "File \u001b[1;32mc:\\users\\sergey.astakhov\\desktop\\bmstu-m2-db-cw\\venv\\lib\\site-packages\\urllib3\\connection.py:238\u001b[0m, in \u001b[0;36mHTTPConnection.connect\u001b[1;34m(self)\u001b[0m\n\u001b[0;32m    237\u001b[0m \u001b[38;5;28;01mdef\u001b[39;00m \u001b[38;5;21mconnect\u001b[39m(\u001b[38;5;28mself\u001b[39m) \u001b[38;5;241m-\u001b[39m\u001b[38;5;241m>\u001b[39m \u001b[38;5;28;01mNone\u001b[39;00m:\n\u001b[1;32m--> 238\u001b[0m     \u001b[38;5;28mself\u001b[39m\u001b[38;5;241m.\u001b[39msock \u001b[38;5;241m=\u001b[39m \u001b[38;5;28;43mself\u001b[39;49m\u001b[38;5;241;43m.\u001b[39;49m\u001b[43m_new_conn\u001b[49m\u001b[43m(\u001b[49m\u001b[43m)\u001b[49m\n\u001b[0;32m    239\u001b[0m     \u001b[38;5;28;01mif\u001b[39;00m \u001b[38;5;28mself\u001b[39m\u001b[38;5;241m.\u001b[39m_tunnel_host:\n\u001b[0;32m    240\u001b[0m         \u001b[38;5;66;03m# If we're tunneling it means we're connected to our proxy.\u001b[39;00m\n",
      "File \u001b[1;32mc:\\users\\sergey.astakhov\\desktop\\bmstu-m2-db-cw\\venv\\lib\\site-packages\\urllib3\\connection.py:213\u001b[0m, in \u001b[0;36mHTTPConnection._new_conn\u001b[1;34m(self)\u001b[0m\n\u001b[0;32m    212\u001b[0m \u001b[38;5;28;01mexcept\u001b[39;00m \u001b[38;5;167;01mOSError\u001b[39;00m \u001b[38;5;28;01mas\u001b[39;00m e:\n\u001b[1;32m--> 213\u001b[0m     \u001b[38;5;28;01mraise\u001b[39;00m NewConnectionError(\n\u001b[0;32m    214\u001b[0m         \u001b[38;5;28mself\u001b[39m, \u001b[38;5;124mf\u001b[39m\u001b[38;5;124m\"\u001b[39m\u001b[38;5;124mFailed to establish a new connection: \u001b[39m\u001b[38;5;132;01m{\u001b[39;00me\u001b[38;5;132;01m}\u001b[39;00m\u001b[38;5;124m\"\u001b[39m\n\u001b[0;32m    215\u001b[0m     ) \u001b[38;5;28;01mfrom\u001b[39;00m \u001b[38;5;21;01me\u001b[39;00m\n\u001b[0;32m    217\u001b[0m \u001b[38;5;66;03m# Audit hooks are only available in Python 3.8+\u001b[39;00m\n",
      "\u001b[1;31mNewConnectionError\u001b[0m: <urllib3.connection.HTTPConnection object at 0x000001E762908B50>: Failed to establish a new connection: [WinError 10061] No connection could be made because the target machine actively refused it",
      "\nThe above exception was the direct cause of the following exception:\n",
      "\u001b[1;31mMaxRetryError\u001b[0m                             Traceback (most recent call last)",
      "File \u001b[1;32mc:\\users\\sergey.astakhov\\desktop\\bmstu-m2-db-cw\\venv\\lib\\site-packages\\requests\\adapters.py:486\u001b[0m, in \u001b[0;36mHTTPAdapter.send\u001b[1;34m(self, request, stream, timeout, verify, cert, proxies)\u001b[0m\n\u001b[0;32m    485\u001b[0m \u001b[38;5;28;01mtry\u001b[39;00m:\n\u001b[1;32m--> 486\u001b[0m     resp \u001b[38;5;241m=\u001b[39m \u001b[43mconn\u001b[49m\u001b[38;5;241;43m.\u001b[39;49m\u001b[43murlopen\u001b[49m\u001b[43m(\u001b[49m\n\u001b[0;32m    487\u001b[0m \u001b[43m        \u001b[49m\u001b[43mmethod\u001b[49m\u001b[38;5;241;43m=\u001b[39;49m\u001b[43mrequest\u001b[49m\u001b[38;5;241;43m.\u001b[39;49m\u001b[43mmethod\u001b[49m\u001b[43m,\u001b[49m\n\u001b[0;32m    488\u001b[0m \u001b[43m        \u001b[49m\u001b[43murl\u001b[49m\u001b[38;5;241;43m=\u001b[39;49m\u001b[43murl\u001b[49m\u001b[43m,\u001b[49m\n\u001b[0;32m    489\u001b[0m \u001b[43m        \u001b[49m\u001b[43mbody\u001b[49m\u001b[38;5;241;43m=\u001b[39;49m\u001b[43mrequest\u001b[49m\u001b[38;5;241;43m.\u001b[39;49m\u001b[43mbody\u001b[49m\u001b[43m,\u001b[49m\n\u001b[0;32m    490\u001b[0m \u001b[43m        \u001b[49m\u001b[43mheaders\u001b[49m\u001b[38;5;241;43m=\u001b[39;49m\u001b[43mrequest\u001b[49m\u001b[38;5;241;43m.\u001b[39;49m\u001b[43mheaders\u001b[49m\u001b[43m,\u001b[49m\n\u001b[0;32m    491\u001b[0m \u001b[43m        \u001b[49m\u001b[43mredirect\u001b[49m\u001b[38;5;241;43m=\u001b[39;49m\u001b[38;5;28;43;01mFalse\u001b[39;49;00m\u001b[43m,\u001b[49m\n\u001b[0;32m    492\u001b[0m \u001b[43m        \u001b[49m\u001b[43massert_same_host\u001b[49m\u001b[38;5;241;43m=\u001b[39;49m\u001b[38;5;28;43;01mFalse\u001b[39;49;00m\u001b[43m,\u001b[49m\n\u001b[0;32m    493\u001b[0m \u001b[43m        \u001b[49m\u001b[43mpreload_content\u001b[49m\u001b[38;5;241;43m=\u001b[39;49m\u001b[38;5;28;43;01mFalse\u001b[39;49;00m\u001b[43m,\u001b[49m\n\u001b[0;32m    494\u001b[0m \u001b[43m        \u001b[49m\u001b[43mdecode_content\u001b[49m\u001b[38;5;241;43m=\u001b[39;49m\u001b[38;5;28;43;01mFalse\u001b[39;49;00m\u001b[43m,\u001b[49m\n\u001b[0;32m    495\u001b[0m \u001b[43m        \u001b[49m\u001b[43mretries\u001b[49m\u001b[38;5;241;43m=\u001b[39;49m\u001b[38;5;28;43mself\u001b[39;49m\u001b[38;5;241;43m.\u001b[39;49m\u001b[43mmax_retries\u001b[49m\u001b[43m,\u001b[49m\n\u001b[0;32m    496\u001b[0m \u001b[43m        \u001b[49m\u001b[43mtimeout\u001b[49m\u001b[38;5;241;43m=\u001b[39;49m\u001b[43mtimeout\u001b[49m\u001b[43m,\u001b[49m\n\u001b[0;32m    497\u001b[0m \u001b[43m        \u001b[49m\u001b[43mchunked\u001b[49m\u001b[38;5;241;43m=\u001b[39;49m\u001b[43mchunked\u001b[49m\u001b[43m,\u001b[49m\n\u001b[0;32m    498\u001b[0m \u001b[43m    \u001b[49m\u001b[43m)\u001b[49m\n\u001b[0;32m    500\u001b[0m \u001b[38;5;28;01mexcept\u001b[39;00m (ProtocolError, \u001b[38;5;167;01mOSError\u001b[39;00m) \u001b[38;5;28;01mas\u001b[39;00m err:\n",
      "File \u001b[1;32mc:\\users\\sergey.astakhov\\desktop\\bmstu-m2-db-cw\\venv\\lib\\site-packages\\urllib3\\connectionpool.py:847\u001b[0m, in \u001b[0;36mHTTPConnectionPool.urlopen\u001b[1;34m(self, method, url, body, headers, retries, redirect, assert_same_host, timeout, pool_timeout, release_conn, chunked, body_pos, preload_content, decode_content, **response_kw)\u001b[0m\n\u001b[0;32m    845\u001b[0m     new_e \u001b[38;5;241m=\u001b[39m ProtocolError(\u001b[38;5;124m\"\u001b[39m\u001b[38;5;124mConnection aborted.\u001b[39m\u001b[38;5;124m\"\u001b[39m, new_e)\n\u001b[1;32m--> 847\u001b[0m retries \u001b[38;5;241m=\u001b[39m \u001b[43mretries\u001b[49m\u001b[38;5;241;43m.\u001b[39;49m\u001b[43mincrement\u001b[49m\u001b[43m(\u001b[49m\n\u001b[0;32m    848\u001b[0m \u001b[43m    \u001b[49m\u001b[43mmethod\u001b[49m\u001b[43m,\u001b[49m\u001b[43m \u001b[49m\u001b[43murl\u001b[49m\u001b[43m,\u001b[49m\u001b[43m \u001b[49m\u001b[43merror\u001b[49m\u001b[38;5;241;43m=\u001b[39;49m\u001b[43mnew_e\u001b[49m\u001b[43m,\u001b[49m\u001b[43m \u001b[49m\u001b[43m_pool\u001b[49m\u001b[38;5;241;43m=\u001b[39;49m\u001b[38;5;28;43mself\u001b[39;49m\u001b[43m,\u001b[49m\u001b[43m \u001b[49m\u001b[43m_stacktrace\u001b[49m\u001b[38;5;241;43m=\u001b[39;49m\u001b[43msys\u001b[49m\u001b[38;5;241;43m.\u001b[39;49m\u001b[43mexc_info\u001b[49m\u001b[43m(\u001b[49m\u001b[43m)\u001b[49m\u001b[43m[\u001b[49m\u001b[38;5;241;43m2\u001b[39;49m\u001b[43m]\u001b[49m\n\u001b[0;32m    849\u001b[0m \u001b[43m\u001b[49m\u001b[43m)\u001b[49m\n\u001b[0;32m    850\u001b[0m retries\u001b[38;5;241m.\u001b[39msleep()\n",
      "File \u001b[1;32mc:\\users\\sergey.astakhov\\desktop\\bmstu-m2-db-cw\\venv\\lib\\site-packages\\urllib3\\util\\retry.py:515\u001b[0m, in \u001b[0;36mRetry.increment\u001b[1;34m(self, method, url, response, error, _pool, _stacktrace)\u001b[0m\n\u001b[0;32m    514\u001b[0m     reason \u001b[38;5;241m=\u001b[39m error \u001b[38;5;129;01mor\u001b[39;00m ResponseError(cause)\n\u001b[1;32m--> 515\u001b[0m     \u001b[38;5;28;01mraise\u001b[39;00m MaxRetryError(_pool, url, reason) \u001b[38;5;28;01mfrom\u001b[39;00m \u001b[38;5;21;01mreason\u001b[39;00m  \u001b[38;5;66;03m# type: ignore[arg-type]\u001b[39;00m\n\u001b[0;32m    517\u001b[0m log\u001b[38;5;241m.\u001b[39mdebug(\u001b[38;5;124m\"\u001b[39m\u001b[38;5;124mIncremented Retry for (url=\u001b[39m\u001b[38;5;124m'\u001b[39m\u001b[38;5;132;01m%s\u001b[39;00m\u001b[38;5;124m'\u001b[39m\u001b[38;5;124m): \u001b[39m\u001b[38;5;132;01m%r\u001b[39;00m\u001b[38;5;124m\"\u001b[39m, url, new_retry)\n",
      "\u001b[1;31mMaxRetryError\u001b[0m: HTTPConnectionPool(host='127.0.0.1', port=5601): Max retries exceeded with url: /api/kibana/dashboards/export?dashboard=bdcf6af3-3542-4936-94fd-b0f04e3dcc86 (Caused by NewConnectionError('<urllib3.connection.HTTPConnection object at 0x000001E762908B50>: Failed to establish a new connection: [WinError 10061] No connection could be made because the target machine actively refused it'))",
      "\nDuring handling of the above exception, another exception occurred:\n",
      "\u001b[1;31mConnectionError\u001b[0m                           Traceback (most recent call last)",
      "Cell \u001b[1;32mIn[3], line 1\u001b[0m\n\u001b[1;32m----> 1\u001b[0m r \u001b[38;5;241m=\u001b[39m \u001b[43mrequests\u001b[49m\u001b[38;5;241;43m.\u001b[39;49m\u001b[43mget\u001b[49m\u001b[43m(\u001b[49m\u001b[38;5;124;43m'\u001b[39;49m\u001b[38;5;124;43mhttp://127.0.0.1:5601/api/kibana/dashboards/export?dashboard=bdcf6af3-3542-4936-94fd-b0f04e3dcc86\u001b[39;49m\u001b[38;5;124;43m'\u001b[39;49m\u001b[43m)\u001b[49m\n",
      "File \u001b[1;32mc:\\users\\sergey.astakhov\\desktop\\bmstu-m2-db-cw\\venv\\lib\\site-packages\\requests\\api.py:73\u001b[0m, in \u001b[0;36mget\u001b[1;34m(url, params, **kwargs)\u001b[0m\n\u001b[0;32m     62\u001b[0m \u001b[38;5;28;01mdef\u001b[39;00m \u001b[38;5;21mget\u001b[39m(url, params\u001b[38;5;241m=\u001b[39m\u001b[38;5;28;01mNone\u001b[39;00m, \u001b[38;5;241m*\u001b[39m\u001b[38;5;241m*\u001b[39mkwargs):\n\u001b[0;32m     63\u001b[0m \u001b[38;5;250m    \u001b[39m\u001b[38;5;124mr\u001b[39m\u001b[38;5;124;03m\"\"\"Sends a GET request.\u001b[39;00m\n\u001b[0;32m     64\u001b[0m \n\u001b[0;32m     65\u001b[0m \u001b[38;5;124;03m    :param url: URL for the new :class:`Request` object.\u001b[39;00m\n\u001b[1;32m   (...)\u001b[0m\n\u001b[0;32m     70\u001b[0m \u001b[38;5;124;03m    :rtype: requests.Response\u001b[39;00m\n\u001b[0;32m     71\u001b[0m \u001b[38;5;124;03m    \"\"\"\u001b[39;00m\n\u001b[1;32m---> 73\u001b[0m     \u001b[38;5;28;01mreturn\u001b[39;00m request(\u001b[38;5;124m\"\u001b[39m\u001b[38;5;124mget\u001b[39m\u001b[38;5;124m\"\u001b[39m, url, params\u001b[38;5;241m=\u001b[39mparams, \u001b[38;5;241m*\u001b[39m\u001b[38;5;241m*\u001b[39mkwargs)\n",
      "File \u001b[1;32mc:\\users\\sergey.astakhov\\desktop\\bmstu-m2-db-cw\\venv\\lib\\site-packages\\requests\\api.py:59\u001b[0m, in \u001b[0;36mrequest\u001b[1;34m(method, url, **kwargs)\u001b[0m\n\u001b[0;32m     55\u001b[0m \u001b[38;5;66;03m# By using the 'with' statement we are sure the session is closed, thus we\u001b[39;00m\n\u001b[0;32m     56\u001b[0m \u001b[38;5;66;03m# avoid leaving sockets open which can trigger a ResourceWarning in some\u001b[39;00m\n\u001b[0;32m     57\u001b[0m \u001b[38;5;66;03m# cases, and look like a memory leak in others.\u001b[39;00m\n\u001b[0;32m     58\u001b[0m \u001b[38;5;28;01mwith\u001b[39;00m sessions\u001b[38;5;241m.\u001b[39mSession() \u001b[38;5;28;01mas\u001b[39;00m session:\n\u001b[1;32m---> 59\u001b[0m     \u001b[38;5;28;01mreturn\u001b[39;00m session\u001b[38;5;241m.\u001b[39mrequest(method\u001b[38;5;241m=\u001b[39mmethod, url\u001b[38;5;241m=\u001b[39murl, \u001b[38;5;241m*\u001b[39m\u001b[38;5;241m*\u001b[39mkwargs)\n",
      "File \u001b[1;32mc:\\users\\sergey.astakhov\\desktop\\bmstu-m2-db-cw\\venv\\lib\\site-packages\\requests\\sessions.py:589\u001b[0m, in \u001b[0;36mSession.request\u001b[1;34m(self, method, url, params, data, headers, cookies, files, auth, timeout, allow_redirects, proxies, hooks, stream, verify, cert, json)\u001b[0m\n\u001b[0;32m    584\u001b[0m send_kwargs \u001b[38;5;241m=\u001b[39m {\n\u001b[0;32m    585\u001b[0m     \u001b[38;5;124m\"\u001b[39m\u001b[38;5;124mtimeout\u001b[39m\u001b[38;5;124m\"\u001b[39m: timeout,\n\u001b[0;32m    586\u001b[0m     \u001b[38;5;124m\"\u001b[39m\u001b[38;5;124mallow_redirects\u001b[39m\u001b[38;5;124m\"\u001b[39m: allow_redirects,\n\u001b[0;32m    587\u001b[0m }\n\u001b[0;32m    588\u001b[0m send_kwargs\u001b[38;5;241m.\u001b[39mupdate(settings)\n\u001b[1;32m--> 589\u001b[0m resp \u001b[38;5;241m=\u001b[39m \u001b[38;5;28mself\u001b[39m\u001b[38;5;241m.\u001b[39msend(prep, \u001b[38;5;241m*\u001b[39m\u001b[38;5;241m*\u001b[39msend_kwargs)\n\u001b[0;32m    591\u001b[0m \u001b[38;5;28;01mreturn\u001b[39;00m resp\n",
      "File \u001b[1;32mc:\\users\\sergey.astakhov\\desktop\\bmstu-m2-db-cw\\venv\\lib\\site-packages\\requests\\sessions.py:703\u001b[0m, in \u001b[0;36mSession.send\u001b[1;34m(self, request, **kwargs)\u001b[0m\n\u001b[0;32m    700\u001b[0m start \u001b[38;5;241m=\u001b[39m preferred_clock()\n\u001b[0;32m    702\u001b[0m \u001b[38;5;66;03m# Send the request\u001b[39;00m\n\u001b[1;32m--> 703\u001b[0m r \u001b[38;5;241m=\u001b[39m adapter\u001b[38;5;241m.\u001b[39msend(request, \u001b[38;5;241m*\u001b[39m\u001b[38;5;241m*\u001b[39mkwargs)\n\u001b[0;32m    705\u001b[0m \u001b[38;5;66;03m# Total elapsed time of the request (approximately)\u001b[39;00m\n\u001b[0;32m    706\u001b[0m elapsed \u001b[38;5;241m=\u001b[39m preferred_clock() \u001b[38;5;241m-\u001b[39m start\n",
      "File \u001b[1;32mc:\\users\\sergey.astakhov\\desktop\\bmstu-m2-db-cw\\venv\\lib\\site-packages\\requests\\adapters.py:519\u001b[0m, in \u001b[0;36mHTTPAdapter.send\u001b[1;34m(self, request, stream, timeout, verify, cert, proxies)\u001b[0m\n\u001b[0;32m    515\u001b[0m     \u001b[38;5;28;01mif\u001b[39;00m \u001b[38;5;28misinstance\u001b[39m(e\u001b[38;5;241m.\u001b[39mreason, _SSLError):\n\u001b[0;32m    516\u001b[0m         \u001b[38;5;66;03m# This branch is for urllib3 v1.22 and later.\u001b[39;00m\n\u001b[0;32m    517\u001b[0m         \u001b[38;5;28;01mraise\u001b[39;00m SSLError(e, request\u001b[38;5;241m=\u001b[39mrequest)\n\u001b[1;32m--> 519\u001b[0m     \u001b[38;5;28;01mraise\u001b[39;00m \u001b[38;5;167;01mConnectionError\u001b[39;00m(e, request\u001b[38;5;241m=\u001b[39mrequest)\n\u001b[0;32m    521\u001b[0m \u001b[38;5;28;01mexcept\u001b[39;00m ClosedPoolError \u001b[38;5;28;01mas\u001b[39;00m e:\n\u001b[0;32m    522\u001b[0m     \u001b[38;5;28;01mraise\u001b[39;00m \u001b[38;5;167;01mConnectionError\u001b[39;00m(e, request\u001b[38;5;241m=\u001b[39mrequest)\n",
      "\u001b[1;31mConnectionError\u001b[0m: HTTPConnectionPool(host='127.0.0.1', port=5601): Max retries exceeded with url: /api/kibana/dashboards/export?dashboard=bdcf6af3-3542-4936-94fd-b0f04e3dcc86 (Caused by NewConnectionError('<urllib3.connection.HTTPConnection object at 0x000001E762908B50>: Failed to establish a new connection: [WinError 10061] No connection could be made because the target machine actively refused it'))"
     ]
    }
   ],
   "source": [
    "r = requests.get('http://127.0.0.1:5601/api/kibana/dashboards/export?dashboard=bdcf6af3-3542-4936-94fd-b0f04e3dcc86')"
   ]
  },
  {
   "cell_type": "code",
   "execution_count": 164,
   "id": "eaab22b6-81e8-41c6-89d8-195c51e15e04",
   "metadata": {},
   "outputs": [],
   "source": [
    "import json\n",
    "with open('../dashboard.json', 'w') as fp:\n",
    "    json.dump(r.json(), fp)"
   ]
  },
  {
   "cell_type": "code",
   "execution_count": 4,
   "id": "71bb2752-107c-46ce-84d9-3ee0011ddad9",
   "metadata": {},
   "outputs": [],
   "source": [
    "r = requests.put('http://localhost:9200/_cluster/settings', json={ \"transient\": { \"cluster.routing.allocation.disk.threshold_enabled\": False } })"
   ]
  },
  {
   "cell_type": "code",
   "execution_count": 5,
   "id": "2699974c-b0bc-4c62-8553-0363eca4f6fe",
   "metadata": {},
   "outputs": [
    {
     "data": {
      "text/plain": [
       "{'acknowledged': True,\n",
       " 'persistent': {},\n",
       " 'transient': {'cluster': {'routing': {'allocation': {'disk': {'threshold_enabled': 'false'}}}}}}"
      ]
     },
     "execution_count": 5,
     "metadata": {},
     "output_type": "execute_result"
    }
   ],
   "source": [
    "r.json()"
   ]
  },
  {
   "cell_type": "code",
   "execution_count": 6,
   "id": "d71c7012-3f15-4e09-9a36-e15286cfa82b",
   "metadata": {},
   "outputs": [],
   "source": [
    "r = requests.put('http://localhost:9200/_all/_settings', json={\"index.blocks.read_only_allow_delete\": None})"
   ]
  },
  {
   "cell_type": "code",
   "execution_count": 7,
   "id": "c91a2160-d30e-47e9-8488-a5aa1dd63c3b",
   "metadata": {},
   "outputs": [
    {
     "data": {
      "text/plain": [
       "{'acknowledged': True}"
      ]
     },
     "execution_count": 7,
     "metadata": {},
     "output_type": "execute_result"
    }
   ],
   "source": [
    "r.json()"
   ]
  },
  {
   "cell_type": "code",
   "execution_count": null,
   "id": "5fc39aa9-71ff-45e1-bf85-648d8eb417c0",
   "metadata": {},
   "outputs": [],
   "source": []
  },
  {
   "cell_type": "code",
   "execution_count": 8,
   "id": "d3e6820f-5bb7-452d-b7de-7056fb366d19",
   "metadata": {},
   "outputs": [],
   "source": [
    "import json\n",
    "from elasticsearch import Elasticsearch"
   ]
  },
  {
   "cell_type": "code",
   "execution_count": 9,
   "id": "cc6378f1-1a20-4cdb-8927-a7e394486fb0",
   "metadata": {},
   "outputs": [
    {
     "data": {
      "text/plain": [
       "True"
      ]
     },
     "execution_count": 9,
     "metadata": {},
     "output_type": "execute_result"
    }
   ],
   "source": [
    "client = Elasticsearch([{\"host\": \"127.0.0.1\", \"scheme\": \"http\", \"port\": 9200}])\n",
    "\n",
    "client.ping()"
   ]
  },
  {
   "cell_type": "markdown",
   "id": "9cb9883a-3b6e-4b8a-8135-3023a0c9f706",
   "metadata": {},
   "source": [
    "# Index 1 - orders"
   ]
  },
  {
   "cell_type": "code",
   "execution_count": 166,
   "id": "7af31192-b442-4743-ba6f-abb85f060f44",
   "metadata": {},
   "outputs": [
    {
     "data": {
      "text/plain": [
       "ObjectApiResponse({'acknowledged': True})"
      ]
     },
     "execution_count": 166,
     "metadata": {},
     "output_type": "execute_result"
    }
   ],
   "source": [
    "indexName = \"order\"\n",
    "client.indices.delete(index=indexName)\n",
    "# client.indices.create(index=indexName)"
   ]
  },
  {
   "cell_type": "code",
   "execution_count": 167,
   "id": "6bdb00b5-1281-4e19-9195-0b1bf352df5f",
   "metadata": {},
   "outputs": [],
   "source": [
    "analyzer_settings = {\n",
    "  \"settings\": {\n",
    "    \"analysis\": {\n",
    "      \"filter\": {\n",
    "        \"ru_stop\": {\n",
    "          \"type\": \"stop\",\n",
    "          \"stopwords\": \"_russian_\"\n",
    "        },\n",
    "        \"ru_stemmer\": {\n",
    "          \"type\": \"stemmer\",\n",
    "          \"language\": \"russian\"\n",
    "        }\n",
    "      },\n",
    "      \"analyzer\": {\n",
    "        \"custom_analyzer\": {\n",
    "          \"type\": \"custom\",\n",
    "          \"tokenizer\": \"standard\",\n",
    "          \"filter\": [\n",
    "            \"lowercase\",\n",
    "            \"ru_stop\",\n",
    "            \"ru_stemmer\"\n",
    "          ]\n",
    "        }\n",
    "      }\n",
    "    }\n",
    "  }\n",
    "}"
   ]
  },
  {
   "cell_type": "code",
   "execution_count": 168,
   "id": "7d91f528-ae98-4681-9489-a18ef7c38298",
   "metadata": {},
   "outputs": [
    {
     "data": {
      "text/plain": [
       "ObjectApiResponse({'acknowledged': True, 'shards_acknowledged': True, 'index': 'order'})"
      ]
     },
     "execution_count": 168,
     "metadata": {},
     "output_type": "execute_result"
    }
   ],
   "source": [
    "mappings_order = {\n",
    "\"mappings\" : {\n",
    "  \"properties\" : {\n",
    "    \"order_customer_desc\" : {\n",
    "      \"type\" : \"text\",\n",
    "      \"analyzer\": \"custom_analyzer\"\n",
    "    },\n",
    "    \"order_customer_id\" : {\n",
    "      \"type\" : \"long\"\n",
    "    },\n",
    "    \"order_date\" : {\n",
    "      \"type\" : \"date\"\n",
    "    },\n",
    "    \"order_details_desc\" : {\n",
    "      \"type\" : \"text\",\n",
    "      \"analyzer\": \"custom_analyzer\"\n",
    "    },\n",
    "    \"order_due_date\" : {\n",
    "      \"type\" : \"date\"\n",
    "    },\n",
    "    \"order_fact_completion_date\" : {\n",
    "      \"type\" : \"date\"\n",
    "    },\n",
    "    \"order_id\" : {\n",
    "      \"type\" : \"long\"\n",
    "    },\n",
    "    \"order_master_id\" : {\n",
    "      \"type\" : \"long\"\n",
    "    },\n",
    "    \"order_parts\" : {\n",
    "      \"type\" : \"text\",\n",
    "      \"fields\" : {\n",
    "        \"keyword\" : {\n",
    "          \"type\" : \"keyword\"\n",
    "        }\n",
    "      }\n",
    "    },\n",
    "    \"order_price\" : {\n",
    "      \"type\" : \"float\"\n",
    "    },\n",
    "    \"repair_types\" : {\n",
    "      \"type\" : \"text\",\n",
    "      \"fields\" : {\n",
    "        \"keyword\" : {\n",
    "          \"type\" : \"keyword\"\n",
    "        }\n",
    "      }\n",
    "    }\n",
    "  }\n",
    "}\n",
    "}\n",
    "\n",
    "\n",
    "client.indices.create(index=indexName, \n",
    "                            # doc_type=\"diseases\", \n",
    "                           # include_type_name=\"true\", \n",
    "                           body={**analyzer_settings\n",
    "                                 , **mappings_order\n",
    "                                }\n",
    "                          )"
   ]
  },
  {
   "cell_type": "code",
   "execution_count": 169,
   "id": "47749078-1564-415e-95f4-20c5f09c92da",
   "metadata": {},
   "outputs": [
    {
     "name": "stdout",
     "output_type": "stream",
     "text": [
      "index 'order' data inserted\n"
     ]
    }
   ],
   "source": [
    "with open('../orders.json', 'r') as f:\n",
    "    dataStore = json.load(f)\n",
    "\n",
    "for data in dataStore:\n",
    "    try:\n",
    "        client.index(\n",
    "            index=data[\"index\"],\n",
    "            # doc_type=data[\"doc_type\"],\n",
    "            id=data[\"id\"],\n",
    "            body=data[\"body\"]\n",
    "        )\n",
    "    except Exception as e:\n",
    "        print(e, end=\"\")\n",
    "print(\"index 'order' data inserted\")"
   ]
  },
  {
   "cell_type": "markdown",
   "id": "73e2d1bf-1953-40f6-a58f-ff2abb707178",
   "metadata": {},
   "source": [
    "# Query 1 - orders"
   ]
  },
  {
   "cell_type": "code",
   "execution_count": 145,
   "id": "a78ea2c3-c59c-4f59-ad81-50f880af476f",
   "metadata": {},
   "outputs": [],
   "source": [
    "indexName = \"order\"\n",
    "searchSize = 9999\n",
    "\n",
    "searchBody = {\n",
    "  \"size\": searchSize,\n",
    "  # \"query\" : {\n",
    "  #   \"match_all\" : {}\n",
    "  # }\n",
    "  \"_source\": True,\n",
    "  # \"query\": {},\n",
    "  \"aggs\": {\n",
    "    \"over_months\": {\n",
    "      \"date_histogram\": {\n",
    "        \"field\": \"order_date\",\n",
    "        \"calendar_interval\": \"month\",\n",
    "        \"format\": \"yyyy-MM-dd\" # control the output format\n",
    "      },\n",
    "        \"aggs\":{\n",
    "            \"over_parts\": {\n",
    "              \"terms\": {\n",
    "                \"field\": \"order_parts.keyword\"\n",
    "                # \"fielddata\": True\n",
    "              },\n",
    "            }\n",
    "        }\n",
    "    }\n",
    "  }\n",
    "}\n",
    "\n",
    "result = client.search(index=indexName, body=searchBody)"
   ]
  },
  {
   "cell_type": "code",
   "execution_count": 146,
   "id": "4e90696f-eb74-4ad4-a247-3579f6734414",
   "metadata": {},
   "outputs": [],
   "source": [
    "# result"
   ]
  },
  {
   "cell_type": "code",
   "execution_count": 147,
   "id": "4365eae8-a97f-49c2-a6fc-370cea8a00eb",
   "metadata": {},
   "outputs": [
    {
     "data": {
      "text/plain": [
       "[{'key_as_string': '2023-12-01',\n",
       "  'key': 1701388800000,\n",
       "  'doc_count': 20,\n",
       "  'over_parts': {'doc_count_error_upper_bound': 0,\n",
       "   'sum_other_doc_count': 0,\n",
       "   'buckets': [{'key': 'аккумулятор', 'doc_count': 9},\n",
       "    {'key': 'дисплей', 'doc_count': 8},\n",
       "    {'key': 'корпус', 'doc_count': 8},\n",
       "    {'key': 'usb-разъем', 'doc_count': 6}]}},\n",
       " {'key_as_string': '2024-01-01',\n",
       "  'key': 1704067200000,\n",
       "  'doc_count': 42,\n",
       "  'over_parts': {'doc_count_error_upper_bound': 0,\n",
       "   'sum_other_doc_count': 0,\n",
       "   'buckets': [{'key': 'usb-разъем', 'doc_count': 18},\n",
       "    {'key': 'аккумулятор', 'doc_count': 17},\n",
       "    {'key': 'корпус', 'doc_count': 17},\n",
       "    {'key': 'дисплей', 'doc_count': 15}]}},\n",
       " {'key_as_string': '2024-02-01',\n",
       "  'key': 1706745600000,\n",
       "  'doc_count': 38,\n",
       "  'over_parts': {'doc_count_error_upper_bound': 0,\n",
       "   'sum_other_doc_count': 0,\n",
       "   'buckets': [{'key': 'дисплей', 'doc_count': 19},\n",
       "    {'key': 'аккумулятор', 'doc_count': 18},\n",
       "    {'key': 'корпус', 'doc_count': 18},\n",
       "    {'key': 'usb-разъем', 'doc_count': 11}]}}]"
      ]
     },
     "execution_count": 147,
     "metadata": {},
     "output_type": "execute_result"
    }
   ],
   "source": [
    "result['aggregations']['over_months']['buckets']"
   ]
  },
  {
   "cell_type": "code",
   "execution_count": 148,
   "id": "53679392-f83b-4d4c-84f4-9561826ce201",
   "metadata": {},
   "outputs": [],
   "source": [
    "# result['hits']"
   ]
  },
  {
   "cell_type": "markdown",
   "id": "fdc6c680-36d0-4524-8c27-13138a20316d",
   "metadata": {},
   "source": [
    "# Index 2 - masters"
   ]
  },
  {
   "cell_type": "code",
   "execution_count": 149,
   "id": "e93f44d3-17eb-4958-a6f1-5952c9f3f28b",
   "metadata": {},
   "outputs": [
    {
     "data": {
      "text/plain": [
       "ObjectApiResponse({'acknowledged': True})"
      ]
     },
     "execution_count": 149,
     "metadata": {},
     "output_type": "execute_result"
    }
   ],
   "source": [
    "indexName = \"master\"\n",
    "client.indices.delete(index=indexName)\n",
    "# client.indices.create(index=indexName)"
   ]
  },
  {
   "cell_type": "code",
   "execution_count": 150,
   "id": "2a377895-7a81-4ee8-932c-29e0cdb0c3a6",
   "metadata": {},
   "outputs": [
    {
     "data": {
      "text/plain": [
       "ObjectApiResponse({'acknowledged': True, 'shards_acknowledged': True, 'index': 'master'})"
      ]
     },
     "execution_count": 150,
     "metadata": {},
     "output_type": "execute_result"
    }
   ],
   "source": [
    "mappings_master = {\n",
    "\"mappings\" : {\n",
    "      \"properties\" : {\n",
    "        \"master_desc\" : {\n",
    "          \"type\" : \"text\",\n",
    "          \"analyzer\": \"custom_analyzer\"\n",
    "        },\n",
    "        \"master_feedbacks\" : {\n",
    "          \"type\" : \"text\",\n",
    "          \"fields\" : {\n",
    "            \"keyword\" : {\n",
    "              \"type\" : \"keyword\"\n",
    "            }\n",
    "          }\n",
    "        },\n",
    "        \"master_id\" : {\n",
    "          \"type\" : \"long\"\n",
    "        }\n",
    "      }\n",
    "}\n",
    "}\n",
    "\n",
    "client.indices.create(index=indexName, \n",
    "                            # doc_type=\"diseases\", \n",
    "                           # include_type_name=\"true\", \n",
    "                           body={**analyzer_settings\n",
    "                                 , **mappings_master\n",
    "                                }\n",
    "                          )"
   ]
  },
  {
   "cell_type": "code",
   "execution_count": 151,
   "id": "a125df34-41a5-491d-bcee-badef13dfee0",
   "metadata": {},
   "outputs": [
    {
     "name": "stdout",
     "output_type": "stream",
     "text": [
      "index 'master' data inserted\n"
     ]
    }
   ],
   "source": [
    "with open('../masters.json', 'r') as f:\n",
    "    dataStore = json.load(f)\n",
    "\n",
    "for data in dataStore:\n",
    "    try:\n",
    "        client.index(\n",
    "            index=data[\"index\"],\n",
    "            # doc_type=data[\"doc_type\"],\n",
    "            id=data[\"id\"],\n",
    "            body=data[\"body\"]\n",
    "        )\n",
    "    except Exception as e:\n",
    "        print(e, end=\"\")\n",
    "print(\"index 'master' data inserted\")"
   ]
  },
  {
   "cell_type": "markdown",
   "id": "1118b9f7-91bc-4575-a767-2bffe6ae0358",
   "metadata": {},
   "source": [
    "# Query 2 - masters"
   ]
  },
  {
   "cell_type": "code",
   "execution_count": 152,
   "id": "f2023953-ef62-4de6-b70f-89ac3cbaf620",
   "metadata": {},
   "outputs": [],
   "source": [
    "indexName = \"master\"\n",
    "searchFrom = 0\n",
    "searchSize = 5\n",
    "\n",
    "searchBody = {\n",
    "  \"_source\": True, #[\"master_desc\"], # True - all data\n",
    "  \"query\": {\n",
    "    \"match\": {\n",
    "      \"master_desc\": \"стаж\"\n",
    "    }\n",
    "  },\n",
    "  \"size\": searchSize\n",
    "}\n",
    "\n",
    "result = client.search(index=indexName, body=searchBody)"
   ]
  },
  {
   "cell_type": "code",
   "execution_count": 153,
   "id": "e61ece56-d367-4cb8-8b47-fe767a2c85e1",
   "metadata": {},
   "outputs": [],
   "source": [
    "# result"
   ]
  },
  {
   "cell_type": "code",
   "execution_count": 154,
   "id": "5f4d8662-958a-4783-be6c-9bb50976a1ad",
   "metadata": {},
   "outputs": [
    {
     "data": {
      "text/plain": [
       "{'total': {'value': 12, 'relation': 'eq'},\n",
       " 'max_score': 0.49623758,\n",
       " 'hits': [{'_index': 'master',\n",
       "   '_id': '618529',\n",
       "   '_score': 0.49623758,\n",
       "   '_source': {'master_id': 618529,\n",
       "    'master_desc': 'Аполлон Харитонович Афанасьев, Стаж Работы: 5 Л./Г..',\n",
       "    'master_feedbacks': ['медлительный, аккуратный.',\n",
       "     'ворчливый, медлительный.']}},\n",
       "  {'_index': 'master',\n",
       "   '_id': '791839',\n",
       "   '_score': 0.49623758,\n",
       "   '_source': {'master_id': 791839,\n",
       "    'master_desc': 'Август Дорофеевич Кошелев, Стаж Работы: 11 Л./Г..',\n",
       "    'master_feedbacks': ['медлительный, ворчливый.']}},\n",
       "  {'_index': 'master',\n",
       "   '_id': '96520',\n",
       "   '_score': 0.49623758,\n",
       "   '_source': {'master_id': 96520,\n",
       "    'master_desc': 'Давыдова Александра Харитоновна, Стаж Работы: 12 Л./Г..',\n",
       "    'master_feedbacks': ['аккуратный, медлительный.',\n",
       "     'медлительный, аккуратный.',\n",
       "     'ворчливый, медлительный.']}},\n",
       "  {'_index': 'master',\n",
       "   '_id': '377918',\n",
       "   '_score': 0.49623758,\n",
       "   '_source': {'master_id': 377918,\n",
       "    'master_desc': 'Дьячков Евстигней Гаврилович, Стаж Работы: 15 Л./Г..',\n",
       "    'master_feedbacks': ['ворчливый, аккуратный.']}},\n",
       "  {'_index': 'master',\n",
       "   '_id': '185439',\n",
       "   '_score': 0.49623758,\n",
       "   '_source': {'master_id': 185439,\n",
       "    'master_desc': 'Никонова Нинель Болеславовна, Стаж Работы: 13 Л./Г..',\n",
       "    'master_feedbacks': ['медлительный, ворчливый.',\n",
       "     'ворчливый, медлительный.',\n",
       "     'медлительный, ворчливый.']}}]}"
      ]
     },
     "execution_count": 154,
     "metadata": {},
     "output_type": "execute_result"
    }
   ],
   "source": [
    "result['hits']"
   ]
  },
  {
   "cell_type": "code",
   "execution_count": null,
   "id": "6a926e87-2a60-4c6d-9184-bb999903c603",
   "metadata": {},
   "outputs": [],
   "source": []
  },
  {
   "cell_type": "code",
   "execution_count": null,
   "id": "0f1b7cfb-0fba-44bd-af65-d1586b3b5f60",
   "metadata": {},
   "outputs": [],
   "source": []
  },
  {
   "cell_type": "code",
   "execution_count": null,
   "id": "259e71b2-36f7-42ba-9931-a52df5896a5f",
   "metadata": {},
   "outputs": [],
   "source": []
  }
 ],
 "metadata": {
  "kernelspec": {
   "display_name": "Python 3 (ipykernel)",
   "language": "python",
   "name": "python3"
  },
  "language_info": {
   "codemirror_mode": {
    "name": "ipython",
    "version": 3
   },
   "file_extension": ".py",
   "mimetype": "text/x-python",
   "name": "python",
   "nbconvert_exporter": "python",
   "pygments_lexer": "ipython3",
   "version": "3.9.0"
  }
 },
 "nbformat": 4,
 "nbformat_minor": 5
}
