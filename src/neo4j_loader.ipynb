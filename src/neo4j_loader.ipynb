{
 "cells": [
  {
   "cell_type": "markdown",
   "id": "5bb01a1c-66c4-4cd4-aca3-68067d866867",
   "metadata": {},
   "source": [
    "# Neo4j\n",
    "\n",
    "Image: https://hub.docker.com/_/neo4j\n",
    "\n",
    "docker run \\\r\n",
    "    --publish=7474:7474 --publish=7687:7687 \\\r\n",
    "    --volume=$HOME/neo4j/data:/data\n",
    "    --env=NEO4J_AUTH=none \\\r\n",
    "    neo4j"
   ]
  },
  {
   "cell_type": "markdown",
   "id": "4bb82206-8181-4198-b661-5827a6f09f71",
   "metadata": {},
   "source": [
    "Relationship with props: https://pythontic.com/database/neo4j/create%20nodes%20and%20relationships "
   ]
  },
  {
   "cell_type": "markdown",
   "id": "27a11163-fdac-489b-acb4-6856c6e1f701",
   "metadata": {},
   "source": [
    "Handbook: https://neo4j-contrib.github.io/py2neo/index.html#guides"
   ]
  },
  {
   "cell_type": "markdown",
   "id": "b60ec186-8036-4fdd-84c4-6547c51b026d",
   "metadata": {},
   "source": [
    "GUI (web): http://localhost:7474/browser/"
   ]
  },
  {
   "cell_type": "markdown",
   "id": "d3fe3ee1-1b45-4a5c-8fa6-377471f899a8",
   "metadata": {},
   "source": [
    "Clear DB:\n",
    "\n",
    "```\n",
    "MATCH (n) OPTIONAL MATCH (n)-[r]-() DELETE n,r\n",
    "```"
   ]
  },
  {
   "cell_type": "code",
   "execution_count": 92,
   "id": "01fe6337-38b5-4b42-b844-7110a3c51a6b",
   "metadata": {},
   "outputs": [],
   "source": [
    "import json\n",
    "from elasticsearch import Elasticsearch\n",
    "from py2neo import Graph, Node, Relationship"
   ]
  },
  {
   "cell_type": "code",
   "execution_count": 93,
   "id": "bb027961-538c-4974-b428-dfbb6a1300cb",
   "metadata": {},
   "outputs": [
    {
     "data": {
      "text/plain": [
       "True"
      ]
     },
     "execution_count": 93,
     "metadata": {},
     "output_type": "execute_result"
    }
   ],
   "source": [
    "client = Elasticsearch([{\"host\": \"127.0.0.1\", \"scheme\": \"http\", \"port\": 9200}])\n",
    "\n",
    "client.ping()"
   ]
  },
  {
   "cell_type": "code",
   "execution_count": 94,
   "id": "a7e7b8ce-8744-4953-8530-afd375ee5eb3",
   "metadata": {},
   "outputs": [],
   "source": [
    "graph_db = Graph(\"bolt://localhost:7687\")"
   ]
  },
  {
   "cell_type": "code",
   "execution_count": 95,
   "id": "f9b15a60-a2ee-496d-9580-25035c24cf67",
   "metadata": {},
   "outputs": [],
   "source": [
    "searchBody = {\n",
    "  \"size\": 9999,\n",
    "  \"_source\": True,\n",
    "  \"query\": {\n",
    "    \"match_all\": {}\n",
    "  }\n",
    "}\n",
    "\n",
    "result = client.search(index=\"master\", body=searchBody)"
   ]
  },
  {
   "cell_type": "code",
   "execution_count": 96,
   "id": "cfe6f429-1a79-4c9b-a7a2-59dd9af6faa6",
   "metadata": {},
   "outputs": [
    {
     "data": {
      "text/plain": [
       "{'value': 20, 'relation': 'eq'}"
      ]
     },
     "execution_count": 96,
     "metadata": {},
     "output_type": "execute_result"
    }
   ],
   "source": [
    "result['hits']['total']"
   ]
  },
  {
   "cell_type": "code",
   "execution_count": 97,
   "id": "297dce9d-ef14-4b5f-a1eb-babefa0fb06b",
   "metadata": {},
   "outputs": [],
   "source": [
    "masters = result['hits']['hits']"
   ]
  },
  {
   "cell_type": "code",
   "execution_count": 98,
   "id": "00fc8e05-43a6-4a50-9571-860a1adad9a9",
   "metadata": {},
   "outputs": [
    {
     "data": {
      "text/plain": [
       "20"
      ]
     },
     "execution_count": 98,
     "metadata": {},
     "output_type": "execute_result"
    }
   ],
   "source": [
    "len(masters)"
   ]
  },
  {
   "cell_type": "code",
   "execution_count": 99,
   "id": "789dfe7b-fbf4-43e0-9fe2-399b5930903d",
   "metadata": {},
   "outputs": [
    {
     "data": {
      "text/plain": [
       "[{'_index': 'master',\n",
       "  '_id': '618529',\n",
       "  '_score': 1.0,\n",
       "  '_source': {'master_id': 618529,\n",
       "   'master_desc': 'Аполлон Харитонович Афанасьев, Стаж Работы: 5 Л./Г..',\n",
       "   'master_feedbacks': ['медлительный, аккуратный.',\n",
       "    'ворчливый, медлительный.']}},\n",
       " {'_index': 'master',\n",
       "  '_id': '791839',\n",
       "  '_score': 1.0,\n",
       "  '_source': {'master_id': 791839,\n",
       "   'master_desc': 'Август Дорофеевич Кошелев, Стаж Работы: 11 Л./Г..',\n",
       "   'master_feedbacks': ['медлительный, ворчливый.']}},\n",
       " {'_index': 'master',\n",
       "  '_id': '800991',\n",
       "  '_score': 1.0,\n",
       "  '_source': {'master_id': 800991,\n",
       "   'master_desc': 'Сысоев Селиверст Елизарович, Тип Образования: Высшее.',\n",
       "   'master_feedbacks': ['аккуратный, ворчливый.', 'ворчливый, аккуратный.']}}]"
      ]
     },
     "execution_count": 99,
     "metadata": {},
     "output_type": "execute_result"
    }
   ],
   "source": [
    "masters[:3]"
   ]
  },
  {
   "cell_type": "code",
   "execution_count": 100,
   "id": "605317f2-1bed-471f-9af5-282dfb8ef7a6",
   "metadata": {},
   "outputs": [],
   "source": [
    "# searchBody = {\n",
    "#   \"_source\": True,\n",
    "#   \"query\": {\n",
    "#     \"term\": {\n",
    "#       \"order_master_id\": 800991\n",
    "#    }\n",
    "#   }\n",
    "# }\n",
    "\n",
    "# result = client.search(index=\"order\", body=searchBody)"
   ]
  },
  {
   "cell_type": "code",
   "execution_count": 101,
   "id": "a114e860-942f-41c2-bf73-709b7d035345",
   "metadata": {},
   "outputs": [],
   "source": [
    "# result['hits']"
   ]
  },
  {
   "cell_type": "code",
   "execution_count": null,
   "id": "78dbefd7-8306-48fc-a9be-9e1e4ab7c9d7",
   "metadata": {},
   "outputs": [],
   "source": []
  },
  {
   "cell_type": "code",
   "execution_count": null,
   "id": "36ad464d-a887-432e-8811-d45985255d06",
   "metadata": {},
   "outputs": [],
   "source": []
  },
  {
   "cell_type": "code",
   "execution_count": 104,
   "id": "f4e4ddd2-bd30-445f-b44c-4dd0d40fa500",
   "metadata": {},
   "outputs": [
    {
     "name": "stdout",
     "output_type": "stream",
     "text": [
      "0)......+\n",
      "1)..+\n",
      "2)......+\n",
      "3).......+\n",
      "4)...+\n",
      "5)..........+\n",
      "6)....+\n",
      "7)........+\n",
      "8).......+\n",
      "9)........+\n",
      "10)...+\n",
      "11).....+\n",
      "12)...+\n",
      "13).....+\n",
      "14)...+\n",
      "15)........+\n",
      "16)+\n",
      "17)..+\n",
      "18).....+\n",
      "19).....+\n"
     ]
    }
   ],
   "source": [
    "i = 0\n",
    "for master in masters:\n",
    "    try:\n",
    "         print(f'{i})', end='')\n",
    "         MasterNode = Node(\"Master\",master_id=master['_source']['master_id'], master_desc=master['_source']['master_desc'])\n",
    "         graph_db.create(MasterNode)\n",
    "         searchBody = {\n",
    "              \"size\": 9999,\n",
    "              \"_source\": True,\n",
    "              \"query\": {\n",
    "                \"term\": {\n",
    "                  \"order_master_id\": master['_source']['master_id']\n",
    "               }\n",
    "              }\n",
    "            }\n",
    "         result = client.search(index=\"order\", body=searchBody)\n",
    "         orders = result['hits']['hits']\n",
    "         for order in orders:\n",
    "             OrderNode = Node(\"Order\",order_id=order['_source']['order_id'], order_date=order['_source']['order_date'], order_customer_desc=order['_source']['order_customer_desc'], order_price=order['_source']['order_price'])\n",
    "             graph_db.create(OrderNode)\n",
    "             NodesRelationship = Relationship(MasterNode, \"Executed\", OrderNode, order_due_date=order['_source']['order_due_date'], order_fact_completion_date=order['_source']['order_fact_completion_date'])\n",
    "             graph_db.create(NodesRelationship)\n",
    "             print('.', end='')\n",
    "         print(\"+\")\n",
    "         i += 1\n",
    "    except Exception as e:\n",
    "        print(f'Exception: {e}')\n",
    "        continue"
   ]
  },
  {
   "cell_type": "code",
   "execution_count": null,
   "id": "0f24aa25-9850-481a-9ac0-0408b76c73da",
   "metadata": {},
   "outputs": [],
   "source": []
  }
 ],
 "metadata": {
  "kernelspec": {
   "display_name": "Python 3 (ipykernel)",
   "language": "python",
   "name": "python3"
  },
  "language_info": {
   "codemirror_mode": {
    "name": "ipython",
    "version": 3
   },
   "file_extension": ".py",
   "mimetype": "text/x-python",
   "name": "python",
   "nbconvert_exporter": "python",
   "pygments_lexer": "ipython3",
   "version": "3.9.0"
  }
 },
 "nbformat": 4,
 "nbformat_minor": 5
}
