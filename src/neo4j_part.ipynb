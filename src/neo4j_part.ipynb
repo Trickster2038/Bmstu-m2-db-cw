{
 "cells": [
  {
   "cell_type": "code",
   "execution_count": 2,
   "id": "7bf0d83e-810a-4564-b361-ba00a90eb915",
   "metadata": {},
   "outputs": [],
   "source": [
    "from py2neo import Graph, Node, Relationship\n",
    "graph_db = Graph(\"bolt://localhost:7687\")"
   ]
  },
  {
   "cell_type": "code",
   "execution_count": 4,
   "id": "1afbaaf2-e800-4e8e-8a63-50de31d6255c",
   "metadata": {},
   "outputs": [
    {
     "data": {
      "text/plain": [
       "Graph('bolt://localhost:7687')"
      ]
     },
     "execution_count": 4,
     "metadata": {},
     "output_type": "execute_result"
    }
   ],
   "source": [
    "graph_db"
   ]
  },
  {
   "cell_type": "code",
   "execution_count": 19,
   "id": "7b6e23c8-956a-4447-b900-7d164cd37ea5",
   "metadata": {},
   "outputs": [
    {
     "name": "stdout",
     "output_type": "stream",
     "text": [
      "'Давыдова Александра Харитоновна, Стаж Работы: 12 Л./Г..'\t10\n"
     ]
    }
   ],
   "source": [
    "try:\n",
    "    cur=graph_db.run(\"MATCH (MAS:Master)-[r:Executed]->(ORD:Order) WITH MAS, count(r) AS num RETURN MAS.master_desc as master_desc, num ORDER BY num DESC LIMIT 1;\")\n",
    "except Exception as e:\n",
    "    print(e)\n",
    "\n",
    "while cur.forward():\n",
    "    print(cur.current)"
   ]
  },
  {
   "cell_type": "code",
   "execution_count": 26,
   "id": "521c571c-7cb2-440b-abdf-f91df70e14e5",
   "metadata": {},
   "outputs": [],
   "source": [
    "# cur=graph_db.run(\"MATCH (MAS:Master)-[r:Executed]->(ORD:Order) WITH MAS, count(r) AS num RETURN MAS, max(num) as m1 MATCH (MAS1:Master)-[r1:Executed]->(ORD1:Order) with  MAS1, count(r1) AS num1 WHERE num1 = m1 RETURN MAS1.master_desc as master_desc, m1\")\n",
    "# cur=graph_db.run(\"MATCH (MAS1:Master)-[r1:Executed]->(ORD1:Order) with  MAS1, count(r1) AS num1 MATCH (MAS:Master)-[r:Executed]->(ORD:Order) WITH MAS, count(r) AS num WHERE MAS1=MAS and num1 = max(num)  RETURN MAS.master_desc as master_desc, max(num)\")\n"
   ]
  },
  {
   "cell_type": "code",
   "execution_count": null,
   "id": "549e70b9-b564-4fd5-a4ed-14b78acc7a30",
   "metadata": {},
   "outputs": [],
   "source": []
  }
 ],
 "metadata": {
  "kernelspec": {
   "display_name": "Python 3 (ipykernel)",
   "language": "python",
   "name": "python3"
  },
  "language_info": {
   "codemirror_mode": {
    "name": "ipython",
    "version": 3
   },
   "file_extension": ".py",
   "mimetype": "text/x-python",
   "name": "python",
   "nbconvert_exporter": "python",
   "pygments_lexer": "ipython3",
   "version": "3.9.0"
  }
 },
 "nbformat": 4,
 "nbformat_minor": 5
}
