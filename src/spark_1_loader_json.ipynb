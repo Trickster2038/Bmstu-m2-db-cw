{
 "cells": [
  {
   "cell_type": "markdown",
   "id": "f1c96b38-20f3-4050-bfbe-007a8c4767e8",
   "metadata": {},
   "source": [
    "UI example: https://dev.to/mvillarrealb/creating-a-spark-standalone-cluster-with-docker-and-docker-compose-2021-update-6l4"
   ]
  },
  {
   "cell_type": "code",
   "execution_count": 1,
   "id": "e5acbfd6-e671-46ab-ae75-6391f1c47fef",
   "metadata": {},
   "outputs": [],
   "source": [
    "from elasticsearch import Elasticsearch\n",
    "import json\n",
    "import subprocess"
   ]
  },
  {
   "cell_type": "code",
   "execution_count": 2,
   "id": "06264946-bda3-413a-a9a3-5bfb897c36b8",
   "metadata": {},
   "outputs": [
    {
     "data": {
      "text/plain": [
       "True"
      ]
     },
     "execution_count": 2,
     "metadata": {},
     "output_type": "execute_result"
    }
   ],
   "source": [
    "client = Elasticsearch(\"http://localhost:9200\")\n",
    "client.ping()"
   ]
  },
  {
   "cell_type": "code",
   "execution_count": 3,
   "id": "b6fb0812-d079-45b4-9c1f-82afec2ed1f1",
   "metadata": {},
   "outputs": [],
   "source": [
    "searchBody = {\n",
    "  \"size\": 9999,\n",
    "  \"_source\": True,\n",
    "  \"query\": {\n",
    "    \"match_all\": {}\n",
    "  }\n",
    "}\n",
    "\n",
    "result = client.search(index=\"master\", body=searchBody)\n",
    "masters = result['hits']['hits']\n",
    "result = client.search(index=\"order\", body=searchBody)\n",
    "orders = result['hits']['hits']"
   ]
  },
  {
   "cell_type": "code",
   "execution_count": 4,
   "id": "78ef52ce-6e87-4f37-bf9b-8cdf5d47e9c5",
   "metadata": {},
   "outputs": [
    {
     "data": {
      "text/plain": [
       "[{'_index': 'master',\n",
       "  '_id': '618529',\n",
       "  '_score': 1.0,\n",
       "  '_source': {'master_id': 618529,\n",
       "   'master_desc': 'Аполлон Харитонович Афанасьев, Стаж Работы: 5 Л./Г..',\n",
       "   'master_feedbacks': ['медлительный, аккуратный.',\n",
       "    'ворчливый, медлительный.']}}]"
      ]
     },
     "execution_count": 4,
     "metadata": {},
     "output_type": "execute_result"
    }
   ],
   "source": [
    "masters[:1]"
   ]
  },
  {
   "cell_type": "code",
   "execution_count": 5,
   "id": "410d7c31-b073-40d4-bac1-ea38cd37d698",
   "metadata": {},
   "outputs": [
    {
     "data": {
      "text/plain": [
       "[{'_index': 'order',\n",
       "  '_id': '939218',\n",
       "  '_score': 1.0,\n",
       "  '_source': {'order_id': 939218,\n",
       "   'order_date': '2024-01-27',\n",
       "   'order_customer_id': 290404,\n",
       "   'order_customer_desc': 'Имя: Жанна Владиславовна Семенова; должник, постоянный.',\n",
       "   'order_details_desc': 'тяжелый, объемный.',\n",
       "   'order_due_date': '2024-03-24',\n",
       "   'order_fact_completion_date': '2024-04-11',\n",
       "   'order_parts': ['корпус'],\n",
       "   'repair_types': ['замена компонентов'],\n",
       "   'order_price': 8642.84646,\n",
       "   'order_master_id': 96520}}]"
      ]
     },
     "execution_count": 5,
     "metadata": {},
     "output_type": "execute_result"
    }
   ],
   "source": [
    "orders[:1]"
   ]
  },
  {
   "cell_type": "code",
   "execution_count": 6,
   "id": "0537e3c7-891e-4b63-b3fe-c1cb22805d10",
   "metadata": {},
   "outputs": [],
   "source": [
    "with open('../spark_masters.json', 'w') as f:\n",
    "    json.dump(masters, f)"
   ]
  },
  {
   "cell_type": "code",
   "execution_count": 7,
   "id": "65a91c78-cdd6-44c8-919e-adf9a1790819",
   "metadata": {},
   "outputs": [],
   "source": [
    "with open('../spark_orders.json', 'w') as f:\n",
    "    json.dump(orders, f)"
   ]
  },
  {
   "cell_type": "code",
   "execution_count": null,
   "id": "dee48669-98a4-4c35-9fa4-69bdd5dcdc64",
   "metadata": {},
   "outputs": [],
   "source": []
  },
  {
   "cell_type": "code",
   "execution_count": 13,
   "id": "167a119b-2493-442c-b20d-7e8f40f78504",
   "metadata": {},
   "outputs": [
    {
     "data": {
      "text/plain": [
       "''"
      ]
     },
     "execution_count": 13,
     "metadata": {},
     "output_type": "execute_result"
    }
   ],
   "source": [
    "subprocess.getoutput('docker cp ../spark_masters.json spark-master:/spark_masters.json')"
   ]
  },
  {
   "cell_type": "code",
   "execution_count": 14,
   "id": "88fce8fd-e868-4db5-9d58-aff60849101d",
   "metadata": {},
   "outputs": [
    {
     "data": {
      "text/plain": [
       "''"
      ]
     },
     "execution_count": 14,
     "metadata": {},
     "output_type": "execute_result"
    }
   ],
   "source": [
    "subprocess.getoutput('docker cp ../spark_orders.json spark-master:/spark_orders.json')"
   ]
  },
  {
   "cell_type": "code",
   "execution_count": 7,
   "id": "8db79e14-4885-433f-b55a-1e99b794858b",
   "metadata": {},
   "outputs": [
    {
     "data": {
      "text/plain": [
       "''"
      ]
     },
     "execution_count": 7,
     "metadata": {},
     "output_type": "execute_result"
    }
   ],
   "source": [
    "subprocess.getoutput('docker cp ../spark_2_csv.py spark-master:/spark_2_csv.py')"
   ]
  },
  {
   "cell_type": "code",
   "execution_count": 9,
   "id": "045a2c51-ce19-4ae9-92f4-821e9e8261ec",
   "metadata": {},
   "outputs": [
    {
     "data": {
      "text/plain": [
       "'bin\\ndev\\netc\\nexecute-step.sh\\nfinish-step.sh\\nhome\\nlib\\nlib64\\nmaster.sh\\nmedia\\nmnt\\nopt\\nproc\\nroot\\nrun\\nsbin\\nspark\\nspark_2_csv.py\\nsrv\\nsys\\ntmp\\nusr\\nvar\\nwait-for-step.sh'"
      ]
     },
     "execution_count": 9,
     "metadata": {},
     "output_type": "execute_result"
    }
   ],
   "source": [
    "subprocess.getoutput('docker exec spark-master ls')"
   ]
  },
  {
   "cell_type": "code",
   "execution_count": 23,
   "id": "c0b6ee2e-6862-43c2-9a68-012c53a7923c",
   "metadata": {},
   "outputs": [],
   "source": [
    "# print(subprocess.getoutput('docker exec spark-master /spark/bin/spark-submit spark_2_csv.py'))"
   ]
  },
  {
   "cell_type": "code",
   "execution_count": null,
   "id": "b39c5bd4-bca6-4dfc-9517-a9a229aa3965",
   "metadata": {},
   "outputs": [],
   "source": [
    "subprocess.getoutput('docker cp ../spark_3_process.py spark-master:/spark_3_process.py')"
   ]
  },
  {
   "cell_type": "code",
   "execution_count": null,
   "id": "42eb0217-1b15-441d-a714-ce4f82fc876b",
   "metadata": {},
   "outputs": [],
   "source": [
    "print(subprocess.getoutput('docker exec spark-master /spark/bin/spark-submit --master spark://spark-master:7077 spark_3_process.py'))"
   ]
  },
  {
   "cell_type": "code",
   "execution_count": null,
   "id": "088ed473-ba39-46f5-ae7d-92798f198eb9",
   "metadata": {},
   "outputs": [],
   "source": []
  }
 ],
 "metadata": {
  "kernelspec": {
   "display_name": "Python 3 (ipykernel)",
   "language": "python",
   "name": "python3"
  },
  "language_info": {
   "codemirror_mode": {
    "name": "ipython",
    "version": 3
   },
   "file_extension": ".py",
   "mimetype": "text/x-python",
   "name": "python",
   "nbconvert_exporter": "python",
   "pygments_lexer": "ipython3",
   "version": "3.9.0"
  }
 },
 "nbformat": 4,
 "nbformat_minor": 5
}
