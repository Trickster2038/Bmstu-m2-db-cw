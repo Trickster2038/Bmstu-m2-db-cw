{
 "cells": [
  {
   "cell_type": "markdown",
   "id": "50f61992-2f42-4f91-ae49-a4ed79c02dff",
   "metadata": {},
   "source": [
    "https://stackoverflow.com/questions/53252181/python-worker-failed-to-connect-back\n",
    "\n",
    "Schema: https://stackoverflow.com/questions/45276427/unable-connect-to-docker-container-outside-docker-host\n",
    "\n",
    "Config: https://stackoverflow.com/questions/72113678/hdfs-config-for-pyspark\n",
    "\n",
    "IP docker: https://stackoverflow.com/questions/61432807/hadoop-spark-there-are-1-datanodes-running-and-1-nodes-are-excluded-in-th\n",
    "\n",
    "Hosts windows: https://fixergeek.com/fixes/how-to-assign-hostname-to-ip-address-in-windows#:~:text=Press%20the%20Windows%20button%20%2B,key.%20IP%20configuration%20of%20Windows\n",
    "\n",
    "Windows 11: https://www.sysgeeker.com/blog/how-to-add-to-host-file-windows-11.html\n",
    "\n",
    "C:\\Windows\\System32\\drivers\\etc\\hosts\n",
    "\n",
    "hdfs dfsadmin -report\n",
    "\n",
    "https://ruslanmv.com/blog/How-to-install-Hadoop-on-Windows"
   ]
  },
  {
   "cell_type": "code",
   "execution_count": 1,
   "id": "f124af49-c9ab-4602-9d20-13a614995580",
   "metadata": {},
   "outputs": [],
   "source": [
    "from pyspark.sql import SparkSession\n",
    "from elasticsearch import Elasticsearch\n",
    "from pyspark.sql.types import *\n",
    "import findspark\n",
    "findspark.init()"
   ]
  },
  {
   "cell_type": "code",
   "execution_count": 6,
   "id": "1ff22bbc-a452-46a2-85c9-7aa4f8e4e635",
   "metadata": {},
   "outputs": [
    {
     "data": {
      "text/plain": [
       "False"
      ]
     },
     "execution_count": 6,
     "metadata": {},
     "output_type": "execute_result"
    }
   ],
   "source": [
    "client = Elasticsearch(\"http://localhost:9200\")\n",
    "\n",
    "client.ping()"
   ]
  },
  {
   "cell_type": "code",
   "execution_count": 3,
   "id": "48daacb8-92e6-45b0-9144-6e6c826bbbc1",
   "metadata": {},
   "outputs": [
    {
     "name": "stderr",
     "output_type": "stream",
     "text": [
      "24/03/02 20:35:45 WARN Utils: Your hostname, gwynbleidd-NBR-WAX9 resolves to a loopback address: 127.0.1.1; using 192.168.1.65 instead (on interface wlp0s20f3)\n",
      "24/03/02 20:35:45 WARN Utils: Set SPARK_LOCAL_IP if you need to bind to another address\n",
      "Setting default log level to \"WARN\".\n",
      "To adjust logging level use sc.setLogLevel(newLevel). For SparkR, use setLogLevel(newLevel).\n",
      "24/03/02 20:35:46 WARN NativeCodeLoader: Unable to load native-hadoop library for your platform... using builtin-java classes where applicable\n"
     ]
    }
   ],
   "source": [
    "sparkSession = SparkSession.builder.appName(\"csv4\").getOrCreate()"
   ]
  },
  {
   "cell_type": "code",
   "execution_count": 12,
   "id": "5833a336-dedd-4f08-a7b6-fce6469a1629",
   "metadata": {},
   "outputs": [
    {
     "name": "stderr",
     "output_type": "stream",
     "text": [
      "c:\\users\\sergey.astakhov\\desktop\\bmstu-m2-db-cw\\venv\\lib\\site-packages\\pyspark\\sql\\connect\\session.py:185: UserWarning: <_InactiveRpcError of RPC that terminated with:\n",
      "\tstatus = StatusCode.UNAVAILABLE\n",
      "\tdetails = \"failed to connect to all addresses; last error: UNAVAILABLE: ipv6:%5B::1%5D:7077: End of TCP stream\"\n",
      "\tdebug_error_string = \"UNKNOWN:Error received from peer  {created_time:\"2024-02-24T16:26:38.9291319+00:00\", grpc_status:14, grpc_message:\"failed to connect to all addresses; last error: UNAVAILABLE: ipv6:%5B::1%5D:7077: End of TCP stream\"}\"\n",
      ">\n",
      "  warnings.warn(str(e))\n",
      "c:\\users\\sergey.astakhov\\desktop\\bmstu-m2-db-cw\\venv\\lib\\site-packages\\pyspark\\sql\\connect\\session.py:185: UserWarning: <_InactiveRpcError of RPC that terminated with:\n",
      "\tstatus = StatusCode.UNAVAILABLE\n",
      "\tdetails = \"failed to connect to all addresses; last error: UNAVAILABLE: ipv4:127.0.0.1:7077: End of TCP stream\"\n",
      "\tdebug_error_string = \"UNKNOWN:Error received from peer  {created_time:\"2024-02-24T16:36:51.6222518+00:00\", grpc_status:14, grpc_message:\"failed to connect to all addresses; last error: UNAVAILABLE: ipv4:127.0.0.1:7077: End of TCP stream\"}\"\n",
      ">\n",
      "  warnings.warn(str(e))\n"
     ]
    }
   ],
   "source": [
    "sparkSession2 = SparkSession.builder.remote('sc://localhost:7077').getOrCreate()"
   ]
  },
  {
   "cell_type": "code",
   "execution_count": null,
   "id": "4c2043e5-9d12-4680-8b3e-7e8569d9a69e",
   "metadata": {},
   "outputs": [],
   "source": [
    "sparkSession3 = SparkSession.builder.remote('sc://localhost:7077').getOrCreate()"
   ]
  },
  {
   "cell_type": "code",
   "execution_count": 4,
   "id": "b651213f-35a9-444f-8feb-ca5552e3853b",
   "metadata": {},
   "outputs": [
    {
     "data": {
      "text/html": [
       "\n",
       "            <div>\n",
       "                <p><b>SparkSession - in-memory</b></p>\n",
       "                \n",
       "        <div>\n",
       "            <p><b>SparkContext</b></p>\n",
       "\n",
       "            <p><a href=\"http://192.168.1.65:4040\">Spark UI</a></p>\n",
       "\n",
       "            <dl>\n",
       "              <dt>Version</dt>\n",
       "                <dd><code>v3.5.1</code></dd>\n",
       "              <dt>Master</dt>\n",
       "                <dd><code>local[*]</code></dd>\n",
       "              <dt>AppName</dt>\n",
       "                <dd><code>csv4</code></dd>\n",
       "            </dl>\n",
       "        </div>\n",
       "        \n",
       "            </div>\n",
       "        "
      ],
      "text/plain": [
       "<pyspark.sql.session.SparkSession at 0x7f21c0aab5b0>"
      ]
     },
     "execution_count": 4,
     "metadata": {},
     "output_type": "execute_result"
    },
    {
     "name": "stderr",
     "output_type": "stream",
     "text": [
      "24/03/02 20:35:59 WARN GarbageCollectionMetrics: To enable non-built-in garbage collector(s) List(G1 Concurrent GC), users should configure it(them) to spark.eventLog.gcMetrics.youngGenerationGarbageCollectors or spark.eventLog.gcMetrics.oldGenerationGarbageCollectors\n"
     ]
    }
   ],
   "source": [
    "sparkSession"
   ]
  },
  {
   "cell_type": "code",
   "execution_count": null,
   "id": "320eb469-d04b-4dd7-aaa3-4a77fadc9937",
   "metadata": {},
   "outputs": [],
   "source": [
    "sparkSession2"
   ]
  },
  {
   "cell_type": "code",
   "execution_count": 7,
   "id": "46f3d011-19c8-4e38-b5cb-902fdc3a2fbf",
   "metadata": {},
   "outputs": [],
   "source": [
    "searchBody = {\n",
    "  \"size\": 9999,\n",
    "  \"_source\": True,\n",
    "  \"query\": {\n",
    "    \"match_all\": {}\n",
    "  }\n",
    "}\n",
    "\n",
    "result = client.search(index=\"master\", body=searchBody)\n",
    "masters = result['hits']['hits']\n",
    "result = client.search(index=\"order\", body=searchBody)\n",
    "orders = result['hits']['hits']"
   ]
  },
  {
   "cell_type": "code",
   "execution_count": 6,
   "id": "5b142237-54e1-43d8-811a-a6cc5adf3823",
   "metadata": {},
   "outputs": [
    {
     "data": {
      "text/plain": [
       "[{'_index': 'master',\n",
       "  '_id': '618529',\n",
       "  '_score': 1.0,\n",
       "  '_source': {'master_id': 618529,\n",
       "   'master_desc': 'Аполлон Харитонович Афанасьев, Стаж Работы: 5 Л./Г..',\n",
       "   'master_feedbacks': ['медлительный, аккуратный.',\n",
       "    'ворчливый, медлительный.']}}]"
      ]
     },
     "execution_count": 6,
     "metadata": {},
     "output_type": "execute_result"
    }
   ],
   "source": [
    "import json\n",
    "with open('../spark_masters.json') as f:\n",
    "    masters = json.load(f)\n",
    "masters[:1]"
   ]
  },
  {
   "cell_type": "code",
   "execution_count": 9,
   "id": "93b080a0-e987-4ddb-b4b8-b6cc037f5e6f",
   "metadata": {},
   "outputs": [
    {
     "data": {
      "text/plain": [
       "[{'_index': 'order',\n",
       "  '_id': '939218',\n",
       "  '_score': 1.0,\n",
       "  '_source': {'order_id': 939218,\n",
       "   'order_date': '2024-01-27',\n",
       "   'order_customer_id': 290404,\n",
       "   'order_customer_desc': 'Имя: Жанна Владиславовна Семенова; должник, постоянный.',\n",
       "   'order_details_desc': 'тяжелый, объемный.',\n",
       "   'order_due_date': '2024-03-24',\n",
       "   'order_fact_completion_date': '2024-04-11',\n",
       "   'order_parts': ['корпус'],\n",
       "   'repair_types': ['замена компонентов'],\n",
       "   'order_price': 8642.84646,\n",
       "   'order_master_id': 96520}}]"
      ]
     },
     "execution_count": 9,
     "metadata": {},
     "output_type": "execute_result"
    }
   ],
   "source": [
    "orders[:1]"
   ]
  },
  {
   "cell_type": "code",
   "execution_count": 7,
   "id": "5d14120d-7eb5-493b-86e5-250faf44ed34",
   "metadata": {},
   "outputs": [],
   "source": [
    "MasterSchema = StructType([\n",
    "    StructField(\"master_id\", IntegerType(), False),\n",
    "    StructField(\"master_desc\", StringType(), False),\n",
    "    StructField(\"master_feedbacks\", StringType(), False)\n",
    "])\n",
    "CustomerSchema = StructType([\n",
    "    StructField(\"order_customer_id\", IntegerType(), False),\n",
    "    StructField(\"order_customer_desc\", StringType(), False)\n",
    "])\n",
    "OrderSchema = StructType([\n",
    "    StructField(\"order_id\", IntegerType(), False),\n",
    "    StructField(\"order_date\", StringType(), False),\n",
    "    StructField(\"order_customer_id\", IntegerType(), False),\n",
    "    # StructField(\"order_customer_desc\", StringType(), False),\n",
    "    StructField(\"order_details_desc\", StringType(), False),\n",
    "    StructField(\"order_due_date\", StringType(), False),\n",
    "    StructField(\"order_fact_completion_date\", StringType(), False),\n",
    "    StructField(\"order_parts\", StringType(), False),\n",
    "    StructField(\"repair_types\", StringType(), False),\n",
    "    StructField(\"order_price\", FloatType(), False),\n",
    "    StructField(\"order_master_id\", IntegerType(), False)\n",
    "])"
   ]
  },
  {
   "cell_type": "code",
   "execution_count": 8,
   "id": "72ae3368-83fc-42b8-b808-8676c881ccb7",
   "metadata": {},
   "outputs": [],
   "source": [
    "MasterTable = []\n",
    "CustomerTable = []\n",
    "OrderTable = []"
   ]
  },
  {
   "cell_type": "code",
   "execution_count": 9,
   "id": "f59a159c-215a-46fc-be4a-d2dc63c72092",
   "metadata": {},
   "outputs": [],
   "source": [
    "CustomerSet = set()"
   ]
  },
  {
   "cell_type": "code",
   "execution_count": 10,
   "id": "1932c2e6-c43d-495b-bd71-234639972231",
   "metadata": {},
   "outputs": [],
   "source": [
    "for master in masters:\n",
    "    MasterTable.append((\n",
    "        master['_source']['master_id'],\n",
    "        master['_source']['master_desc'],\n",
    "        str(master['_source']['master_feedbacks'])\n",
    "    ))\n",
    "# for order in orders:\n",
    "#     OrderTable.append((\n",
    "#         order['_source']['order_id'],\n",
    "#         order['_source']['order_date'],\n",
    "#         order['_source']['order_customer_id'],\n",
    "#         order['_source']['order_details_desc'],\n",
    "#         order['_source']['order_due_date'],\n",
    "#         order['_source']['order_fact_completion_date'],\n",
    "#         str(order['_source']['order_parts']),\n",
    "#         str(order['_source']['repair_types']),\n",
    "#         order['_source']['order_price'],\n",
    "#         order['_source']['order_master_id']\n",
    "#     ))\n",
    "#     if not order['_source']['order_id'] in CustomerSet:\n",
    "#         CustomerSet.add(order['_source']['order_id'])\n",
    "#         CustomerTable.append((\n",
    "#             order['_source']['order_customer_id'],\n",
    "#             order['_source']['order_customer_desc']\n",
    "#         ))"
   ]
  },
  {
   "cell_type": "code",
   "execution_count": 11,
   "id": "b7c6dec7-b570-4e92-a03f-286b678fb827",
   "metadata": {},
   "outputs": [],
   "source": [
    "MasterDF = sparkSession.createDataFrame(MasterTable, MasterSchema)\n",
    "# OrderDF = sparkSession.createDataFrame(OrderTable, OrderSchema)\n",
    "# CustomerDF = sparkSession.createDataFrame(CustomerTable,CustomerSchema)"
   ]
  },
  {
   "cell_type": "code",
   "execution_count": 12,
   "id": "39ac4979-c45c-4b75-82fb-06936bb1f106",
   "metadata": {},
   "outputs": [
    {
     "name": "stderr",
     "output_type": "stream",
     "text": [
      "                                                                                \r"
     ]
    },
    {
     "name": "stdout",
     "output_type": "stream",
     "text": [
      "+---------+--------------------+--------------------+\n",
      "|master_id|         master_desc|    master_feedbacks|\n",
      "+---------+--------------------+--------------------+\n",
      "|   618529|Аполлон Харитонов...|['медлительный, а...|\n",
      "|   791839|Август Дорофеевич...|['медлительный, в...|\n",
      "|   800991|Сысоев Селиверст ...|['аккуратный, вор...|\n",
      "|   979439|Никанор Всеволодо...|['аккуратный, мед...|\n",
      "|   245954|Леон Власович Хох...|['аккуратный, мед...|\n",
      "|    96520|Давыдова Александ...|['аккуратный, мед...|\n",
      "|   377918|Дьячков Евстигней...|['ворчливый, акку...|\n",
      "|   185439|Никонова Нинель Б...|['медлительный, в...|\n",
      "|   717684|Михеев Тарас Тейм...|['ворчливый, медл...|\n",
      "|   827062|Никонова Наталья ...|['аккуратный, вор...|\n",
      "|   303644|Гордеева Виктория...|['ворчливый, медл...|\n",
      "|   962470|Мокей Матвеевич Е...|['медлительный, в...|\n",
      "|   319301|Громова Жанна Бог...|['ворчливый, акку...|\n",
      "|   325551|Фадеев Демид Адам...|['медлительный, в...|\n",
      "|   140834|Анна Валентиновна...|['медлительный, в...|\n",
      "|   678593|Беляева Ульяна Аф...|['аккуратный, мед...|\n",
      "|   374562|Лора Матвеевна Ша...|['медлительный, а...|\n",
      "|   406292|Сильвестр Ерофеев...|['ворчливый, акку...|\n",
      "|   824261|Фёкла Аскольдовна...|['ворчливый, медл...|\n",
      "|   490853|Святополк Герасим...|['аккуратный, вор...|\n",
      "+---------+--------------------+--------------------+\n",
      "\n"
     ]
    }
   ],
   "source": [
    "MasterDF.show()"
   ]
  },
  {
   "cell_type": "code",
   "execution_count": 16,
   "id": "87804be8-5da1-452a-b82e-b973f60d4d0b",
   "metadata": {},
   "outputs": [
    {
     "name": "stdout",
     "output_type": "stream",
     "text": [
      "+--------+----------+-----------------+------------------+--------------+--------------------------+--------------------+--------------------+-----------+---------------+\n",
      "|order_id|order_date|order_customer_id|order_details_desc|order_due_date|order_fact_completion_date|         order_parts|        repair_types|order_price|order_master_id|\n",
      "+--------+----------+-----------------+------------------+--------------+--------------------------+--------------------+--------------------+-----------+---------------+\n",
      "|  939218|2024-01-27|           290404|тяжелый, объемный.|    2024-03-24|                2024-04-11|          ['корпус']|['замена компонен...|   8642.847|          96520|\n",
      "|  416896|2024-01-26|           344599|объемный, тяжелый.|    2024-04-21|                2024-04-20|['аккумулятор', '...|['замена компонен...|  7869.5522|         717684|\n",
      "|  696901|2024-02-08|           500287| ценный, объемный.|    2024-04-01|                2024-04-13|['корпус', 'аккум...|['мелкие детали',...|   9180.905|         245954|\n",
      "|  672767|2024-01-14|           563995|  хрупкий, ценный.|    2024-03-28|                2024-04-06|      ['usb-разъем']|   ['мелкие детали']|  2213.3186|         827062|\n",
      "|  161952|2023-12-31|           524235| ценный, объемный.|    2024-03-29|                2024-03-30|['корпус', 'usb-р...|['анализ неисправ...|   8866.806|         678593|\n",
      "|  499582|2024-02-19|           682922| хрупкий, тяжелый.|    2024-03-30|                2024-03-24|['дисплей', 'usb-...|['пайка', 'замена...|   4436.582|         824261|\n",
      "|  782987|2024-01-10|           185734| хрупкий, тяжелый.|    2024-04-03|                2024-04-14|['дисплей', 'дисп...|           ['пайка']|    1992.56|          96520|\n",
      "|  271200|2023-12-27|           829204|  ценный, хрупкий.|    2024-04-15|                2024-04-06|['аккумулятор', '...|           ['пайка']|  5938.1333|         678593|\n",
      "|   93701|2024-02-02|           824162|  хрупкий, ценный.|    2024-04-02|                2024-04-16|['аккумулятор', '...|['мелкие детали',...|    2858.21|         377918|\n",
      "|  981664|2024-02-05|           809737|  ценный, хрупкий.|    2024-03-29|                2024-03-27|['корпус', 'usb-р...|['замена компонен...|    6790.77|         791839|\n",
      "|  872754|2024-02-04|           258409|объемный, хрупкий.|    2024-03-29|                2024-04-03|['аккумулятор', '...|['замена компонен...|   4518.904|         140834|\n",
      "|  214108|2024-02-14|           410014|  тяжелый, ценный.|    2024-04-17|                2024-04-18|['usb-разъем', 'д...|['анализ неисправ...|  2258.7341|         800991|\n",
      "|   35968|2024-02-06|           259626| хрупкий, тяжелый.|    2024-04-19|                2024-04-03|     ['аккумулятор']|['мелкие детали',...|    5993.34|         962470|\n",
      "|  122030|2024-02-05|           684839|  хрупкий, ценный.|    2024-04-11|                2024-03-26|['дисплей', 'корп...|['замена компонен...|  7637.9053|         979439|\n",
      "|  881244|2024-02-07|           318498| хрупкий, тяжелый.|    2024-04-05|                2024-04-19|['аккумулятор', '...|['замена компонен...|   5831.853|         717684|\n",
      "|  453054|2023-12-20|           999257|объемный, тяжелый.|    2024-04-08|                2024-03-30|         ['дисплей']|           ['пайка']|  3089.8987|         717684|\n",
      "|  428052|2023-12-31|           339737| тяжелый, хрупкий.|    2024-04-17|                2024-04-15|['корпус', 'корпу...|['анализ неисправ...|   3082.528|         325551|\n",
      "|  906450|2023-12-23|           549823| тяжелый, хрупкий.|    2024-03-25|                2024-03-28|['аккумулятор', '...|['мелкие детали',...|   4799.718|         406292|\n",
      "|  766044|2023-12-17|           416915| тяжелый, хрупкий.|    2024-03-26|                2024-04-03|     ['аккумулятор']|   ['мелкие детали']|   7512.854|         319301|\n",
      "|  489912|2024-02-12|           172851| объемный, ценный.|    2024-03-24|                2024-03-26|      ['usb-разъем']|['пайка', 'замена...|     8373.5|         979439|\n",
      "+--------+----------+-----------------+------------------+--------------+--------------------------+--------------------+--------------------+-----------+---------------+\n",
      "only showing top 20 rows\n",
      "\n"
     ]
    }
   ],
   "source": [
    "OrderDF.show()"
   ]
  },
  {
   "cell_type": "code",
   "execution_count": 17,
   "id": "effd53d1-9b43-45f9-96b7-111191800826",
   "metadata": {},
   "outputs": [
    {
     "name": "stdout",
     "output_type": "stream",
     "text": [
      "+-----------------+--------------------+\n",
      "|order_customer_id| order_customer_desc|\n",
      "+-----------------+--------------------+\n",
      "|           290404|Имя: Жанна Владис...|\n",
      "|           344599|Имя: Гаврила Авер...|\n",
      "|           500287|Имя: Орехова Нине...|\n",
      "|           563995|Имя: Котова Октяб...|\n",
      "|           524235|Имя: Гаврилов Гео...|\n",
      "|           682922|Имя: Дроздов Аник...|\n",
      "|           185734|Имя: Громов Евгра...|\n",
      "|           829204|Имя: Жанна Роберт...|\n",
      "|           824162|Имя: Нинель Олего...|\n",
      "|           809737|Имя: Жданов Аниси...|\n",
      "|           258409|Имя: тов. Петров ...|\n",
      "|           410014|Имя: Юрий Фролови...|\n",
      "|           259626|Имя: Алексеев Кор...|\n",
      "|           684839|Имя: Смирнова Дар...|\n",
      "|           318498|Имя: Самойлова Но...|\n",
      "|           999257|Имя: Онуфрий Герм...|\n",
      "|           339737|Имя: тов. Елисеев...|\n",
      "|           549823|Имя: Варвара Серг...|\n",
      "|           416915|Имя: Агафья Богда...|\n",
      "|           172851|Имя: Логинова Оль...|\n",
      "+-----------------+--------------------+\n",
      "only showing top 20 rows\n",
      "\n"
     ]
    }
   ],
   "source": [
    "CustomerDF.show()"
   ]
  },
  {
   "cell_type": "code",
   "execution_count": 31,
   "id": "8bc9c419",
   "metadata": {},
   "outputs": [],
   "source": [
    "import os\n",
    "import sys\n",
    "\n",
    "os.environ['PYSPARK_PYTHON'] = sys.executable\n",
    "os.environ['PYSPARK_DRIVER_PYTHON'] = sys.executable"
   ]
  },
  {
   "cell_type": "code",
   "execution_count": 13,
   "id": "6144239c-32de-46cb-b0eb-825554feec42",
   "metadata": {},
   "outputs": [
    {
     "name": "stderr",
     "output_type": "stream",
     "text": [
      "                                                                                \r"
     ]
    }
   ],
   "source": [
    "MasterDF.write.csv(path='hdfs://0.0.0.0:9000/master.csv',mode='overwrite', header=True)\n",
    "# MasterDF.write.csv('master.csv',mode='overwrite', header=True)"
   ]
  },
  {
   "cell_type": "code",
   "execution_count": 15,
   "id": "7213091b",
   "metadata": {},
   "outputs": [
    {
     "name": "stderr",
     "output_type": "stream",
     "text": [
      "/home/gwynbleidd/.local/lib/python3.8/site-packages/pyspark/sql/dataframe.py:329: FutureWarning: Deprecated in 2.0, use createOrReplaceTempView instead.\n",
      "  warnings.warn(\"Deprecated in 2.0, use createOrReplaceTempView instead.\", FutureWarning)\n"
     ]
    }
   ],
   "source": [
    "data = sparkSession.read.load(\"hdfs://localhost:9000/master.csv\", format=\"csv\",sep=\",\", inferSchema=\"true\", header=\"true\")\n",
    "data.registerTempTable(\"master\")"
   ]
  },
  {
   "cell_type": "code",
   "execution_count": 20,
   "id": "7f51a2e7",
   "metadata": {},
   "outputs": [
    {
     "name": "stdout",
     "output_type": "stream",
     "text": [
      "+---------+----------------------------------------+----------------------------------------+\n",
      "|master_id|                             master_desc|                        master_feedbacks|\n",
      "+---------+----------------------------------------+----------------------------------------+\n",
      "|    96520|Давыдова Александра Харитоновна, Стаж...|['аккуратный, медлительный.', 'медлит...|\n",
      "|   377918|Дьячков Евстигней Гаврилович, Стаж Ра...|              ['ворчливый, аккуратный.']|\n",
      "|   185439|Никонова Нинель Болеславовна, Стаж Ра...|['медлительный, ворчливый.', 'ворчлив...|\n",
      "|   717684|Михеев Тарас Теймуразович, Тип Образо...|['ворчливый, медлительный.', 'аккурат...|\n",
      "|   827062|Никонова Наталья Юрьевна, Тип Образов...|['аккуратный, ворчливый.', 'медлитель...|\n",
      "|   678593|Беляева Ульяна Афанасьевна, Тип Образ...|['аккуратный, медлительный.', 'ворчли...|\n",
      "|   374562|Лора Матвеевна Шарапова, Стаж Работы:...|['медлительный, аккуратный.', 'медлит...|\n",
      "|   406292|Сильвестр Ерофеевич Филиппов, Стаж Ра...|              ['ворчливый, аккуратный.']|\n",
      "|   824261|Фёкла Аскольдовна Нестерова, Тип Обра...|['ворчливый, медлительный.', 'ворчлив...|\n",
      "|   490853|Святополк Герасимович Трофимов, Стаж ...|['аккуратный, ворчливый.', 'медлитель...|\n",
      "|   618529|Аполлон Харитонович Афанасьев, Стаж Р...|['медлительный, аккуратный.', 'ворчли...|\n",
      "|   791839|Август Дорофеевич Кошелев, Стаж Работ...|            ['медлительный, ворчливый.']|\n",
      "|   800991|Сысоев Селиверст Елизарович, Тип Обра...|['аккуратный, ворчливый.', 'ворчливый...|\n",
      "|   979439|Никанор Всеволодович Агафонов, Тип Об...|['аккуратный, медлительный.', 'ворчли...|\n",
      "|   245954|Леон Власович Хохлов, Тип Образования...|['аккуратный, медлительный.', 'ворчли...|\n",
      "|   303644|Гордеева Виктория Даниловна, Стаж Раб...|            ['ворчливый, медлительный.']|\n",
      "|   962470|Мокей Матвеевич Ефремов, Стаж Работы:...|['медлительный, ворчливый.', 'аккурат...|\n",
      "|   319301|Громова Жанна Богдановна, Тип Образов...|['ворчливый, аккуратный.', 'ворчливый...|\n",
      "|   325551|Фадеев Демид Адамович, Стаж Работы: 1...|['медлительный, ворчливый.', 'ворчлив...|\n",
      "|   140834|Анна Валентиновна Сазонова, Стаж Рабо...|            ['медлительный, ворчливый.']|\n",
      "+---------+----------------------------------------+----------------------------------------+\n",
      "\n"
     ]
    }
   ],
   "source": [
    "result = sparkSession.sql(\"\"\"select * from master\n",
    "\"\"\")\n",
    "result.show(20, 40)"
   ]
  },
  {
   "cell_type": "code",
   "execution_count": 146,
   "id": "e0eeda79-6c99-46e3-9e79-5b4363cc5d44",
   "metadata": {},
   "outputs": [],
   "source": [
    "# OrderDF.write.csv(path='hdfs://localhost:9010/orders.csv',mode='overwrite', header=True)"
   ]
  },
  {
   "cell_type": "code",
   "execution_count": 27,
   "id": "4d34b37d-5d18-4101-8471-c782f16911d6",
   "metadata": {},
   "outputs": [
    {
     "ename": "NameError",
     "evalue": "name 'CustomerDF' is not defined",
     "output_type": "error",
     "traceback": [
      "\u001b[0;31m---------------------------------------------------------------------------\u001b[0m",
      "\u001b[0;31mNameError\u001b[0m                                 Traceback (most recent call last)",
      "\u001b[0;32m/tmp/ipykernel_9904/3491487584.py\u001b[0m in \u001b[0;36m<module>\u001b[0;34m\u001b[0m\n\u001b[1;32m      1\u001b[0m \u001b[0;31m# CustomerDF.write.csv(path='hdfs://localhost:9010/customer.csv',mode='overwrite', header=True)\u001b[0m\u001b[0;34m\u001b[0m\u001b[0;34m\u001b[0m\u001b[0;34m\u001b[0m\u001b[0m\n\u001b[0;32m----> 2\u001b[0;31m \u001b[0mCustomerDF\u001b[0m\u001b[0;34m.\u001b[0m\u001b[0mwrite\u001b[0m\u001b[0;34m.\u001b[0m\u001b[0mcsv\u001b[0m\u001b[0;34m(\u001b[0m\u001b[0mpath\u001b[0m\u001b[0;34m=\u001b[0m\u001b[0;34m'hdfs://namenode:8020/customer.csv'\u001b[0m\u001b[0;34m,\u001b[0m\u001b[0mmode\u001b[0m\u001b[0;34m=\u001b[0m\u001b[0;34m'overwrite'\u001b[0m\u001b[0;34m,\u001b[0m \u001b[0mheader\u001b[0m\u001b[0;34m=\u001b[0m\u001b[0;32mTrue\u001b[0m\u001b[0;34m)\u001b[0m\u001b[0;34m\u001b[0m\u001b[0;34m\u001b[0m\u001b[0m\n\u001b[0m",
      "\u001b[0;31mNameError\u001b[0m: name 'CustomerDF' is not defined"
     ]
    }
   ],
   "source": [
    "# CustomerDF.write.csv(path='hdfs://localhost:9010/customer.csv',mode='overwrite', header=True)\n",
    "CustomerDF.write.csv(path='hdfs://namenode:9000/customer.csv',mode='overwrite', header=True)"
   ]
  },
  {
   "cell_type": "code",
   "execution_count": null,
   "id": "3ce7e46f-f4e0-49af-9233-021433628fe2",
   "metadata": {},
   "outputs": [],
   "source": []
  },
  {
   "cell_type": "code",
   "execution_count": null,
   "id": "9013f10c-5ab6-4941-a02c-a629b09cbc87",
   "metadata": {},
   "outputs": [],
   "source": []
  },
  {
   "cell_type": "code",
   "execution_count": null,
   "id": "c25bcd7c-5eb1-4360-88a2-2f77f4294eeb",
   "metadata": {},
   "outputs": [],
   "source": []
  },
  {
   "cell_type": "code",
   "execution_count": 4,
   "id": "15532f47-a4ee-485c-b012-46fa1709f4b9",
   "metadata": {},
   "outputs": [],
   "source": [
    "sparkSession.stop()"
   ]
  },
  {
   "cell_type": "code",
   "execution_count": null,
   "id": "1e10260e-d61e-4437-9b09-7e6bc1db7609",
   "metadata": {},
   "outputs": [],
   "source": []
  }
 ],
 "metadata": {
  "kernelspec": {
   "display_name": "Python 3 (ipykernel)",
   "language": "python",
   "name": "python3"
  },
  "language_info": {
   "codemirror_mode": {
    "name": "ipython",
    "version": 3
   },
   "file_extension": ".py",
   "mimetype": "text/x-python",
   "name": "python",
   "nbconvert_exporter": "python",
   "pygments_lexer": "ipython3",
   "version": "3.8.10"
  }
 },
 "nbformat": 4,
 "nbformat_minor": 5
}
