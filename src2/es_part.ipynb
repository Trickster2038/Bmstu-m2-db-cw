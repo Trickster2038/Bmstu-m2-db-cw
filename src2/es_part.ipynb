{
 "cells": [
  {
   "cell_type": "markdown",
   "id": "b8f370b3-392d-4923-a361-19fa51ca6a08",
   "metadata": {},
   "source": [
    "# ElasticSearch \n",
    "\n",
    "Image: https://hub.docker.com/r/bitnami/elasticsearch#!&_escaped_fragment_=\n",
    "\n",
    "Ports: 9200, 9201, 9300\n",
    "Mount: -v /path/to/elasticsearch-data-persistence:/bitnami/elasticsearch/data\n",
    "\n",
    "curl -XPUT -H \"Content-Type: application/json\" http://localhost:9200/_cluster/settings -d '{ \"transient\": { \"cluster.routing.allocation.disk.threshold_enabled\": false } }'\n",
    "\n",
    "curl -XPUT -H \"Content-Type: application/json\" http://localhost:9200/_all/_settings -d '{\"index.blocks.read_only_allow_delete\": null}\n",
    "\n",
    "\n",
    "http://localhost:9200/?pretty\n",
    "\n",
    "Array mapping: https://stackoverflow.com/questions/67581594/elasticsearch-mapping-for-array\n",
    "\n",
    "Habr guide: https://habr.com/ru/articles/280488/'"
   ]
  },
  {
   "cell_type": "markdown",
   "id": "e0e889a6-9a43-49b0-a5a4-1d00ae6e69b0",
   "metadata": {},
   "source": [
    "# Kibana\n",
    "\n",
    "Image: https://github.com/bitnami/containers/tree/main/bitnami/kibana\n",
    "\n",
    "\n",
    "docker network create kibana_network\n",
    "\n",
    "docker run -d -p 9200:9200 --name elasticsearch --net=kibana_network bitnami/elasticsearch\n",
    "\n",
    "docker run -d -p 5601:5601 --name kibana --net=kibana_network  -e KIBANA_ELASTICSEARCH_URL=elasticsearch   bitnami/kiba\n",
    "\n",
    "\n",
    "docker run -v /path/to/kibana-persistence:/bitnami/kibana bitnami/kibana:latest\n",
    "na"
   ]
  },
  {
   "cell_type": "markdown",
   "id": "c93b3b3a-f7f1-42d7-8184-35c2a2ce21dd",
   "metadata": {},
   "source": [
    "# Conatiners\n",
    "\n",
    "## elasticsearch\n",
    "\n",
    "```bash\n",
    "docker run -d -p 9200:9200 -v \"C:\\Users\\sergey.astakhov\\Desktop\\volumes\\elastic_search_volume\":/bitnami/elasticsearch/data --name elasticsearch --net=kibana_network bitnami/elasticsearch\n",
    "```\n",
    "\n",
    "## kibana\n",
    "\n",
    "```bash\n",
    "docker run -d -p 5601:5601 -v C:\\Users\\sergey.astakhov\\Desktop\\volumes\\kibana_volume:/bitnami/kibana --name kibana --net=kibana_network -e KIBANA_ELASTICSEARCH_URL=elasticsearch bitnami/kibana\n",
    "```"
   ]
  },
  {
   "cell_type": "markdown",
   "id": "c12a2735-b280-4922-871d-a9f9221a4313",
   "metadata": {},
   "source": [
    "All orders: http://localhost:9200/order/_search?pretty\n",
    "\n",
    "All masters: http://localhost:9200/master/_search?pretty\n",
    "\n",
    "Dashboard: http://localhost:5601/app/dashboards#/view/bdcf6af3-3542-4936-94fd-b0f04e3dcc86?_g=(filters:!(),refreshInterval:(pause:!t,value:60000),time:(from:'2023-12-15T00:00:00.000Z',to:'2024-02-21T00:00:00.000Z'))"
   ]
  },
  {
   "cell_type": "code",
   "execution_count": 156,
   "id": "27fcccd7-d453-4cf6-879b-cc8864068c32",
   "metadata": {},
   "outputs": [
    {
     "data": {
      "text/html": [
       "<iframe src=\"http://localhost:5601/app/dashboards#/view/bdcf6af3-3542-4936-94fd-b0f04e3dcc86?embed=true&_g=(refreshInterval:(pause:!t,value:60000),time:(from:'2023-12-15T00:00:00.000Z',to:'2024-02-21T00:00:00.000Z'))&_a=()\" height=\"600\" width=\"800\"></iframe>\n"
      ],
      "text/plain": [
       "<IPython.core.display.HTML object>"
      ]
     },
     "metadata": {},
     "output_type": "display_data"
    }
   ],
   "source": [
    "# %%html\n",
    "# <iframe src=\"http://localhost:5601/app/dashboards#/view/bdcf6af3-3542-4936-94fd-b0f04e3dcc86?embed=true&_g=(refreshInterval:(pause:!t,value:60000),time:(from:'2023-12-15T00:00:00.000Z',to:'2024-02-21T00:00:00.000Z'))&_a=()\" height=\"600\" width=\"800\"></iframe>"
   ]
  },
  {
   "cell_type": "code",
   "execution_count": 4,
   "id": "2e229e4c-1f51-4d23-9984-9f61ed2b4ff9",
   "metadata": {},
   "outputs": [],
   "source": [
    "# import requests"
   ]
  },
  {
   "cell_type": "code",
   "execution_count": 5,
   "id": "459b4546-53df-4ffc-942c-812eb8fec996",
   "metadata": {},
   "outputs": [],
   "source": [
    "# r = requests.get('http://127.0.0.1:5601/api/kibana/dashboards/export?dashboard=bdcf6af3-3542-4936-94fd-b0f04e3dcc86')"
   ]
  },
  {
   "cell_type": "code",
   "execution_count": 6,
   "id": "eaab22b6-81e8-41c6-89d8-195c51e15e04",
   "metadata": {},
   "outputs": [],
   "source": [
    "# import json\n",
    "# with open('../dashboard.json', 'w') as fp:\n",
    "#     json.dump(r.json(), fp)"
   ]
  },
  {
   "cell_type": "code",
   "execution_count": 7,
   "id": "71bb2752-107c-46ce-84d9-3ee0011ddad9",
   "metadata": {},
   "outputs": [],
   "source": [
    "# r = requests.put('http://localhost:9200/_cluster/settings', json={ \"transient\": { \"cluster.routing.allocation.disk.threshold_enabled\": False } })"
   ]
  },
  {
   "cell_type": "code",
   "execution_count": 8,
   "id": "2699974c-b0bc-4c62-8553-0363eca4f6fe",
   "metadata": {},
   "outputs": [],
   "source": [
    "# r.json()"
   ]
  },
  {
   "cell_type": "code",
   "execution_count": 6,
   "id": "d71c7012-3f15-4e09-9a36-e15286cfa82b",
   "metadata": {},
   "outputs": [],
   "source": [
    "# r = requests.put('http://localhost:9200/_all/_settings', json={\"index.blocks.read_only_allow_delete\": None})"
   ]
  },
  {
   "cell_type": "code",
   "execution_count": 11,
   "id": "c91a2160-d30e-47e9-8488-a5aa1dd63c3b",
   "metadata": {},
   "outputs": [],
   "source": [
    "# r.json()"
   ]
  },
  {
   "cell_type": "code",
   "execution_count": 3,
   "id": "5fc39aa9-71ff-45e1-bf85-648d8eb417c0",
   "metadata": {},
   "outputs": [],
   "source": [
    "import warnings\n",
    "warnings.filterwarnings('ignore')\n",
    "warnings.filterwarnings('error', category=DeprecationWarning)"
   ]
  },
  {
   "cell_type": "code",
   "execution_count": 4,
   "id": "d3e6820f-5bb7-452d-b7de-7056fb366d19",
   "metadata": {},
   "outputs": [],
   "source": [
    "import json\n",
    "from elasticsearch import Elasticsearch"
   ]
  },
  {
   "cell_type": "code",
   "execution_count": 5,
   "id": "cc6378f1-1a20-4cdb-8927-a7e394486fb0",
   "metadata": {},
   "outputs": [
    {
     "data": {
      "text/plain": [
       "True"
      ]
     },
     "execution_count": 5,
     "metadata": {},
     "output_type": "execute_result"
    }
   ],
   "source": [
    "client = Elasticsearch([{\"host\": \"127.0.0.1\", \"scheme\": \"http\", \"port\": 9200}])\n",
    "\n",
    "client.ping()"
   ]
  },
  {
   "cell_type": "markdown",
   "id": "9cb9883a-3b6e-4b8a-8135-3023a0c9f706",
   "metadata": {},
   "source": [
    "# Index 1 - orders"
   ]
  },
  {
   "cell_type": "code",
   "execution_count": 69,
   "id": "7af31192-b442-4743-ba6f-abb85f060f44",
   "metadata": {},
   "outputs": [],
   "source": [
    "indexName = \"order\"\n",
    "if client.indices.exists(index=indexName):\n",
    "    client.indices.delete(index=indexName)"
   ]
  },
  {
   "cell_type": "code",
   "execution_count": 70,
   "id": "6bdb00b5-1281-4e19-9195-0b1bf352df5f",
   "metadata": {},
   "outputs": [],
   "source": [
    "analyzer_settings = {\n",
    "  \"settings\": {\n",
    "    \"analysis\": {\n",
    "      \"filter\": {\n",
    "        \"ru_stop\": {\n",
    "          \"type\": \"stop\",\n",
    "          \"stopwords\": \"_russian_\"\n",
    "        },\n",
    "        \"snow_ru_stemmer\": {\n",
    "          \"type\": \"snowball\",\n",
    "          \"language\": \"russian\"\n",
    "        }\n",
    "      },\n",
    "      \"analyzer\": {\n",
    "        \"custom_analyzer\": {\n",
    "          \"type\": \"custom\",\n",
    "          \"tokenizer\": \"standard\",\n",
    "          \"filter\": [\n",
    "            \"lowercase\",\n",
    "            \"ru_stop\",\n",
    "            \"snow_ru_stemmer\"\n",
    "          ]\n",
    "        }\n",
    "      }\n",
    "    }\n",
    "  }\n",
    "}"
   ]
  },
  {
   "cell_type": "code",
   "execution_count": 71,
   "id": "7d91f528-ae98-4681-9489-a18ef7c38298",
   "metadata": {},
   "outputs": [
    {
     "data": {
      "text/plain": [
       "ObjectApiResponse({'acknowledged': True, 'shards_acknowledged': True, 'index': 'order'})"
      ]
     },
     "execution_count": 71,
     "metadata": {},
     "output_type": "execute_result"
    }
   ],
   "source": [
    "mappings_order = {\n",
    "\"mappings\" : {\n",
    "  \"properties\" : {\n",
    "    \"order_customer_desc\" : {\n",
    "      \"type\" : \"text\",\n",
    "      \"analyzer\": \"custom_analyzer\"\n",
    "    },\n",
    "    \"order_customer_id\" : {\n",
    "      \"type\" : \"long\"\n",
    "    },\n",
    "    \"order_date\" : {\n",
    "      \"type\" : \"date\"\n",
    "    },\n",
    "    \"order_details_desc\" : {\n",
    "      \"type\" : \"text\",\n",
    "      \"analyzer\": \"custom_analyzer\"\n",
    "    },\n",
    "    \"order_due_date\" : {\n",
    "      \"type\" : \"date\"\n",
    "    },\n",
    "    \"order_fact_completion_date\" : {\n",
    "      \"type\" : \"date\"\n",
    "    },\n",
    "    \"order_id\" : {\n",
    "      \"type\" : \"long\"\n",
    "    },\n",
    "    \"order_master_id\" : {\n",
    "      \"type\" : \"long\"\n",
    "    },\n",
    "    \"order_parts\" : {\n",
    "      \"type\" : \"text\",\n",
    "      \"fielddata\" : True,\n",
    "      \"fields\" : {\n",
    "        \"keyword\" : {\n",
    "          \"type\" : \"keyword\"\n",
    "#           ,\"analyzer\": \"custom_analyzer\"\n",
    "        }\n",
    "      }\n",
    "      ,\"analyzer\": \"custom_analyzer\"\n",
    "    },\n",
    "    \"order_price\" : {\n",
    "      \"type\" : \"float\"\n",
    "    },\n",
    "    \"repair_types\" : {\n",
    "      \"type\" : \"text\",\n",
    "      \"fields\" : {\n",
    "        \"keyword\" : {\n",
    "          \"type\" : \"keyword\"\n",
    "#           ,\"analyzer\": \"custom_analyzer\"\n",
    "        }\n",
    "      }\n",
    "      ,\"analyzer\": \"custom_analyzer\"\n",
    "    }\n",
    "  }\n",
    "}\n",
    "}\n",
    "\n",
    "\n",
    "client.indices.create(index=indexName, \n",
    "                            # doc_type=\"diseases\", \n",
    "                           # include_type_name=\"true\", \n",
    "                           body={**analyzer_settings\n",
    "                                 , **mappings_order\n",
    "                                }\n",
    "                          )"
   ]
  },
  {
   "cell_type": "code",
   "execution_count": 72,
   "id": "47749078-1564-415e-95f4-20c5f09c92da",
   "metadata": {},
   "outputs": [
    {
     "name": "stdout",
     "output_type": "stream",
     "text": [
      "index 'order' data inserted\n"
     ]
    }
   ],
   "source": [
    "with open('../orders.json', 'r') as f:\n",
    "    dataStore = json.load(f)\n",
    "\n",
    "for data in dataStore:\n",
    "    try:\n",
    "        client.index(\n",
    "            index=data[\"index\"],\n",
    "            # doc_type=data[\"doc_type\"],\n",
    "            id=data[\"id\"],\n",
    "            body=data[\"body\"]\n",
    "        )\n",
    "    except Exception as e:\n",
    "        print(e, end=\"\")\n",
    "print(\"index 'order' data inserted\")"
   ]
  },
  {
   "cell_type": "markdown",
   "id": "73e2d1bf-1953-40f6-a58f-ff2abb707178",
   "metadata": {},
   "source": [
    "# Query 1 - orders"
   ]
  },
  {
   "cell_type": "code",
   "execution_count": 73,
   "id": "a78ea2c3-c59c-4f59-ad81-50f880af476f",
   "metadata": {},
   "outputs": [],
   "source": [
    "indexName = \"order\"\n",
    "\n",
    "searchBody = {\n",
    "#   \"size\": searchSize,\n",
    "  \"_source\": True,\n",
    "  \"aggs\": {\n",
    "    \"over_months\": {\n",
    "      \"date_histogram\": {\n",
    "        \"field\": \"order_date\",\n",
    "        \"calendar_interval\": \"month\",\n",
    "        \"format\": \"yyyy-MM-dd\" # control the output format\n",
    "      },\n",
    "        \"aggs\":{\n",
    "            \"over_parts\": {\n",
    "              \"terms\": {\n",
    "                \"field\": \"order_parts.keyword\"\n",
    "              }\n",
    "            }\n",
    "        }\n",
    "    }\n",
    "  }\n",
    "}\n",
    "\n",
    "result = client.search(index=indexName, body=searchBody)"
   ]
  },
  {
   "cell_type": "code",
   "execution_count": 74,
   "id": "4365eae8-a97f-49c2-a6fc-370cea8a00eb",
   "metadata": {},
   "outputs": [
    {
     "data": {
      "text/plain": [
       "[{'key_as_string': '2023-12-01',\n",
       "  'key': 1701388800000,\n",
       "  'doc_count': 13,\n",
       "  'over_parts': {'doc_count_error_upper_bound': 0,\n",
       "   'sum_other_doc_count': 0,\n",
       "   'buckets': [{'key': 'usb-разъем', 'doc_count': 5},\n",
       "    {'key': 'дисплей', 'doc_count': 4},\n",
       "    {'key': 'корпус', 'doc_count': 4},\n",
       "    {'key': 'аккумулятор', 'doc_count': 3}]}},\n",
       " {'key_as_string': '2024-01-01',\n",
       "  'key': 1704067200000,\n",
       "  'doc_count': 48,\n",
       "  'over_parts': {'doc_count_error_upper_bound': 0,\n",
       "   'sum_other_doc_count': 0,\n",
       "   'buckets': [{'key': 'usb-разъем', 'doc_count': 23},\n",
       "    {'key': 'дисплей', 'doc_count': 22},\n",
       "    {'key': 'корпус', 'doc_count': 18},\n",
       "    {'key': 'аккумулятор', 'doc_count': 16}]}},\n",
       " {'key_as_string': '2024-02-01',\n",
       "  'key': 1706745600000,\n",
       "  'doc_count': 37,\n",
       "  'over_parts': {'doc_count_error_upper_bound': 0,\n",
       "   'sum_other_doc_count': 0,\n",
       "   'buckets': [{'key': 'дисплей', 'doc_count': 19},\n",
       "    {'key': 'usb-разъем', 'doc_count': 14},\n",
       "    {'key': 'аккумулятор', 'doc_count': 14},\n",
       "    {'key': 'корпус', 'doc_count': 14}]}},\n",
       " {'key_as_string': '2024-03-01',\n",
       "  'key': 1709251200000,\n",
       "  'doc_count': 2,\n",
       "  'over_parts': {'doc_count_error_upper_bound': 0,\n",
       "   'sum_other_doc_count': 0,\n",
       "   'buckets': [{'key': 'usb-разъем', 'doc_count': 1},\n",
       "    {'key': 'аккумулятор', 'doc_count': 1},\n",
       "    {'key': 'корпус', 'doc_count': 1}]}}]"
      ]
     },
     "execution_count": 74,
     "metadata": {},
     "output_type": "execute_result"
    }
   ],
   "source": [
    "result['aggregations']['over_months']['buckets']"
   ]
  },
  {
   "cell_type": "code",
   "execution_count": 76,
   "id": "60c66a0f",
   "metadata": {},
   "outputs": [],
   "source": [
    "indexName = \"order\"\n",
    "\n",
    "searchBody = {\n",
    "#   \"size\": searchSize,\n",
    "  \"_source\": True,\n",
    "  \"aggs\": {\n",
    "    \"over_months\": {\n",
    "      \"date_histogram\": {\n",
    "        \"field\": \"order_date\",\n",
    "        \"calendar_interval\": \"month\",\n",
    "        \"format\": \"yyyy-MM-dd\" # control the output format\n",
    "      },\n",
    "        \"aggs\":{\n",
    "            \"over_parts\": {\n",
    "              \"terms\": {\n",
    "                \"field\": \"order_parts\"\n",
    "              }\n",
    "            }\n",
    "        }\n",
    "    }\n",
    "  }\n",
    "}\n",
    "\n",
    "result = client.search(index=indexName, body=searchBody)"
   ]
  },
  {
   "cell_type": "code",
   "execution_count": 77,
   "id": "81ef9ea7",
   "metadata": {},
   "outputs": [
    {
     "data": {
      "text/plain": [
       "[{'key_as_string': '2023-12-01',\n",
       "  'key': 1701388800000,\n",
       "  'doc_count': 13,\n",
       "  'over_parts': {'doc_count_error_upper_bound': 0,\n",
       "   'sum_other_doc_count': 0,\n",
       "   'buckets': [{'key': 'usb', 'doc_count': 5},\n",
       "    {'key': 'разъ', 'doc_count': 5},\n",
       "    {'key': 'диспл', 'doc_count': 4},\n",
       "    {'key': 'корпус', 'doc_count': 4},\n",
       "    {'key': 'аккумулятор', 'doc_count': 3}]}},\n",
       " {'key_as_string': '2024-01-01',\n",
       "  'key': 1704067200000,\n",
       "  'doc_count': 48,\n",
       "  'over_parts': {'doc_count_error_upper_bound': 0,\n",
       "   'sum_other_doc_count': 0,\n",
       "   'buckets': [{'key': 'usb', 'doc_count': 23},\n",
       "    {'key': 'разъ', 'doc_count': 23},\n",
       "    {'key': 'диспл', 'doc_count': 22},\n",
       "    {'key': 'корпус', 'doc_count': 18},\n",
       "    {'key': 'аккумулятор', 'doc_count': 16}]}},\n",
       " {'key_as_string': '2024-02-01',\n",
       "  'key': 1706745600000,\n",
       "  'doc_count': 37,\n",
       "  'over_parts': {'doc_count_error_upper_bound': 0,\n",
       "   'sum_other_doc_count': 0,\n",
       "   'buckets': [{'key': 'диспл', 'doc_count': 19},\n",
       "    {'key': 'usb', 'doc_count': 14},\n",
       "    {'key': 'аккумулятор', 'doc_count': 14},\n",
       "    {'key': 'корпус', 'doc_count': 14},\n",
       "    {'key': 'разъ', 'doc_count': 14}]}},\n",
       " {'key_as_string': '2024-03-01',\n",
       "  'key': 1709251200000,\n",
       "  'doc_count': 2,\n",
       "  'over_parts': {'doc_count_error_upper_bound': 0,\n",
       "   'sum_other_doc_count': 0,\n",
       "   'buckets': [{'key': 'usb', 'doc_count': 1},\n",
       "    {'key': 'аккумулятор', 'doc_count': 1},\n",
       "    {'key': 'корпус', 'doc_count': 1},\n",
       "    {'key': 'разъ', 'doc_count': 1}]}}]"
      ]
     },
     "execution_count": 77,
     "metadata": {},
     "output_type": "execute_result"
    }
   ],
   "source": [
    "result['aggregations']['over_months']['buckets']"
   ]
  },
  {
   "cell_type": "markdown",
   "id": "fdc6c680-36d0-4524-8c27-13138a20316d",
   "metadata": {},
   "source": [
    "# Index 2 - masters"
   ]
  },
  {
   "cell_type": "code",
   "execution_count": 56,
   "id": "e93f44d3-17eb-4958-a6f1-5952c9f3f28b",
   "metadata": {},
   "outputs": [],
   "source": [
    "indexName = \"master\"\n",
    "if client.indices.exists(index=indexName):\n",
    "    client.indices.delete(index=indexName)"
   ]
  },
  {
   "cell_type": "code",
   "execution_count": 57,
   "id": "2a377895-7a81-4ee8-932c-29e0cdb0c3a6",
   "metadata": {},
   "outputs": [
    {
     "data": {
      "text/plain": [
       "ObjectApiResponse({'acknowledged': True, 'shards_acknowledged': True, 'index': 'master'})"
      ]
     },
     "execution_count": 57,
     "metadata": {},
     "output_type": "execute_result"
    }
   ],
   "source": [
    "mappings_master = {\n",
    "\"mappings\" : {\n",
    "      \"properties\" : {\n",
    "        \"master_desc\" : {\n",
    "          \"type\" : \"text\",\n",
    "          \"analyzer\": \"custom_analyzer\"\n",
    "        },\n",
    "        \"master_feedbacks\" : {\n",
    "          \"type\" : \"text\",\n",
    "          \"fields\" : {\n",
    "            \"keyword\" : {\n",
    "              \"type\" : \"keyword\"\n",
    "            }\n",
    "          }\n",
    "          ,\"analyzer\": \"custom_analyzer\"\n",
    "        },\n",
    "        \"master_id\" : {\n",
    "          \"type\" : \"long\"\n",
    "        }\n",
    "      }\n",
    "}\n",
    "}\n",
    "\n",
    "client.indices.create(index=indexName, \n",
    "                            # doc_type=\"diseases\", \n",
    "                           # include_type_name=\"true\", \n",
    "                           body={**analyzer_settings\n",
    "                                 , **mappings_master\n",
    "                                }\n",
    "                          )"
   ]
  },
  {
   "cell_type": "code",
   "execution_count": 58,
   "id": "a125df34-41a5-491d-bcee-badef13dfee0",
   "metadata": {},
   "outputs": [
    {
     "name": "stdout",
     "output_type": "stream",
     "text": [
      "index 'master' data inserted\n"
     ]
    }
   ],
   "source": [
    "with open('../masters.json', 'r') as f:\n",
    "    dataStore = json.load(f)\n",
    "\n",
    "for data in dataStore:\n",
    "    try:\n",
    "        client.index(\n",
    "            index=data[\"index\"],\n",
    "            # doc_type=data[\"doc_type\"],\n",
    "            id=data[\"id\"],\n",
    "            body=data[\"body\"]\n",
    "        )\n",
    "    except Exception as e:\n",
    "        print(e, end=\"\")\n",
    "print(\"index 'master' data inserted\")"
   ]
  },
  {
   "cell_type": "markdown",
   "id": "1118b9f7-91bc-4575-a767-2bffe6ae0358",
   "metadata": {},
   "source": [
    "# Query 2 - masters"
   ]
  },
  {
   "cell_type": "code",
   "execution_count": 63,
   "id": "f2023953-ef62-4de6-b70f-89ac3cbaf620",
   "metadata": {},
   "outputs": [],
   "source": [
    "indexName = \"master\"\n",
    "\n",
    "searchBody = {\n",
    "  \"_source\": True, #[\"master_desc\"], # True - all data\n",
    "  \"query\": {\n",
    "    \"match\": {\n",
    "      \"master_desc\": \"стажа\"\n",
    "    }\n",
    "  }\n",
    "#   ,\"size\": searchSize\n",
    "}\n",
    "\n",
    "result = client.search(index=indexName, body=searchBody)"
   ]
  },
  {
   "cell_type": "code",
   "execution_count": 64,
   "id": "5f4d8662-958a-4783-be6c-9bb50976a1ad",
   "metadata": {},
   "outputs": [
    {
     "data": {
      "text/plain": [
       "{'total': {'value': 8, 'relation': 'eq'},\n",
       " 'max_score': 0.8435577,\n",
       " 'hits': [{'_index': 'master',\n",
       "   '_type': '_doc',\n",
       "   '_id': '22653',\n",
       "   '_score': 0.8435577,\n",
       "   '_source': {'master_id': 22653,\n",
       "    'master_desc': 'Акулина Рудольфовна Никитина, Стаж Работы: 15 Л./Г..',\n",
       "    'master_feedbacks': ['ворчливый, аккуратный.',\n",
       "     'ворчливый, медлительный.']}},\n",
       "  {'_index': 'master',\n",
       "   '_type': '_doc',\n",
       "   '_id': '300714',\n",
       "   '_score': 0.8435577,\n",
       "   '_source': {'master_id': 300714,\n",
       "    'master_desc': 'Вероника Петровна Силина, Стаж Работы: 12 Л./Г..',\n",
       "    'master_feedbacks': ['ворчливый, медлительный.',\n",
       "     'ворчливый, аккуратный.']}},\n",
       "  {'_index': 'master',\n",
       "   '_type': '_doc',\n",
       "   '_id': '405064',\n",
       "   '_score': 0.8435577,\n",
       "   '_source': {'master_id': 405064,\n",
       "    'master_desc': 'Хохлов Олег Харлампьевич, Стаж Работы: 3 Л./Г..',\n",
       "    'master_feedbacks': ['ворчливый, медлительный.',\n",
       "     'ворчливый, аккуратный.',\n",
       "     'ворчливый, аккуратный.']}},\n",
       "  {'_index': 'master',\n",
       "   '_type': '_doc',\n",
       "   '_id': '257458',\n",
       "   '_score': 0.8435577,\n",
       "   '_source': {'master_id': 257458,\n",
       "    'master_desc': 'Шестакова Наина Владиславовна, Стаж Работы: 9 Л./Г..',\n",
       "    'master_feedbacks': ['аккуратный, ворчливый.', 'ворчливый, аккуратный.']}},\n",
       "  {'_index': 'master',\n",
       "   '_type': '_doc',\n",
       "   '_id': '814777',\n",
       "   '_score': 0.8435577,\n",
       "   '_source': {'master_id': 814777,\n",
       "    'master_desc': 'Шарова Жанна Аркадьевна, Стаж Работы: 1 Л./Г..',\n",
       "    'master_feedbacks': ['ворчливый, медлительный.',\n",
       "     'медлительный, аккуратный.',\n",
       "     'ворчливый, медлительный.']}},\n",
       "  {'_index': 'master',\n",
       "   '_type': '_doc',\n",
       "   '_id': '847121',\n",
       "   '_score': 0.8435577,\n",
       "   '_source': {'master_id': 847121,\n",
       "    'master_desc': 'Жуков Ладимир Всеволодович, Стаж Работы: 12 Л./Г..',\n",
       "    'master_feedbacks': ['медлительный, ворчливый.',\n",
       "     'аккуратный, медлительный.']}},\n",
       "  {'_index': 'master',\n",
       "   '_type': '_doc',\n",
       "   '_id': '163543',\n",
       "   '_score': 0.8435577,\n",
       "   '_source': {'master_id': 163543,\n",
       "    'master_desc': 'Максимильян Виленович Гурьев, Стаж Работы: 11 Л./Г..',\n",
       "    'master_feedbacks': ['аккуратный, медлительный.']}},\n",
       "  {'_index': 'master',\n",
       "   '_type': '_doc',\n",
       "   '_id': '785701',\n",
       "   '_score': 0.8435577,\n",
       "   '_source': {'master_id': 785701,\n",
       "    'master_desc': 'Панфилова Пелагея Игоревна, Стаж Работы: 8 Л./Г..',\n",
       "    'master_feedbacks': ['медлительный, аккуратный.',\n",
       "     'медлительный, ворчливый.']}}]}"
      ]
     },
     "execution_count": 64,
     "metadata": {},
     "output_type": "execute_result"
    }
   ],
   "source": [
    "result['hits']"
   ]
  },
  {
   "cell_type": "code",
   "execution_count": null,
   "id": "6a926e87-2a60-4c6d-9184-bb999903c603",
   "metadata": {},
   "outputs": [],
   "source": []
  },
  {
   "cell_type": "code",
   "execution_count": null,
   "id": "0f1b7cfb-0fba-44bd-af65-d1586b3b5f60",
   "metadata": {},
   "outputs": [],
   "source": [
    "# analyzer snowball filter"
   ]
  },
  {
   "cell_type": "code",
   "execution_count": null,
   "id": "259e71b2-36f7-42ba-9931-a52df5896a5f",
   "metadata": {},
   "outputs": [],
   "source": [
    "# analyzer for 2 fields"
   ]
  },
  {
   "cell_type": "code",
   "execution_count": null,
   "id": "66eebfab",
   "metadata": {},
   "outputs": [],
   "source": [
    "# kibana console"
   ]
  },
  {
   "cell_type": "code",
   "execution_count": null,
   "id": "27c06e10",
   "metadata": {},
   "outputs": [],
   "source": [
    "GET order/_search\n",
    "{\n",
    "  \"aggs\": {\n",
    "    \"over_months\": {\n",
    "      \"date_histogram\": {\n",
    "        \"field\": \"order_date\",\n",
    "        \"calendar_interval\": \"month\",\n",
    "        \"format\": \"yyyy-MM-dd\" \n",
    "      },\n",
    "        \"aggs\":{\n",
    "            \"over_parts\": {\n",
    "              \"terms\": {\n",
    "                \"field\": \"order_parts.keyword\"\n",
    "              }\n",
    "            }\n",
    "        }\n",
    "    }\n",
    "  }\n",
    "}"
   ]
  },
  {
   "cell_type": "code",
   "execution_count": null,
   "id": "e7eb94f0",
   "metadata": {},
   "outputs": [],
   "source": [
    "GET master/_search\n",
    "{\n",
    "  \"query\": {\n",
    "    \"match\": {\n",
    "      \"master_desc\": \"стажа\"\n",
    "    }\n",
    "  }\n",
    "}"
   ]
  }
 ],
 "metadata": {
  "kernelspec": {
   "display_name": "Python 3 (ipykernel)",
   "language": "python",
   "name": "python3"
  },
  "language_info": {
   "codemirror_mode": {
    "name": "ipython",
    "version": 3
   },
   "file_extension": ".py",
   "mimetype": "text/x-python",
   "name": "python",
   "nbconvert_exporter": "python",
   "pygments_lexer": "ipython3",
   "version": "3.8.10"
  }
 },
 "nbformat": 4,
 "nbformat_minor": 5
}
