{
 "cells": [
  {
   "cell_type": "markdown",
   "id": "5bb01a1c-66c4-4cd4-aca3-68067d866867",
   "metadata": {},
   "source": [
    "# Neo4j\n",
    "\n",
    "Image: https://hub.docker.com/_/neo4j\n",
    "\n",
    "docker run \\\n",
    "    --publish=7474:7474 --publish=7687:7687 \\\n",
    "    --volume=$HOME/neo4j/data:/data\n",
    "    --env=NEO4J_AUTH=none \\\n",
    "    neo4j"
   ]
  },
  {
   "cell_type": "markdown",
   "id": "4bb82206-8181-4198-b661-5827a6f09f71",
   "metadata": {},
   "source": [
    "Relationship with props: https://pythontic.com/database/neo4j/create%20nodes%20and%20relationships "
   ]
  },
  {
   "cell_type": "markdown",
   "id": "27a11163-fdac-489b-acb4-6856c6e1f701",
   "metadata": {},
   "source": [
    "Handbook: https://neo4j-contrib.github.io/py2neo/index.html#guides"
   ]
  },
  {
   "cell_type": "markdown",
   "id": "b60ec186-8036-4fdd-84c4-6547c51b026d",
   "metadata": {},
   "source": [
    "GUI (web): http://localhost:7474/browser/"
   ]
  },
  {
   "cell_type": "markdown",
   "id": "d3fe3ee1-1b45-4a5c-8fa6-377471f899a8",
   "metadata": {},
   "source": [
    "Clear DB:\n",
    "\n",
    "```\n",
    "MATCH (n) OPTIONAL MATCH (n)-[r]-() DELETE n,r\n",
    "```"
   ]
  },
  {
   "cell_type": "code",
   "execution_count": 1,
   "id": "01fe6337-38b5-4b42-b844-7110a3c51a6b",
   "metadata": {},
   "outputs": [],
   "source": [
    "import json\n",
    "from elasticsearch import Elasticsearch\n",
    "from py2neo import Graph, Node, Relationship"
   ]
  },
  {
   "cell_type": "code",
   "execution_count": 2,
   "id": "567f2df9",
   "metadata": {},
   "outputs": [],
   "source": [
    "import warnings\n",
    "warnings.filterwarnings('ignore')\n",
    "warnings.filterwarnings('error', category=DeprecationWarning)"
   ]
  },
  {
   "cell_type": "code",
   "execution_count": 3,
   "id": "bb027961-538c-4974-b428-dfbb6a1300cb",
   "metadata": {},
   "outputs": [
    {
     "data": {
      "text/plain": [
       "True"
      ]
     },
     "execution_count": 3,
     "metadata": {},
     "output_type": "execute_result"
    }
   ],
   "source": [
    "client = Elasticsearch([{\"host\": \"127.0.0.1\", \"scheme\": \"http\", \"port\": 9200}])\n",
    "\n",
    "client.ping()"
   ]
  },
  {
   "cell_type": "code",
   "execution_count": 4,
   "id": "a7e7b8ce-8744-4953-8530-afd375ee5eb3",
   "metadata": {},
   "outputs": [],
   "source": [
    "graph_db = Graph(\"bolt://localhost:7687\", user='neo4j', password='12481632')"
   ]
  },
  {
   "cell_type": "code",
   "execution_count": 5,
   "id": "f9b15a60-a2ee-496d-9580-25035c24cf67",
   "metadata": {},
   "outputs": [],
   "source": [
    "searchBody = {\n",
    "  \"size\": 9999,\n",
    "  \"_source\": True,\n",
    "  \"query\": {\n",
    "    \"match_all\": {}\n",
    "  }\n",
    "}\n",
    "\n",
    "result = client.search(index=\"master\", body=searchBody)"
   ]
  },
  {
   "cell_type": "code",
   "execution_count": 6,
   "id": "cfe6f429-1a79-4c9b-a7a2-59dd9af6faa6",
   "metadata": {},
   "outputs": [
    {
     "data": {
      "text/plain": [
       "{'value': 20, 'relation': 'eq'}"
      ]
     },
     "execution_count": 6,
     "metadata": {},
     "output_type": "execute_result"
    }
   ],
   "source": [
    "result['hits']['total']"
   ]
  },
  {
   "cell_type": "code",
   "execution_count": 7,
   "id": "297dce9d-ef14-4b5f-a1eb-babefa0fb06b",
   "metadata": {},
   "outputs": [],
   "source": [
    "masters = result['hits']['hits']"
   ]
  },
  {
   "cell_type": "code",
   "execution_count": 8,
   "id": "00fc8e05-43a6-4a50-9571-860a1adad9a9",
   "metadata": {},
   "outputs": [
    {
     "data": {
      "text/plain": [
       "20"
      ]
     },
     "execution_count": 8,
     "metadata": {},
     "output_type": "execute_result"
    }
   ],
   "source": [
    "len(masters)"
   ]
  },
  {
   "cell_type": "code",
   "execution_count": 9,
   "id": "789dfe7b-fbf4-43e0-9fe2-399b5930903d",
   "metadata": {},
   "outputs": [
    {
     "data": {
      "text/plain": [
       "[{'_index': 'master',\n",
       "  '_type': '_doc',\n",
       "  '_id': '563268',\n",
       "  '_score': 1.0,\n",
       "  '_source': {'master_id': 563268,\n",
       "   'master_desc': 'Милица Руслановна Фомина, Тип Образования: Среднее.',\n",
       "   'master_feedbacks': ['ворчливый, медлительный.',\n",
       "    'ворчливый, медлительный.',\n",
       "    'медлительный, ворчливый.']}},\n",
       " {'_index': 'master',\n",
       "  '_type': '_doc',\n",
       "  '_id': '871908',\n",
       "  '_score': 1.0,\n",
       "  '_source': {'master_id': 871908,\n",
       "   'master_desc': 'Козлов Юрий Фомич, Тип Образования: Среднее.',\n",
       "   'master_feedbacks': ['ворчливый, аккуратный.',\n",
       "    'медлительный, аккуратный.',\n",
       "    'аккуратный, ворчливый.']}},\n",
       " {'_index': 'master',\n",
       "  '_type': '_doc',\n",
       "  '_id': '164475',\n",
       "  '_score': 1.0,\n",
       "  '_source': {'master_id': 164475,\n",
       "   'master_desc': 'Юлий Дмитриевич Константинов, Тип Образования: Среднее.',\n",
       "   'master_feedbacks': ['аккуратный, ворчливый.']}}]"
      ]
     },
     "execution_count": 9,
     "metadata": {},
     "output_type": "execute_result"
    }
   ],
   "source": [
    "masters[:3]"
   ]
  },
  {
   "cell_type": "code",
   "execution_count": 12,
   "id": "f4e4ddd2-bd30-445f-b44c-4dd0d40fa500",
   "metadata": {},
   "outputs": [
    {
     "name": "stdout",
     "output_type": "stream",
     "text": [
      "0).......+\n",
      "1)....+\n",
      "2).........+\n",
      "3).....+\n",
      "4).......+\n",
      "5)...+\n",
      "6)...+\n",
      "7).......+\n",
      "8).....+\n",
      "9)......+\n",
      "10)..+\n",
      "11)...+\n",
      "12).....+\n",
      "13)....+\n",
      "14)......+\n",
      "15)..+\n",
      "16)...+\n",
      "17).....+\n",
      "18)....+\n",
      "19)..........+\n"
     ]
    }
   ],
   "source": [
    "# clear DB\n",
    "graph_db.run(\"MATCH (n) OPTIONAL MATCH (n)-[r]-() DELETE n,r;\")\n",
    "i = 0\n",
    "for master in masters:\n",
    "    try:\n",
    "         print(f'{i})', end='')\n",
    "         MasterNode = Node(\"Master\",master_id=master['_source']['master_id'], master_desc=master['_source']['master_desc'])\n",
    "         graph_db.create(MasterNode)\n",
    "         searchBody = {\n",
    "              \"size\": 9999,\n",
    "              \"_source\": True,\n",
    "              \"query\": {\n",
    "                \"term\": {\n",
    "                  \"order_master_id\": master['_source']['master_id']\n",
    "               }\n",
    "              }\n",
    "            }\n",
    "         result = client.search(index=\"order\", body=searchBody)\n",
    "         orders = result['hits']['hits']\n",
    "         for order in orders:\n",
    "             OrderNode = Node(\"Order\",order_id=order['_source']['order_id'], order_date=order['_source']['order_date'], order_customer_desc=order['_source']['order_customer_desc'], order_price=order['_source']['order_price'])\n",
    "             graph_db.create(OrderNode)\n",
    "             NodesRelationship = Relationship(MasterNode, \"Executed\", OrderNode, order_due_date=order['_source']['order_due_date'], order_fact_completion_date=order['_source']['order_fact_completion_date'])\n",
    "             graph_db.create(NodesRelationship)\n",
    "             print('.', end='')\n",
    "         print(\"+\")\n",
    "         i += 1\n",
    "    except Exception as e:\n",
    "        print(f'Exception: {e}')\n",
    "        continue"
   ]
  },
  {
   "cell_type": "code",
   "execution_count": 13,
   "id": "0f24aa25-9850-481a-9ac0-0408b76c73da",
   "metadata": {},
   "outputs": [
    {
     "name": "stdout",
     "output_type": "stream",
     "text": [
      "'Воробьев Ювеналий Измаилович, Тип Образования: Среднее.'\t10\n"
     ]
    }
   ],
   "source": [
    "try:\n",
    "    cur=graph_db.run(\"MATCH (MAS:Master)-[r:Executed]->(ORD:Order) WITH MAS, count(r) AS num RETURN MAS.master_desc as master_desc, num ORDER BY num DESC LIMIT 1;\")\n",
    "except Exception as e:\n",
    "    print(e)\n",
    "\n",
    "while cur.forward():\n",
    "    print(cur.current)"
   ]
  },
  {
   "cell_type": "code",
   "execution_count": null,
   "id": "97c50736",
   "metadata": {},
   "outputs": [],
   "source": []
  },
  {
   "cell_type": "code",
   "execution_count": null,
   "id": "efcc0ebc",
   "metadata": {},
   "outputs": [],
   "source": []
  }
 ],
 "metadata": {
  "kernelspec": {
   "display_name": "Python 3 (ipykernel)",
   "language": "python",
   "name": "python3"
  },
  "language_info": {
   "codemirror_mode": {
    "name": "ipython",
    "version": 3
   },
   "file_extension": ".py",
   "mimetype": "text/x-python",
   "name": "python",
   "nbconvert_exporter": "python",
   "pygments_lexer": "ipython3",
   "version": "3.8.10"
  }
 },
 "nbformat": 4,
 "nbformat_minor": 5
}
