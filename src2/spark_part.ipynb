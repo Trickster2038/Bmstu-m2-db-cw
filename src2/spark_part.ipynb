{
 "cells": [
  {
   "cell_type": "markdown",
   "id": "50f61992-2f42-4f91-ae49-a4ed79c02dff",
   "metadata": {},
   "source": [
    "https://stackoverflow.com/questions/53252181/python-worker-failed-to-connect-back\n",
    "\n",
    "Schema: https://stackoverflow.com/questions/45276427/unable-connect-to-docker-container-outside-docker-host\n",
    "\n",
    "Config: https://stackoverflow.com/questions/72113678/hdfs-config-for-pyspark\n",
    "\n",
    "IP docker: https://stackoverflow.com/questions/61432807/hadoop-spark-there-are-1-datanodes-running-and-1-nodes-are-excluded-in-th\n",
    "\n",
    "Hosts windows: https://fixergeek.com/fixes/how-to-assign-hostname-to-ip-address-in-windows#:~:text=Press%20the%20Windows%20button%20%2B,key.%20IP%20configuration%20of%20Windows\n",
    "\n",
    "Windows 11: https://www.sysgeeker.com/blog/how-to-add-to-host-file-windows-11.html\n",
    "\n",
    "C:\\Windows\\System32\\drivers\\etc\\hosts\n",
    "\n",
    "hdfs dfsadmin -report\n",
    "\n",
    "https://ruslanmv.com/blog/How-to-install-Hadoop-on-Windows"
   ]
  },
  {
   "cell_type": "code",
   "execution_count": 1,
   "id": "f124af49-c9ab-4602-9d20-13a614995580",
   "metadata": {},
   "outputs": [],
   "source": [
    "from pyspark.sql import SparkSession\n",
    "from elasticsearch import Elasticsearch\n",
    "from pyspark.sql.types import *\n",
    "import findspark\n",
    "findspark.init()"
   ]
  },
  {
   "cell_type": "code",
   "execution_count": 2,
   "id": "8d8b8e5d",
   "metadata": {},
   "outputs": [],
   "source": [
    "import warnings\n",
    "warnings.filterwarnings('ignore')\n",
    "warnings.filterwarnings('error', category=DeprecationWarning)"
   ]
  },
  {
   "cell_type": "code",
   "execution_count": 3,
   "id": "1ff22bbc-a452-46a2-85c9-7aa4f8e4e635",
   "metadata": {},
   "outputs": [
    {
     "data": {
      "text/plain": [
       "True"
      ]
     },
     "execution_count": 3,
     "metadata": {},
     "output_type": "execute_result"
    }
   ],
   "source": [
    "client = Elasticsearch(\"http://localhost:9200\")\n",
    "\n",
    "client.ping()"
   ]
  },
  {
   "cell_type": "code",
   "execution_count": 4,
   "id": "48daacb8-92e6-45b0-9144-6e6c826bbbc1",
   "metadata": {},
   "outputs": [
    {
     "name": "stderr",
     "output_type": "stream",
     "text": [
      "24/03/11 17:41:14 WARN Utils: Your hostname, gwynbleidd-NBR-WAX9 resolves to a loopback address: 127.0.1.1; using 192.168.96.4 instead (on interface wlp0s20f3)\n",
      "24/03/11 17:41:14 WARN Utils: Set SPARK_LOCAL_IP if you need to bind to another address\n",
      "Setting default log level to \"WARN\".\n",
      "To adjust logging level use sc.setLogLevel(newLevel). For SparkR, use setLogLevel(newLevel).\n",
      "24/03/11 17:41:15 WARN NativeCodeLoader: Unable to load native-hadoop library for your platform... using builtin-java classes where applicable\n"
     ]
    }
   ],
   "source": [
    "sparkSession = SparkSession.builder.appName(\"csv4\").getOrCreate()"
   ]
  },
  {
   "cell_type": "code",
   "execution_count": 5,
   "id": "b651213f-35a9-444f-8feb-ca5552e3853b",
   "metadata": {},
   "outputs": [
    {
     "data": {
      "text/html": [
       "\n",
       "            <div>\n",
       "                <p><b>SparkSession - in-memory</b></p>\n",
       "                \n",
       "        <div>\n",
       "            <p><b>SparkContext</b></p>\n",
       "\n",
       "            <p><a href=\"http://192.168.96.4:4040\">Spark UI</a></p>\n",
       "\n",
       "            <dl>\n",
       "              <dt>Version</dt>\n",
       "                <dd><code>v3.5.1</code></dd>\n",
       "              <dt>Master</dt>\n",
       "                <dd><code>local[*]</code></dd>\n",
       "              <dt>AppName</dt>\n",
       "                <dd><code>csv4</code></dd>\n",
       "            </dl>\n",
       "        </div>\n",
       "        \n",
       "            </div>\n",
       "        "
      ],
      "text/plain": [
       "<pyspark.sql.session.SparkSession at 0x7f960b1aa040>"
      ]
     },
     "execution_count": 5,
     "metadata": {},
     "output_type": "execute_result"
    }
   ],
   "source": [
    "sparkSession"
   ]
  },
  {
   "cell_type": "code",
   "execution_count": 6,
   "id": "46f3d011-19c8-4e38-b5cb-902fdc3a2fbf",
   "metadata": {},
   "outputs": [],
   "source": [
    "searchBody = {\n",
    "  \"size\": 9999,\n",
    "  \"_source\": True,\n",
    "  \"query\": {\n",
    "    \"match_all\": {}\n",
    "  }\n",
    "}\n",
    "\n",
    "result = client.search(index=\"master\", body=searchBody)\n",
    "masters = result['hits']['hits']\n",
    "result = client.search(index=\"order\", body=searchBody)\n",
    "orders = result['hits']['hits']"
   ]
  },
  {
   "cell_type": "code",
   "execution_count": 7,
   "id": "93b080a0-e987-4ddb-b4b8-b6cc037f5e6f",
   "metadata": {},
   "outputs": [
    {
     "data": {
      "text/plain": [
       "[{'_index': 'master',\n",
       "  '_type': '_doc',\n",
       "  '_id': '563268',\n",
       "  '_score': 1.0,\n",
       "  '_source': {'master_id': 563268,\n",
       "   'master_desc': 'Милица Руслановна Фомина, Тип Образования: Среднее.',\n",
       "   'master_feedbacks': ['ворчливый, медлительный.',\n",
       "    'ворчливый, медлительный.',\n",
       "    'медлительный, ворчливый.']}}]"
      ]
     },
     "execution_count": 7,
     "metadata": {},
     "output_type": "execute_result"
    }
   ],
   "source": [
    "masters[:1]"
   ]
  },
  {
   "cell_type": "code",
   "execution_count": 8,
   "id": "5d14120d-7eb5-493b-86e5-250faf44ed34",
   "metadata": {},
   "outputs": [],
   "source": [
    "MasterSchema = StructType([\n",
    "    StructField(\"master_id\", IntegerType(), False),\n",
    "    StructField(\"master_desc\", StringType(), False),\n",
    "    StructField(\"master_feedbacks\", StringType(), False)\n",
    "])\n",
    "CustomerSchema = StructType([\n",
    "    StructField(\"order_customer_id\", IntegerType(), False),\n",
    "    StructField(\"order_customer_desc\", StringType(), False)\n",
    "])\n",
    "OrderSchema = StructType([\n",
    "    StructField(\"order_id\", IntegerType(), False),\n",
    "    StructField(\"order_date\", StringType(), False),\n",
    "    StructField(\"order_customer_id\", IntegerType(), False),\n",
    "    # StructField(\"order_customer_desc\", StringType(), False),\n",
    "    StructField(\"order_details_desc\", StringType(), False),\n",
    "    StructField(\"order_due_date\", StringType(), False),\n",
    "    StructField(\"order_fact_completion_date\", StringType(), False),\n",
    "    StructField(\"order_parts\", StringType(), False),\n",
    "    StructField(\"repair_types\", StringType(), False),\n",
    "    StructField(\"order_price\", FloatType(), False),\n",
    "    StructField(\"order_master_id\", IntegerType(), False)\n",
    "])"
   ]
  },
  {
   "cell_type": "code",
   "execution_count": 9,
   "id": "72ae3368-83fc-42b8-b808-8676c881ccb7",
   "metadata": {},
   "outputs": [],
   "source": [
    "MasterTable = []\n",
    "CustomerTable = []\n",
    "OrderTable = []"
   ]
  },
  {
   "cell_type": "code",
   "execution_count": 10,
   "id": "f59a159c-215a-46fc-be4a-d2dc63c72092",
   "metadata": {},
   "outputs": [
    {
     "name": "stderr",
     "output_type": "stream",
     "text": [
      "24/03/11 17:41:32 WARN GarbageCollectionMetrics: To enable non-built-in garbage collector(s) List(G1 Concurrent GC), users should configure it(them) to spark.eventLog.gcMetrics.youngGenerationGarbageCollectors or spark.eventLog.gcMetrics.oldGenerationGarbageCollectors\n"
     ]
    }
   ],
   "source": [
    "CustomerSet = set()"
   ]
  },
  {
   "cell_type": "code",
   "execution_count": 11,
   "id": "1932c2e6-c43d-495b-bd71-234639972231",
   "metadata": {},
   "outputs": [],
   "source": [
    "for master in masters:\n",
    "    MasterTable.append((\n",
    "        master['_source']['master_id'],\n",
    "        master['_source']['master_desc'],\n",
    "        str(master['_source']['master_feedbacks'])\n",
    "    ))\n",
    "for order in orders:\n",
    "    OrderTable.append((\n",
    "        order['_source']['order_id'],\n",
    "        order['_source']['order_date'],\n",
    "        order['_source']['order_customer_id'],\n",
    "        order['_source']['order_details_desc'],\n",
    "        order['_source']['order_due_date'],\n",
    "        order['_source']['order_fact_completion_date'],\n",
    "        str(order['_source']['order_parts']),\n",
    "        str(order['_source']['repair_types']),\n",
    "        order['_source']['order_price'],\n",
    "        order['_source']['order_master_id']\n",
    "    ))\n",
    "    if not order['_source']['order_id'] in CustomerSet:\n",
    "        CustomerSet.add(order['_source']['order_id'])\n",
    "        CustomerTable.append((\n",
    "            order['_source']['order_customer_id'],\n",
    "            order['_source']['order_customer_desc']\n",
    "        ))"
   ]
  },
  {
   "cell_type": "code",
   "execution_count": 12,
   "id": "b7c6dec7-b570-4e92-a03f-286b678fb827",
   "metadata": {},
   "outputs": [],
   "source": [
    "MasterDF = sparkSession.createDataFrame(MasterTable, MasterSchema)\n",
    "OrderDF = sparkSession.createDataFrame(OrderTable, OrderSchema)\n",
    "CustomerDF = sparkSession.createDataFrame(CustomerTable,CustomerSchema)"
   ]
  },
  {
   "cell_type": "code",
   "execution_count": 13,
   "id": "39ac4979-c45c-4b75-82fb-06936bb1f106",
   "metadata": {},
   "outputs": [
    {
     "name": "stderr",
     "output_type": "stream",
     "text": [
      "                                                                                \r"
     ]
    },
    {
     "name": "stdout",
     "output_type": "stream",
     "text": [
      "+---------+--------------------+--------------------+\n",
      "|master_id|         master_desc|    master_feedbacks|\n",
      "+---------+--------------------+--------------------+\n",
      "|   563268|Милица Руслановна...|['ворчливый, медл...|\n",
      "|   871908|Козлов Юрий Фомич...|['ворчливый, акку...|\n",
      "|   164475|Юлий Дмитриевич К...|['аккуратный, вор...|\n",
      "|   464209|Ия Тарасовна Степ...|['аккуратный, мед...|\n",
      "|    22653|Акулина Рудольфов...|['ворчливый, акку...|\n",
      "|   282806|Маслов Емельян Дм...|['ворчливый, медл...|\n",
      "|   736774|Владимирова Анжел...|['аккуратный, вор...|\n",
      "|   300714|Вероника Петровна...|['ворчливый, медл...|\n",
      "|   405064|Хохлов Олег Харла...|['ворчливый, медл...|\n",
      "|   257458|Шестакова Наина В...|['аккуратный, вор...|\n",
      "|   814777|Шарова Жанна Арка...|['ворчливый, медл...|\n",
      "|   220028|Зиновий Димитриев...|['медлительный, в...|\n",
      "|   397809|Тарасова Фёкла Ва...|['медлительный, в...|\n",
      "|   847121|Жуков Ладимир Все...|['медлительный, в...|\n",
      "|   229678|Евпраксия Альберт...|['аккуратный, мед...|\n",
      "|   592194|Котова Валентина ...|['ворчливый, медл...|\n",
      "|   163543|Максимильян Вилен...|['аккуратный, мед...|\n",
      "|   620880|Комиссаров Ким Ав...|['аккуратный, вор...|\n",
      "|   785701|Панфилова Пелагея...|['медлительный, а...|\n",
      "|   394321|Воробьев Ювеналий...|['аккуратный, мед...|\n",
      "+---------+--------------------+--------------------+\n",
      "\n"
     ]
    }
   ],
   "source": [
    "MasterDF.show()"
   ]
  },
  {
   "cell_type": "code",
   "execution_count": 14,
   "id": "87804be8-5da1-452a-b82e-b973f60d4d0b",
   "metadata": {},
   "outputs": [],
   "source": [
    "# OrderDF.show()"
   ]
  },
  {
   "cell_type": "code",
   "execution_count": 15,
   "id": "effd53d1-9b43-45f9-96b7-111191800826",
   "metadata": {},
   "outputs": [],
   "source": [
    "# CustomerDF.show()"
   ]
  },
  {
   "cell_type": "code",
   "execution_count": 14,
   "id": "6144239c-32de-46cb-b0eb-825554feec42",
   "metadata": {},
   "outputs": [
    {
     "name": "stderr",
     "output_type": "stream",
     "text": [
      "                                                                                \r"
     ]
    }
   ],
   "source": [
    "MasterDF.write.csv(path='hdfs://0.0.0.0:9000/master.csv',mode='overwrite', header=True)\n",
    "OrderDF.write.csv(path='hdfs://0.0.0.0:9000/order.csv',mode='overwrite', header=True)\n",
    "CustomerDF.write.csv(path='hdfs://0.0.0.0:9000/customer.csv',mode='overwrite', header=True)"
   ]
  },
  {
   "cell_type": "code",
   "execution_count": 15,
   "id": "4c779c29",
   "metadata": {},
   "outputs": [],
   "source": [
    "data = sparkSession.read.load(\"hdfs://localhost:9000/master.csv\", format=\"csv\",sep=\",\", inferSchema=\"true\", header=\"true\")\n",
    "data.registerTempTable(\"master\")\n",
    "data = sparkSession.read.load(\"hdfs://localhost:9000/order.csv\", format=\"csv\",sep=\",\", inferSchema=\"true\", header=\"true\")\n",
    "data.registerTempTable(\"order\")\n",
    "data = sparkSession.read.load(\"hdfs://localhost:9000/customer.csv\", format=\"csv\",sep=\",\", inferSchema=\"true\", header=\"true\")\n",
    "data.registerTempTable(\"customer\")"
   ]
  },
  {
   "cell_type": "code",
   "execution_count": 16,
   "id": "7f51a2e7",
   "metadata": {},
   "outputs": [
    {
     "name": "stdout",
     "output_type": "stream",
     "text": [
      "+---------+----------------------------------------------------------+--------+----------+--------------+--------------------------+-----------------+---------------------------------------------------------------+\n",
      "|master_id|master_desc                                               |order_id|order_date|order_due_date|order_fact_completion_date|order_customer_id|order_customer_desc                                            |\n",
      "+---------+----------------------------------------------------------+--------+----------+--------------+--------------------------+-----------------+---------------------------------------------------------------+\n",
      "|257458   |Шестакова Наина Владиславовна, Стаж Работы: 9 Л./Г..      |131919  |2024-01-06|2024-04-10    |2024-04-27                |227431           |Имя: Маргарита Валентиновна Чернова; премиальный, постоянный.  |\n",
      "|814777   |Шарова Жанна Аркадьевна, Стаж Работы: 1 Л./Г..            |141550  |2024-01-10|2024-04-03    |2024-04-27                |683623           |Имя: Лора Борисовна Жукова; должник, постоянный.               |\n",
      "|871908   |Козлов Юрий Фомич, Тип Образования: Среднее.              |993858  |2024-01-16|2024-04-08    |2024-04-27                |433504           |Имя: Лукьян Венедиктович Богданов; премиальный, должник.       |\n",
      "|300714   |Вероника Петровна Силина, Стаж Работы: 12 Л./Г..          |683490  |2024-01-22|2024-04-15    |2024-04-20                |269146           |Имя: Алина Оскаровна Орехова; постоянный, должник.             |\n",
      "|736774   |Владимирова Анжелика Эдуардовна, Тип Образования: Среднее.|243483  |2024-02-01|2024-04-05    |2024-04-27                |408481           |Имя: Филатов Карл Алексеевич; должник, премиальный.            |\n",
      "|785701   |Панфилова Пелагея Игоревна, Стаж Работы: 8 Л./Г..         |321753  |2024-01-20|2024-04-05    |2024-04-14                |310962           |Имя: Комаров Ювеналий Изотович; должник, премиальный.          |\n",
      "|563268   |Милица Руслановна Фомина, Тип Образования: Среднее.       |598097  |2024-01-04|2024-04-07    |2024-04-21                |805728           |Имя: Евфросиния Станиславовна Жданова; премиальный, постоянный.|\n",
      "|257458   |Шестакова Наина Владиславовна, Стаж Работы: 9 Л./Г..      |794545  |2024-01-28|2024-04-11    |2024-04-28                |730477           |Имя: Лукин Аркадий Аверьянович; должник, премиальный.          |\n",
      "|464209   |Ия Тарасовна Степанова, Тип Образования: Высшее.          |543677  |2024-01-31|2024-04-01    |2024-04-26                |987015           |Имя: Роман Феоктистович Коновалов; премиальный, должник.       |\n",
      "|405064   |Хохлов Олег Харлампьевич, Стаж Работы: 3 Л./Г..           |687025  |2024-02-28|2024-04-11    |2024-04-19                |853109           |Имя: Федосий Исидорович Рыбаков; премиальный, должник.         |\n",
      "|847121   |Жуков Ладимир Всеволодович, Стаж Работы: 12 Л./Г..        |786535  |2024-01-14|2024-04-01    |2024-04-16                |977695           |Имя: Исай Фролович Мишин; должник, премиальный.                |\n",
      "|164475   |Юлий Дмитриевич Константинов, Тип Образования: Среднее.   |767369  |2024-02-15|2024-04-12    |2024-04-15                |204174           |Имя: Кудряшов Артем Глебович; постоянный, должник.             |\n",
      "|563268   |Милица Руслановна Фомина, Тип Образования: Среднее.       |948558  |2024-02-01|2024-04-23    |2024-04-30                |492289           |Имя: Наталья Егоровна Максимова; постоянный, премиальный.      |\n",
      "|22653    |Акулина Рудольфовна Никитина, Стаж Работы: 15 Л./Г..      |804565  |2024-01-30|2024-04-06    |2024-04-26                |468141           |Имя: Ангелина Захаровна Лукина; должник, премиальный.          |\n",
      "|464209   |Ия Тарасовна Степанова, Тип Образования: Высшее.          |75572   |2024-01-13|2024-04-08    |2024-04-13                |691138           |Имя: Прохоров Андрей Артурович; должник, премиальный.          |\n",
      "|397809   |Тарасова Фёкла Васильевна, Тип Образования: Среднее.      |596544  |2024-02-12|2024-04-04    |2024-04-16                |822221           |Имя: Кудряшов Ростислав Елизарович; постоянный, должник.       |\n",
      "|282806   |Маслов Емельян Дмитриевич, Тип Образования: Высшее.       |161763  |2024-02-13|2024-04-10    |2024-04-29                |608202           |Имя: Гусев Артем Зиновьевич; постоянный, должник.              |\n",
      "|163543   |Максимильян Виленович Гурьев, Стаж Работы: 11 Л./Г..      |271105  |2024-01-09|2024-04-15    |2024-04-19                |569974           |Имя: Серафим Вилорович Герасимов; должник, постоянный.         |\n",
      "|405064   |Хохлов Олег Харлампьевич, Стаж Работы: 3 Л./Г..           |426371  |2023-12-24|2024-04-10    |2024-04-13                |422303           |Имя: Матвеев Эмиль Захарьевич; должник, премиальный.           |\n",
      "|736774   |Владимирова Анжелика Эдуардовна, Тип Образования: Среднее.|371950  |2024-01-24|2024-04-12    |2024-04-14                |507529           |Имя: Глафира Владимировна Колобова; должник, постоянный.       |\n",
      "+---------+----------------------------------------------------------+--------+----------+--------------+--------------------------+-----------------+---------------------------------------------------------------+\n",
      "only showing top 20 rows\n",
      "\n"
     ]
    }
   ],
   "source": [
    "result = sparkSession.sql(\"\"\"select m.master_id, m.master_desc, o.order_id, o.order_date, o.order_due_date, o.order_fact_completion_date, c.order_customer_id, c.order_customer_desc \n",
    "from master m JOIN order o ON o.order_master_id = m.master_id LEFT JOIN customer c ON o.order_customer_id = c.order_customer_id\n",
    "where o.order_fact_completion_date > o.order_due_date\n",
    "\"\"\")\n",
    "result.show(20, False)"
   ]
  },
  {
   "cell_type": "code",
   "execution_count": null,
   "id": "3ce7e46f-f4e0-49af-9233-021433628fe2",
   "metadata": {},
   "outputs": [],
   "source": []
  },
  {
   "cell_type": "code",
   "execution_count": null,
   "id": "9013f10c-5ab6-4941-a02c-a629b09cbc87",
   "metadata": {},
   "outputs": [],
   "source": []
  },
  {
   "cell_type": "code",
   "execution_count": null,
   "id": "c25bcd7c-5eb1-4360-88a2-2f77f4294eeb",
   "metadata": {},
   "outputs": [],
   "source": []
  },
  {
   "cell_type": "code",
   "execution_count": 4,
   "id": "15532f47-a4ee-485c-b012-46fa1709f4b9",
   "metadata": {},
   "outputs": [],
   "source": [
    "sparkSession.stop()"
   ]
  }
 ],
 "metadata": {
  "kernelspec": {
   "display_name": "Python 3 (ipykernel)",
   "language": "python",
   "name": "python3"
  },
  "language_info": {
   "codemirror_mode": {
    "name": "ipython",
    "version": 3
   },
   "file_extension": ".py",
   "mimetype": "text/x-python",
   "name": "python",
   "nbconvert_exporter": "python",
   "pygments_lexer": "ipython3",
   "version": "3.8.10"
  }
 },
 "nbformat": 4,
 "nbformat_minor": 5
}
